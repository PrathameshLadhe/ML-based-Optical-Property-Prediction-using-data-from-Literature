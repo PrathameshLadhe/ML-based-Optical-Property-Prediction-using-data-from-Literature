{
 "cells": [
  {
   "cell_type": "code",
   "execution_count": 1,
   "id": "16019697",
   "metadata": {},
   "outputs": [],
   "source": [
    "import xml.etree.ElementTree as ET\n",
    "import urllib.request"
   ]
  },
  {
   "cell_type": "code",
   "execution_count": 2,
   "id": "e0c9e3ac",
   "metadata": {},
   "outputs": [],
   "source": [
    "parser = ET.XMLParser(encoding=\"utf-8\")"
   ]
  },
  {
   "cell_type": "code",
   "execution_count": 3,
   "id": "9a84768e",
   "metadata": {},
   "outputs": [],
   "source": [
    "filelist = []\n",
    "for i in range(5000,5500):\n",
    "    filename = \"E:/papers/\" + str(i) + \".xml\"\n",
    "    #filelist.append(filename)\n",
    "    mytree = ET.parse(filename)\n",
    "    myroot = mytree.getroot()\n",
    "    objects = myroot[1]\n",
    "    coredata = myroot[0]\n",
    "    doi = str(coredata[3].text)\n",
    "    for child in objects:\n",
    "        if child.attrib['mimetype']==\"image/jpeg\":\n",
    "            ref = str(child.attrib['ref'])\n",
    "            url = (\"https://api.elsevier.com/content/object/doi/\" + doi + \"/ref/\" + ref + \"?apiKey=&httpAccept=image%2Fjpeg\")\n",
    "            save_name = \"E:/papers/\" + str(i) + ref + \".jpeg\"\n",
    "            try:\n",
    "                urllib.request.urlretrieve(url, save_name)\n",
    "            except Exception:\n",
    "                pass\n",
    "            \n",
    "           \n",
    "\n"
   ]
  },
  {
   "cell_type": "code",
   "execution_count": null,
   "id": "e1e97076",
   "metadata": {},
   "outputs": [],
   "source": []
  },
  {
   "cell_type": "code",
   "execution_count": null,
   "id": "a3445ea9",
   "metadata": {},
   "outputs": [],
   "source": []
  }
 ],
 "metadata": {
  "kernelspec": {
   "display_name": "Python 3 (ipykernel)",
   "language": "python",
   "name": "python3"
  },
  "language_info": {
   "codemirror_mode": {
    "name": "ipython",
    "version": 3
   },
   "file_extension": ".py",
   "mimetype": "text/x-python",
   "name": "python",
   "nbconvert_exporter": "python",
   "pygments_lexer": "ipython3",
   "version": "3.9.13"
  }
 },
 "nbformat": 4,
 "nbformat_minor": 5
}
