{
 "cells": [
  {
   "cell_type": "code",
   "execution_count": 2,
   "id": "06b64fc9",
   "metadata": {},
   "outputs": [],
   "source": [
    "import requests\n",
    "import xml.etree.ElementTree as ET"
   ]
  },
  {
   "cell_type": "code",
   "execution_count": 3,
   "id": "7eb61bab",
   "metadata": {},
   "outputs": [],
   "source": [
    "parser = ET.XMLParser(encoding=\"utf-8\")"
   ]
  },
  {
   "cell_type": "code",
   "execution_count": 67,
   "id": "967f79da",
   "metadata": {},
   "outputs": [],
   "source": [
    " filename = \"E:/papers/600.xml\" "
   ]
  },
  {
   "cell_type": "code",
   "execution_count": 68,
   "id": "12c796c3",
   "metadata": {},
   "outputs": [
    {
     "name": "stdout",
     "output_type": "stream",
     "text": [
      "<Element '{http://www.elsevier.com/xml/common/dtd}figure' at 0x000001E2C396A4A8>\n"
     ]
    }
   ],
   "source": [
    "mytree = ET.parse(filename)\n",
    "myroot = mytree.getroot()\n",
    "print(myroot[5][0][1][0][1][2])"
   ]
  },
  {
   "cell_type": "code",
   "execution_count": 69,
   "id": "0e5f2b3f",
   "metadata": {},
   "outputs": [
    {
     "name": "stdout",
     "output_type": "stream",
     "text": [
      "Fig. 1 \n",
      " Schematic cross-section and defined parameters of designed EC-PM-EMF with three layers of air holes. \n",
      " gr1\n",
      "Fig. 2 \n",
      " Colormaps of the mode number and min  \n",
      " gr2\n",
      "Fig. 3 \n",
      " The value of  \n",
      " gr3\n",
      "Fig. 4 \n",
      " Effective index difference  \n",
      " gr4\n",
      "Fig. 5 \n",
      " Minimum  \n",
      " gr5\n",
      "Fig. 6 \n",
      " Mode field intensity and electric vectors (blue arrows) distributions for all 18 polarization modes in EC-PM-FMF at the wavelength of  \n",
      " gr6\n",
      "Fig. 7 \n",
      " Effective index difference ( \n",
      " gr7\n",
      "Fig. 8 \n",
      " (a) Effective mode area ( \n",
      " gr8\n",
      "Fig. 9 \n",
      " Dispersion ( \n",
      " gr9\n",
      "Fig. 10 \n",
      " Diagrammatic drawing of bending radius ( \n",
      " gr10\n",
      "Fig. 11 \n",
      " Bending loss as a function of bending radius for the EC-PM-FMF with different angle: (a) 0°, (b) 30°, (c) 60° and (d) 90° at the wavelength of  \n",
      " gr11\n",
      "Fig. 12 \n",
      " Effect on the min  \n",
      " gr12\n"
     ]
    }
   ],
   "source": [
    "for child in (myroot[5][0][1][0][1]):\n",
    "    if (child[0].text[0]is \"F\"):\n",
    "        print(child[0].text , \"\\n\" , child[1][0].text , \"\\n\", child[2].attrib[\"locator\"])"
   ]
  },
  {
   "cell_type": "code",
   "execution_count": null,
   "id": "4a95159b",
   "metadata": {},
   "outputs": [],
   "source": []
  },
  {
   "cell_type": "code",
   "execution_count": null,
   "id": "cd4b3b58",
   "metadata": {},
   "outputs": [],
   "source": []
  }
 ],
 "metadata": {
  "kernelspec": {
   "display_name": "Python 3 (ipykernel)",
   "language": "python",
   "name": "python3"
  },
  "language_info": {
   "codemirror_mode": {
    "name": "ipython",
    "version": 3
   },
   "file_extension": ".py",
   "mimetype": "text/x-python",
   "name": "python",
   "nbconvert_exporter": "python",
   "pygments_lexer": "ipython3",
   "version": "3.9.13"
  }
 },
 "nbformat": 4,
 "nbformat_minor": 5
}
