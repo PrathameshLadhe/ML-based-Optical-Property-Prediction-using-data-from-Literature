{
 "cells": [
  {
   "cell_type": "code",
   "execution_count": 1,
   "metadata": {},
   "outputs": [],
   "source": [
    "import glob\n",
    "import os\n",
    "from PIL import Image"
   ]
  },
  {
   "cell_type": "code",
   "execution_count": 12,
   "metadata": {},
   "outputs": [],
   "source": [
    "img_dir = \"/home/weixin/Documents/GitProjects/plot_digitizer/crop_patches/\""
   ]
  },
  {
   "cell_type": "code",
   "execution_count": 2,
   "metadata": {},
   "outputs": [],
   "source": [
    "txt_list = sorted(glob.glob(\"./result/*.txt\"))"
   ]
  },
  {
   "cell_type": "code",
   "execution_count": 25,
   "metadata": {},
   "outputs": [],
   "source": [
    "img_id = 40"
   ]
  },
  {
   "cell_type": "code",
   "execution_count": 26,
   "metadata": {},
   "outputs": [
    {
     "data": {
      "text/plain": [
       "10"
      ]
     },
     "execution_count": 26,
     "metadata": {},
     "output_type": "execute_result"
    }
   ],
   "source": [
    "with open(txt_list[img_id], \"r\") as fp:\n",
    "    bboxes = fp.readlines()\n",
    "len(bboxes)"
   ]
  },
  {
   "cell_type": "code",
   "execution_count": 27,
   "metadata": {},
   "outputs": [
    {
     "data": {
      "text/plain": [
       "10"
      ]
     },
     "execution_count": 27,
     "metadata": {},
     "output_type": "execute_result"
    }
   ],
   "source": [
    "detection = []\n",
    "img_name = os.path.join(img_dir, txt_list[img_id].split(\"/\")[-1].replace(\".txt\", \".jpg\")).replace(\"res_\",\"\")\n",
    "img = Image.open(img_name).convert(\"RGB\")\n",
    "# try:\n",
    "#     img = Image.open(img_name).convert(\"RGB\")\n",
    "# except:\n",
    "#     img_name = os.path.join(img_dir, txt_list[img_id].split(\"/\")[-1].replace(\".txt\", \".png\"))\n",
    "#     img = Image.open(img_name).convert(\"RGB\")\n",
    "for b in bboxes:\n",
    "    x1,y1,x2,y2,x3,y3,x4,y4 = b[:-1].split(\",\")\n",
    "    x1, x2 = min([float(x1),float(x2),float(x3),float(x4)]), max([float(x1),float(x2),float(x3),float(x4)])\n",
    "    y1, y2 = min([float(y1),float(y2),float(y3),float(y4)]), max([float(y1),float(y2),float(y3),float(y4)])\n",
    "    patch = img.crop([x1,y1,x2,y2])\n",
    "    detection.append(patch)\n",
    "len(detection)"
   ]
  },
  {
   "cell_type": "code",
   "execution_count": 33,
   "metadata": {},
   "outputs": [],
   "source": [
    "for idx, d in enumerate(detection):\n",
    "    d.save(\"../deep-text-recognition-benchmark/test_demo_images/{}.jpg\".format(idx))"
   ]
  },
  {
   "cell_type": "code",
   "execution_count": 32,
   "metadata": {},
   "outputs": [
    {
     "data": {
      "image/png": "[encoded data removed]",
      "text/plain": [
       "<PIL.Image.Image image mode=RGB size=25x12 at 0x7F1E947D7B10>"
      ]
     },
     "execution_count": 32,
     "metadata": {},
     "output_type": "execute_result"
    }
   ],
   "source": [
    "detection[3]"
   ]
  },
  {
   "cell_type": "code",
   "execution_count": 15,
   "metadata": {},
   "outputs": [
    {
     "data": {
      "text/plain": [
       "['/home/weixin/Documents/GitProjects/plot_digitizer/crop_patches/17776_fig2_a.jpg',\n",
       " '/home/weixin/Documents/GitProjects/plot_digitizer/crop_patches/17776_fig2_b.jpg',\n",
       " '/home/weixin/Documents/GitProjects/plot_digitizer/crop_patches/35006023_fig1_a.jpg',\n",
       " '/home/weixin/Documents/GitProjects/plot_digitizer/crop_patches/35006023_fig2_d.jpg',\n",
       " '/home/weixin/Documents/GitProjects/plot_digitizer/crop_patches/35018040_fig2_a.jpg',\n",
       " '/home/weixin/Documents/GitProjects/plot_digitizer/crop_patches/35030062_fig2_b.jpg',\n",
       " '/home/weixin/Documents/GitProjects/plot_digitizer/crop_patches/35065547_fig2_c.jpg',\n",
       " '/home/weixin/Documents/GitProjects/plot_digitizer/crop_patches/35065547_fig2_d.jpg',\n",
       " '/home/weixin/Documents/GitProjects/plot_digitizer/crop_patches/35065547_fig3_a.jpg',\n",
       " '/home/weixin/Documents/GitProjects/plot_digitizer/crop_patches/35065547_fig3_b.jpg',\n",
       " '/home/weixin/Documents/GitProjects/plot_digitizer/crop_patches/35065547_fig3_c.jpg',\n",
       " '/home/weixin/Documents/GitProjects/plot_digitizer/crop_patches/46000_fig5_b.jpg',\n",
       " '/home/weixin/Documents/GitProjects/plot_digitizer/crop_patches/47229_fig3_a.jpg',\n",
       " '/home/weixin/Documents/GitProjects/plot_digitizer/crop_patches/47229_fig3_b.jpg',\n",
       " '/home/weixin/Documents/GitProjects/plot_digitizer/crop_patches/47229_fig3_c.jpg',\n",
       " '/home/weixin/Documents/GitProjects/plot_digitizer/crop_patches/6603102_fig3_b.jpg',\n",
       " '/home/weixin/Documents/GitProjects/plot_digitizer/crop_patches/6603102_fig3_e.jpg',\n",
       " '/home/weixin/Documents/GitProjects/plot_digitizer/crop_patches/6604176_fig2_b.jpg',\n",
       " '/home/weixin/Documents/GitProjects/plot_digitizer/crop_patches/6604176_fig3_b.jpg',\n",
       " '/home/weixin/Documents/GitProjects/plot_digitizer/crop_patches/6605873_fig1_b.jpg',\n",
       " '/home/weixin/Documents/GitProjects/plot_digitizer/crop_patches/ac501998d_fig3_b.jpg',\n",
       " '/home/weixin/Documents/GitProjects/plot_digitizer/crop_patches/ac501998d_fig3_c.jpg',\n",
       " '/home/weixin/Documents/GitProjects/plot_digitizer/crop_patches/ac501998d_fig3_d.jpg',\n",
       " '/home/weixin/Documents/GitProjects/plot_digitizer/crop_patches/acs.chemmater.9b00009_fig7_c.jpg',\n",
       " '/home/weixin/Documents/GitProjects/plot_digitizer/crop_patches/acs.energyfuels.7b00020_fig3_0.jpg',\n",
       " '/home/weixin/Documents/GitProjects/plot_digitizer/crop_patches/acs.energyfuels.7b00020_fig4_0.jpg',\n",
       " '/home/weixin/Documents/GitProjects/plot_digitizer/crop_patches/acs.energyfuels.7b00020_fig5_a.jpg',\n",
       " '/home/weixin/Documents/GitProjects/plot_digitizer/crop_patches/acs.est.7b00946_fig3_a.jpg',\n",
       " '/home/weixin/Documents/GitProjects/plot_digitizer/crop_patches/acs.est.7b00946_fig3_b.jpg',\n",
       " '/home/weixin/Documents/GitProjects/plot_digitizer/crop_patches/acs.jpcc.6b13024_fig2_b.jpg',\n",
       " '/home/weixin/Documents/GitProjects/plot_digitizer/crop_patches/acs.jpcc.6b13024_fig3_b.jpg',\n",
       " '/home/weixin/Documents/GitProjects/plot_digitizer/crop_patches/acs.jpcc.9b03659_fig5_b.jpg',\n",
       " '/home/weixin/Documents/GitProjects/plot_digitizer/crop_patches/acs.nanolett.6b03986_fig4_a.jpg',\n",
       " '/home/weixin/Documents/GitProjects/plot_digitizer/crop_patches/acscatal.9b01272_fig4_0.jpg',\n",
       " '/home/weixin/Documents/GitProjects/plot_digitizer/crop_patches/acsomega.0c01969_fig4_a.jpg',\n",
       " '/home/weixin/Documents/GitProjects/plot_digitizer/crop_patches/am2011164_fig6_d.jpg',\n",
       " '/home/weixin/Documents/GitProjects/plot_digitizer/crop_patches/am201222_fig4_a.jpg',\n",
       " '/home/weixin/Documents/GitProjects/plot_digitizer/crop_patches/am201256_fig2_b.jpg',\n",
       " '/home/weixin/Documents/GitProjects/plot_digitizer/crop_patches/am201268_fig1_e.jpg',\n",
       " '/home/weixin/Documents/GitProjects/plot_digitizer/crop_patches/am201325_fig3_b.jpg',\n",
       " '/home/weixin/Documents/GitProjects/plot_digitizer/crop_patches/am2014100_fig3_d.jpg',\n",
       " '/home/weixin/Documents/GitProjects/plot_digitizer/crop_patches/am201424_fig1_g.jpg',\n",
       " '/home/weixin/Documents/GitProjects/plot_digitizer/crop_patches/am201456_fig3_d.jpg',\n",
       " '/home/weixin/Documents/GitProjects/plot_digitizer/crop_patches/am201467_fig3_c.jpg',\n",
       " '/home/weixin/Documents/GitProjects/plot_digitizer/crop_patches/am201467_fig3_d.jpg',\n",
       " '/home/weixin/Documents/GitProjects/plot_digitizer/crop_patches/am201478_fig2_a.jpg',\n",
       " '/home/weixin/Documents/GitProjects/plot_digitizer/crop_patches/am201478_fig4_e.jpg',\n",
       " '/home/weixin/Documents/GitProjects/plot_digitizer/crop_patches/am201479_fig2_b.jpg',\n",
       " '/home/weixin/Documents/GitProjects/plot_digitizer/crop_patches/am201515_fig3_b.jpg',\n",
       " '/home/weixin/Documents/GitProjects/plot_digitizer/crop_patches/am201515_fig3_c.jpg',\n",
       " '/home/weixin/Documents/GitProjects/plot_digitizer/crop_patches/am201542_fig3_d.jpg',\n",
       " '/home/weixin/Documents/GitProjects/plot_digitizer/crop_patches/am2016104_fig2_b.jpg',\n",
       " '/home/weixin/Documents/GitProjects/plot_digitizer/crop_patches/am2016150_fig3_d.jpg',\n",
       " '/home/weixin/Documents/GitProjects/plot_digitizer/crop_patches/am2016156_fig2_b.jpg',\n",
       " '/home/weixin/Documents/GitProjects/plot_digitizer/crop_patches/am201615_fig2_b.jpg',\n",
       " '/home/weixin/Documents/GitProjects/plot_digitizer/crop_patches/am201615_fig5_f.jpg',\n",
       " '/home/weixin/Documents/GitProjects/plot_digitizer/crop_patches/am2016191_fig2_d.jpg',\n",
       " '/home/weixin/Documents/GitProjects/plot_digitizer/crop_patches/am201635_fig2_f.jpg',\n",
       " '/home/weixin/Documents/GitProjects/plot_digitizer/crop_patches/am201642_fig2_k.jpg',\n",
       " '/home/weixin/Documents/GitProjects/plot_digitizer/crop_patches/am201642_fig6_c.jpg',\n",
       " '/home/weixin/Documents/GitProjects/plot_digitizer/crop_patches/am201642_fig6_d.jpg',\n",
       " '/home/weixin/Documents/GitProjects/plot_digitizer/crop_patches/am201661_fig6_b.jpg',\n",
       " '/home/weixin/Documents/GitProjects/plot_digitizer/crop_patches/am201697_fig4_a.jpg',\n",
       " '/home/weixin/Documents/GitProjects/plot_digitizer/crop_patches/am201697_fig4_b.jpg',\n",
       " '/home/weixin/Documents/GitProjects/plot_digitizer/crop_patches/am2017103_fig3_c.jpg',\n",
       " '/home/weixin/Documents/GitProjects/plot_digitizer/crop_patches/am2017142_fig1_c.jpg',\n",
       " '/home/weixin/Documents/GitProjects/plot_digitizer/crop_patches/am2017161_fig3_a.jpg',\n",
       " '/home/weixin/Documents/GitProjects/plot_digitizer/crop_patches/am2017161_fig3_b.jpg',\n",
       " '/home/weixin/Documents/GitProjects/plot_digitizer/crop_patches/am2017161_fig3_c.jpg',\n",
       " '/home/weixin/Documents/GitProjects/plot_digitizer/crop_patches/am2017225_fig1_e.jpg',\n",
       " '/home/weixin/Documents/GitProjects/plot_digitizer/crop_patches/am2017230_fig6_a.jpg',\n",
       " '/home/weixin/Documents/GitProjects/plot_digitizer/crop_patches/am2017230_fig6_b.jpg',\n",
       " '/home/weixin/Documents/GitProjects/plot_digitizer/crop_patches/am201795_fig2_a.jpg',\n",
       " '/home/weixin/Documents/GitProjects/plot_digitizer/crop_patches/aps2012167_fig5_a.jpg',\n",
       " '/home/weixin/Documents/GitProjects/plot_digitizer/crop_patches/bjc2011583_fig1_d.jpg',\n",
       " '/home/weixin/Documents/GitProjects/plot_digitizer/crop_patches/cm052291m_fig9_a.jpg',\n",
       " '/home/weixin/Documents/GitProjects/plot_digitizer/crop_patches/cm052291m_fig9_b.jpg',\n",
       " '/home/weixin/Documents/GitProjects/plot_digitizer/crop_patches/cm052291m_fig9_c.jpg',\n",
       " '/home/weixin/Documents/GitProjects/plot_digitizer/crop_patches/cm403597h_fig3_a.jpg',\n",
       " '/home/weixin/Documents/GitProjects/plot_digitizer/crop_patches/cm403597h_fig3_b.jpg',\n",
       " '/home/weixin/Documents/GitProjects/plot_digitizer/crop_patches/cm990774i_fig2_0.jpg',\n",
       " '/home/weixin/Documents/GitProjects/plot_digitizer/crop_patches/cs300816u_fig5_a.jpg',\n",
       " '/home/weixin/Documents/GitProjects/plot_digitizer/crop_patches/es011333e_fig2_0.jpg',\n",
       " '/home/weixin/Documents/GitProjects/plot_digitizer/crop_patches/es0704481_fig4_0.jpg',\n",
       " '/home/weixin/Documents/GitProjects/plot_digitizer/crop_patches/es201677z_fig2_a.jpg',\n",
       " '/home/weixin/Documents/GitProjects/plot_digitizer/crop_patches/es201677z_fig2_b.jpg',\n",
       " '/home/weixin/Documents/GitProjects/plot_digitizer/crop_patches/es9010256_fig1_a.jpg',\n",
       " '/home/weixin/Documents/GitProjects/plot_digitizer/crop_patches/es9010256_fig1_b.jpg',\n",
       " '/home/weixin/Documents/GitProjects/plot_digitizer/crop_patches/ie0301031_fig8_0.jpg',\n",
       " '/home/weixin/Documents/GitProjects/plot_digitizer/crop_patches/ijos201449_fig2_b.jpg',\n",
       " '/home/weixin/Documents/GitProjects/plot_digitizer/crop_patches/ijos201449_fig2_c.jpg',\n",
       " '/home/weixin/Documents/GitProjects/plot_digitizer/crop_patches/ijos201449_fig7_e.jpg',\n",
       " '/home/weixin/Documents/GitProjects/plot_digitizer/crop_patches/ijos201558_fig1_a.jpg',\n",
       " '/home/weixin/Documents/GitProjects/plot_digitizer/crop_patches/ismej2013155_fig3_b.jpg',\n",
       " '/home/weixin/Documents/GitProjects/plot_digitizer/crop_patches/ismej201381_fig3_c.jpg',\n",
       " '/home/weixin/Documents/GitProjects/plot_digitizer/crop_patches/ja405922m_fig5_a.jpg',\n",
       " '/home/weixin/Documents/GitProjects/plot_digitizer/crop_patches/ja907696h_fig4_b.jpg',\n",
       " '/home/weixin/Documents/GitProjects/plot_digitizer/crop_patches/jp046062j_fig9_a.jpg',\n",
       " '/home/weixin/Documents/GitProjects/plot_digitizer/crop_patches/jp052177r_fig2_0.jpg',\n",
       " '/home/weixin/Documents/GitProjects/plot_digitizer/crop_patches/jp063186i_fig7_a.jpg',\n",
       " '/home/weixin/Documents/GitProjects/plot_digitizer/crop_patches/jp211620h_fig6_0.jpg',\n",
       " '/home/weixin/Documents/GitProjects/plot_digitizer/crop_patches/jp3111327_fig15_0.jpg',\n",
       " '/home/weixin/Documents/GitProjects/plot_digitizer/crop_patches/jp511713s_fig3_a.jpg',\n",
       " '/home/weixin/Documents/GitProjects/plot_digitizer/crop_patches/jp511713s_fig3_b.jpg',\n",
       " '/home/weixin/Documents/GitProjects/plot_digitizer/crop_patches/jp511713s_fig3_c.jpg',\n",
       " '/home/weixin/Documents/GitProjects/plot_digitizer/crop_patches/jp511713s_fig3_e.jpg',\n",
       " '/home/weixin/Documents/GitProjects/plot_digitizer/crop_patches/labinvest2013123_fig3_c.jpg',\n",
       " '/home/weixin/Documents/GitProjects/plot_digitizer/crop_patches/labinvest201585_fig5_a.jpg',\n",
       " '/home/weixin/Documents/GitProjects/plot_digitizer/crop_patches/labinvest201585_fig8_a.jpg',\n",
       " '/home/weixin/Documents/GitProjects/plot_digitizer/crop_patches/labinvest201585_fig9_a.jpg',\n",
       " '/home/weixin/Documents/GitProjects/plot_digitizer/crop_patches/lsa201368_fig1_a.jpg',\n",
       " '/home/weixin/Documents/GitProjects/plot_digitizer/crop_patches/lsa201480_fig8_h.jpg',\n",
       " '/home/weixin/Documents/GitProjects/plot_digitizer/crop_patches/lsa201526_fig2_e.jpg',\n",
       " '/home/weixin/Documents/GitProjects/plot_digitizer/crop_patches/lsa201526_fig2_f.jpg',\n",
       " '/home/weixin/Documents/GitProjects/plot_digitizer/crop_patches/lsa201538_fig2_a.jpg',\n",
       " '/home/weixin/Documents/GitProjects/plot_digitizer/crop_patches/lsa201538_fig2_b.jpg',\n",
       " '/home/weixin/Documents/GitProjects/plot_digitizer/crop_patches/lsa201538_fig2_c.jpg']"
      ]
     },
     "execution_count": 15,
     "metadata": {},
     "output_type": "execute_result"
    }
   ],
   "source": [
    "sorted(glob.glob(os.path.join(img_dir, \"*.jpg\")))"
   ]
  },
  {
   "cell_type": "code",
   "execution_count": 16,
   "metadata": {},
   "outputs": [
    {
     "data": {
      "text/plain": [
       "['./result/res_000_am201456_fig3.txt',\n",
       " './result/res_000_am201467_fig3.txt',\n",
       " './result/res_000_am201467_fig5.txt',\n",
       " './result/res_17776_fig2_a.txt',\n",
       " './result/res_17776_fig2_b.txt',\n",
       " './result/res_35006023_fig1_a.txt',\n",
       " './result/res_35006023_fig2_d.txt',\n",
       " './result/res_35018040_fig2_a.txt',\n",
       " './result/res_35030062_fig2_b.txt',\n",
       " './result/res_35065547_fig2_c.txt',\n",
       " './result/res_35065547_fig2_d.txt',\n",
       " './result/res_35065547_fig3_a.txt',\n",
       " './result/res_35065547_fig3_b.txt',\n",
       " './result/res_35065547_fig3_c.txt',\n",
       " './result/res_46000_fig5_b.txt',\n",
       " './result/res_47229_fig3_a.txt',\n",
       " './result/res_47229_fig3_b.txt',\n",
       " './result/res_47229_fig3_c.txt',\n",
       " './result/res_6603102_fig3_b.txt',\n",
       " './result/res_6603102_fig3_e.txt',\n",
       " './result/res_6604176_fig2_b.txt',\n",
       " './result/res_6604176_fig3_b.txt',\n",
       " './result/res_6605873_fig1_b.txt',\n",
       " './result/res_ac501998d_fig3_b.txt',\n",
       " './result/res_ac501998d_fig3_c.txt',\n",
       " './result/res_ac501998d_fig3_d.txt',\n",
       " './result/res_acs.chemmater.9b00009_fig7_c.txt',\n",
       " './result/res_acs.energyfuels.7b00020_fig3_0.txt',\n",
       " './result/res_acs.energyfuels.7b00020_fig4_0.txt',\n",
       " './result/res_acs.energyfuels.7b00020_fig5_a.txt',\n",
       " './result/res_acs.est.7b00946_fig3_a.txt',\n",
       " './result/res_acs.est.7b00946_fig3_b.txt',\n",
       " './result/res_acs.jpcc.6b13024_fig2_b.txt',\n",
       " './result/res_acs.jpcc.6b13024_fig3_b.txt',\n",
       " './result/res_acs.jpcc.9b03659_fig5_b.txt',\n",
       " './result/res_acs.nanolett.6b03986_fig4_a.txt',\n",
       " './result/res_acscatal.9b01272_fig4_0.txt',\n",
       " './result/res_acsomega.0c01969_fig4_a.txt',\n",
       " './result/res_am2011164_fig6_d.txt',\n",
       " './result/res_am201222_fig4_a.txt',\n",
       " './result/res_am201256_fig2_b.txt',\n",
       " './result/res_am201268_fig1_e.txt',\n",
       " './result/res_am201325_fig3_b.txt',\n",
       " './result/res_am2014100_fig3_d.txt',\n",
       " './result/res_am201424_fig1_g.txt',\n",
       " './result/res_am201456_fig3_d.txt',\n",
       " './result/res_am201467_fig3_c.txt',\n",
       " './result/res_am201467_fig3_d.txt',\n",
       " './result/res_am201478_fig2_a.txt',\n",
       " './result/res_am201478_fig4_e.txt',\n",
       " './result/res_am201479_fig2_b.txt',\n",
       " './result/res_am201515_fig3_b.txt',\n",
       " './result/res_am201515_fig3_c.txt',\n",
       " './result/res_am201542_fig3_d.txt',\n",
       " './result/res_am2016104_fig2_b.txt',\n",
       " './result/res_am2016150_fig3_d.txt',\n",
       " './result/res_am2016156_fig2_b.txt',\n",
       " './result/res_am201615_fig2_b.txt',\n",
       " './result/res_am201615_fig5_f.txt',\n",
       " './result/res_am2016191_fig2_d.txt',\n",
       " './result/res_am201635_fig2_f.txt',\n",
       " './result/res_am201642_fig2_k.txt',\n",
       " './result/res_am201642_fig6_c.txt',\n",
       " './result/res_am201642_fig6_d.txt',\n",
       " './result/res_am201661_fig6_b.txt',\n",
       " './result/res_am201697_fig4_a.txt',\n",
       " './result/res_am201697_fig4_b.txt',\n",
       " './result/res_am2017103_fig3_c.txt',\n",
       " './result/res_am2017142_fig1_c.txt',\n",
       " './result/res_am2017161_fig3_a.txt',\n",
       " './result/res_am2017161_fig3_b.txt',\n",
       " './result/res_am2017161_fig3_c.txt',\n",
       " './result/res_am2017225_fig1_e.txt',\n",
       " './result/res_am2017230_fig6_a.txt',\n",
       " './result/res_am2017230_fig6_b.txt',\n",
       " './result/res_am201795_fig2_a.txt',\n",
       " './result/res_aps2012167_fig5_a.txt',\n",
       " './result/res_bjc2011583_fig1_d.txt',\n",
       " './result/res_cm052291m_fig9_a.txt',\n",
       " './result/res_cm052291m_fig9_b.txt',\n",
       " './result/res_cm052291m_fig9_c.txt',\n",
       " './result/res_cm403597h_fig3_a.txt',\n",
       " './result/res_cm403597h_fig3_b.txt',\n",
       " './result/res_cm990774i_fig2_0.txt',\n",
       " './result/res_cs300816u_fig5_a.txt',\n",
       " './result/res_es011333e_fig2_0.txt',\n",
       " './result/res_es0704481_fig4_0.txt',\n",
       " './result/res_es201677z_fig2_a.txt',\n",
       " './result/res_es201677z_fig2_b.txt',\n",
       " './result/res_es9010256_fig1_a.txt',\n",
       " './result/res_es9010256_fig1_b.txt',\n",
       " './result/res_ie0301031_fig8_0.txt',\n",
       " './result/res_ijos201449_fig2_b.txt',\n",
       " './result/res_ijos201449_fig2_c.txt',\n",
       " './result/res_ijos201449_fig7_e.txt',\n",
       " './result/res_ijos201558_fig1_a.txt',\n",
       " './result/res_ismej2013155_fig3_b.txt',\n",
       " './result/res_ismej201381_fig3_c.txt',\n",
       " './result/res_ja405922m_fig5_a.txt',\n",
       " './result/res_ja907696h_fig4_b.txt',\n",
       " './result/res_jp046062j_fig9_a.txt',\n",
       " './result/res_jp052177r_fig2_0.txt',\n",
       " './result/res_jp063186i_fig7_a.txt',\n",
       " './result/res_jp211620h_fig6_0.txt',\n",
       " './result/res_jp3111327_fig15_0.txt',\n",
       " './result/res_jp511713s_fig3_a.txt',\n",
       " './result/res_jp511713s_fig3_b.txt',\n",
       " './result/res_jp511713s_fig3_c.txt',\n",
       " './result/res_jp511713s_fig3_e.txt',\n",
       " './result/res_labinvest2013123_fig3_c.txt',\n",
       " './result/res_labinvest201585_fig5_a.txt',\n",
       " './result/res_labinvest201585_fig8_a.txt',\n",
       " './result/res_labinvest201585_fig9_a.txt',\n",
       " './result/res_lsa201368_fig1_a.txt',\n",
       " './result/res_lsa201480_fig8_h.txt',\n",
       " './result/res_lsa201526_fig2_e.txt',\n",
       " './result/res_lsa201526_fig2_f.txt',\n",
       " './result/res_lsa201538_fig2_a.txt',\n",
       " './result/res_lsa201538_fig2_b.txt',\n",
       " './result/res_lsa201538_fig2_c.txt']"
      ]
     },
     "execution_count": 16,
     "metadata": {},
     "output_type": "execute_result"
    }
   ],
   "source": [
    "txt_list"
   ]
  },
  {
   "cell_type": "code",
   "execution_count": null,
   "metadata": {},
   "outputs": [],
   "source": []
  }
 ],
 "metadata": {
  "kernelspec": {
   "display_name": "Python3 (OCR)",
   "language": "python",
   "name": "ocr"
  },
  "language_info": {
   "codemirror_mode": {
    "name": "ipython",
    "version": 3
   },
   "file_extension": ".py",
   "mimetype": "text/x-python",
   "name": "python",
   "nbconvert_exporter": "python",
   "pygments_lexer": "ipython3",
   "version": "3.7.10"
  }
 },
 "nbformat": 4,
 "nbformat_minor": 4
}
