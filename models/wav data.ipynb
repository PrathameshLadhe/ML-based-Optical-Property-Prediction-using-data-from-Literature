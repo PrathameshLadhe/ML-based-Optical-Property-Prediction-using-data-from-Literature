{
 "cells": [
  {
   "cell_type": "code",
   "execution_count": null,
   "id": "18a07a69",
   "metadata": {},
   "outputs": [],
   "source": [
    "import json\n",
    "import numpy as np"
   ]
  },
  {
   "cell_type": "code",
   "execution_count": null,
   "id": "5dcfe486",
   "metadata": {},
   "outputs": [],
   "source": [
    "with open(r'') as f:\n",
    "    data = json.load(f)"
   ]
  },
  {
   "cell_type": "code",
   "execution_count": null,
   "id": "8e99ef17",
   "metadata": {},
   "outputs": [],
   "source": [
    "listf = ['img', 'leg', 'unit']"
   ]
  },
  {
   "cell_type": "code",
   "execution_count": null,
   "id": "60093e4f",
   "metadata": {},
   "outputs": [],
   "source": [
    "listf2 = ['dep_temp','anneal_temp','anneal_time','thickness','temp','pressure','C','N','H','Sn','I','x_val','y_val','B','Cr','Sb','Se','Cu','Cd','S','Ag','Al','O','Si','Ti','K','Ba','Na','As','Hf','V','F','Mg','Zn','Yb','La','Zr','Pr','Gd','Sc','Co','Ni','Pb','Mo','Ga','P','In','Bi','Te','Er','Tm','Ge','Ir','Br','Cl','Sr','W','Nb','Ta','Tl','Cs','Li','Ca','Mn','Ce','Dy','Y','Ho','Nd','Lu','Fe','Eu','Au','Hg','Sm']"
   ]
  },
  {
   "cell_type": "code",
   "execution_count": null,
   "id": "d20236d4",
   "metadata": {},
   "outputs": [],
   "source": [
    "new_data = []"
   ]
  },
  {
   "cell_type": "code",
   "execution_count": null,
   "id": "09efbdfa",
   "metadata": {},
   "outputs": [],
   "source": [
    "for record in data:\n",
    "\n",
    "    arrx = np.fromstring(record['x_val'], dtype=float, sep=\",\")\n",
    "    arry = np.fromstring(record['y_val'], dtype=float, sep=\",\")\n",
    "\n",
    "    for i in range(len(arrx)):\n",
    "        new_record = {}\n",
    "        new_record['id'] = str(record['id']) + '_' + str(i+1)\n",
    "        for elem in listf:\n",
    "            new_record[elem] = record[elem]\n",
    "        for elem in listf2:\n",
    "            if(record[elem]):\n",
    "                new_record[elem] = float(record[elem])\n",
    "            else:\n",
    "                new_record[elem] = record[elem]\n",
    "\n",
    "        if record['unit'] == 'nm':\n",
    "            new_record['x_val'] = arrx[i]\n",
    "        if record['unit'] == 'ev':\n",
    "            new_record['x_val'] = 1239.84193/arrx[i]\n",
    "        if record['unit'] == 'um':\n",
    "            new_record['x_val'] = arrx[i]*1000\n",
    "        if record['unit'] == 'thz':\n",
    "            new_record['x_val'] = 299792.458/arrx[i]\n",
    "        if record['unit'] == 'cmi':\n",
    "            new_record['x_val'] = 10000000.00/arrx[i]\n",
    "\n",
    "        print(new_record['id'])\n",
    "        new_record['y_val'] = arry[i]\n",
    "        new_data.append(new_record)\n",
    "        \n",
    "        \n",
    "        "
   ]
  },
  {
   "cell_type": "code",
   "execution_count": null,
   "id": "599e9b40",
   "metadata": {},
   "outputs": [],
   "source": [
    "print(new_data)"
   ]
  },
  {
   "cell_type": "code",
   "execution_count": null,
   "id": "b65fc19d",
   "metadata": {},
   "outputs": [],
   "source": [
    "save_file = open(r\"\", \"w\")  \n",
    "json.dump(new_data, save_file, indent=3)  "
   ]
  },
  {
   "cell_type": "code",
   "execution_count": null,
   "id": "5ba008e1",
   "metadata": {},
   "outputs": [],
   "source": [
    "print(len(new_data))"
   ]
  },
  {
   "cell_type": "code",
   "execution_count": null,
   "id": "91a6e941",
   "metadata": {},
   "outputs": [],
   "source": []
  }
 ],
 "metadata": {
  "kernelspec": {
   "display_name": "Python 3 (ipykernel)",
   "language": "python",
   "name": "python3"
  },
  "language_info": {
   "codemirror_mode": {
    "name": "ipython",
    "version": 3
   },
   "file_extension": ".py",
   "mimetype": "text/x-python",
   "name": "python",
   "nbconvert_exporter": "python",
   "pygments_lexer": "ipython3",
   "version": "3.9.13"
  }
 },
 "nbformat": 4,
 "nbformat_minor": 5
}
