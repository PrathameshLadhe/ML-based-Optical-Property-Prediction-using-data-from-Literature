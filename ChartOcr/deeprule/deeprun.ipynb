{
 "cells": [
  {
   "cell_type": "code",
   "execution_count": 1,
   "metadata": {
    "colab": {
     "base_uri": "https://localhost:8080/"
    },
    "executionInfo": {
     "elapsed": 13477,
     "status": "ok",
     "timestamp": 1671008658807,
     "user": {
      "displayName": "Harsh",
      "userId": "14338509782728632248"
     },
     "user_tz": -330
    },
    "id": "q7S74RyRMnMb",
    "outputId": "02750078-f294-460f-c44b-edbdd91f34bb"
   },
   "outputs": [
    {
     "name": "stdout",
     "output_type": "stream",
     "text": [
      "--2022-12-14 09:04:05--  https://repo.anaconda.com/miniconda/Miniconda3-py37_4.8.2-Linux-x86_64.sh\n",
      "Resolving repo.anaconda.com (repo.anaconda.com)... 104.16.131.3, 104.16.130.3, 2606:4700::6810:8203, ...\n",
      "Connecting to repo.anaconda.com (repo.anaconda.com)|104.16.131.3|:443... connected.\n",
      "HTTP request sent, awaiting response... 200 OK\n",
      "Length: 85055499 (81M) [application/x-sh]\n",
      "Saving to: ‘Miniconda3-py37_4.8.2-Linux-x86_64.sh’\n",
      "\n",
      "Miniconda3-py37_4.8 100%[===================>]  81.12M  69.0MB/s    in 1.2s    \n",
      "\n",
      "2022-12-14 09:04:06 (69.0 MB/s) - ‘Miniconda3-py37_4.8.2-Linux-x86_64.sh’ saved [85055499/85055499]\n",
      "\n",
      "PREFIX=/usr/local\n",
      "Unpacking payload ...\n",
      "Collecting package metadata (current_repodata.json): - \b\b\\ \b\bdone\n",
      "Solving environment: / \b\b- \b\bdone\n",
      "\n",
      "## Package Plan ##\n",
      "\n",
      "  environment location: /usr/local\n",
      "\n",
      "  added / updated specs:\n",
      "    - _libgcc_mutex==0.1=main\n",
      "    - asn1crypto==1.3.0=py37_0\n",
      "    - ca-certificates==2020.1.1=0\n",
      "    - certifi==2019.11.28=py37_0\n",
      "    - cffi==1.14.0=py37h2e261b9_0\n",
      "    - chardet==3.0.4=py37_1003\n",
      "    - conda-package-handling==1.6.0=py37h7b6447c_0\n",
      "    - conda==4.8.2=py37_0\n",
      "    - cryptography==2.8=py37h1ba5d50_0\n",
      "    - idna==2.8=py37_0\n",
      "    - ld_impl_linux-64==2.33.1=h53a641e_7\n",
      "    - libedit==3.1.20181209=hc058e9b_0\n",
      "    - libffi==3.2.1=hd88cf55_4\n",
      "    - libgcc-ng==9.1.0=hdf63c60_0\n",
      "    - libstdcxx-ng==9.1.0=hdf63c60_0\n",
      "    - ncurses==6.2=he6710b0_0\n",
      "    - openssl==1.1.1d=h7b6447c_4\n",
      "    - pip==20.0.2=py37_1\n",
      "    - pycosat==0.6.3=py37h7b6447c_0\n",
      "    - pycparser==2.19=py37_0\n",
      "    - pyopenssl==19.1.0=py37_0\n",
      "    - pysocks==1.7.1=py37_0\n",
      "    - python==3.7.6=h0371630_2\n",
      "    - readline==7.0=h7b6447c_5\n",
      "    - requests==2.22.0=py37_1\n",
      "    - ruamel_yaml==0.15.87=py37h7b6447c_0\n",
      "    - setuptools==45.2.0=py37_0\n",
      "    - six==1.14.0=py37_0\n",
      "    - sqlite==3.31.1=h7b6447c_0\n",
      "    - tk==8.6.8=hbc83047_0\n",
      "    - tqdm==4.42.1=py_0\n",
      "    - urllib3==1.25.8=py37_0\n",
      "    - wheel==0.34.2=py37_0\n",
      "    - xz==5.2.4=h14c3975_4\n",
      "    - yaml==0.1.7=had09818_2\n",
      "    - zlib==1.2.11=h7b6447c_3\n",
      "\n",
      "\n",
      "The following NEW packages will be INSTALLED:\n",
      "\n",
      "  _libgcc_mutex      pkgs/main/linux-64::_libgcc_mutex-0.1-main\n",
      "  asn1crypto         pkgs/main/linux-64::asn1crypto-1.3.0-py37_0\n",
      "  ca-certificates    pkgs/main/linux-64::ca-certificates-2020.1.1-0\n",
      "  certifi            pkgs/main/linux-64::certifi-2019.11.28-py37_0\n",
      "  cffi               pkgs/main/linux-64::cffi-1.14.0-py37h2e261b9_0\n",
      "  chardet            pkgs/main/linux-64::chardet-3.0.4-py37_1003\n",
      "  conda              pkgs/main/linux-64::conda-4.8.2-py37_0\n",
      "  conda-package-han~ pkgs/main/linux-64::conda-package-handling-1.6.0-py37h7b6447c_0\n",
      "  cryptography       pkgs/main/linux-64::cryptography-2.8-py37h1ba5d50_0\n",
      "  idna               pkgs/main/linux-64::idna-2.8-py37_0\n",
      "  ld_impl_linux-64   pkgs/main/linux-64::ld_impl_linux-64-2.33.1-h53a641e_7\n",
      "  libedit            pkgs/main/linux-64::libedit-3.1.20181209-hc058e9b_0\n",
      "  libffi             pkgs/main/linux-64::libffi-3.2.1-hd88cf55_4\n",
      "  libgcc-ng          pkgs/main/linux-64::libgcc-ng-9.1.0-hdf63c60_0\n",
      "  libstdcxx-ng       pkgs/main/linux-64::libstdcxx-ng-9.1.0-hdf63c60_0\n",
      "  ncurses            pkgs/main/linux-64::ncurses-6.2-he6710b0_0\n",
      "  openssl            pkgs/main/linux-64::openssl-1.1.1d-h7b6447c_4\n",
      "  pip                pkgs/main/linux-64::pip-20.0.2-py37_1\n",
      "  pycosat            pkgs/main/linux-64::pycosat-0.6.3-py37h7b6447c_0\n",
      "  pycparser          pkgs/main/linux-64::pycparser-2.19-py37_0\n",
      "  pyopenssl          pkgs/main/linux-64::pyopenssl-19.1.0-py37_0\n",
      "  pysocks            pkgs/main/linux-64::pysocks-1.7.1-py37_0\n",
      "  python             pkgs/main/linux-64::python-3.7.6-h0371630_2\n",
      "  readline           pkgs/main/linux-64::readline-7.0-h7b6447c_5\n",
      "  requests           pkgs/main/linux-64::requests-2.22.0-py37_1\n",
      "  ruamel_yaml        pkgs/main/linux-64::ruamel_yaml-0.15.87-py37h7b6447c_0\n",
      "  setuptools         pkgs/main/linux-64::setuptools-45.2.0-py37_0\n",
      "  six                pkgs/main/linux-64::six-1.14.0-py37_0\n",
      "  sqlite             pkgs/main/linux-64::sqlite-3.31.1-h7b6447c_0\n",
      "  tk                 pkgs/main/linux-64::tk-8.6.8-hbc83047_0\n",
      "  tqdm               pkgs/main/noarch::tqdm-4.42.1-py_0\n",
      "  urllib3            pkgs/main/linux-64::urllib3-1.25.8-py37_0\n",
      "  wheel              pkgs/main/linux-64::wheel-0.34.2-py37_0\n",
      "  xz                 pkgs/main/linux-64::xz-5.2.4-h14c3975_4\n",
      "  yaml               pkgs/main/linux-64::yaml-0.1.7-had09818_2\n",
      "  zlib               pkgs/main/linux-64::zlib-1.2.11-h7b6447c_3\n",
      "\n",
      "\n",
      "Preparing transaction: | \b\b/ \b\b- \b\bdone\n",
      "Executing transaction: | \b\b/ \b\b- \b\b\\ \b\b| \b\b/ \b\b- \b\b\\ \b\b| \b\b/ \b\b- \b\b\\ \b\b| \b\b/ \b\bdone\n",
      "installation finished.\n",
      "WARNING:\n",
      "    You currently have a PYTHONPATH environment variable set. This may cause\n",
      "    unexpected behavior when running the Python interpreter in Miniconda3.\n",
      "    For best results, please verify that your PYTHONPATH only points to\n",
      "    directories of packages that are compatible with the Python interpreter\n",
      "    in Miniconda3: /usr/local\n"
     ]
    }
   ],
   "source": [
    "################################################################################\n",
    "# INSTALL CONDA ON GOOGLE COLAB\n",
    "################################################################################\n",
    "! wget https://repo.anaconda.com/miniconda/Miniconda3-py37_4.8.2-Linux-x86_64.sh\n",
    "! chmod +x Miniconda3-py37_4.8.2-Linux-x86_64.sh\n",
    "! bash ./Miniconda3-py37_4.8.2-Linux-x86_64.sh -b -f -p /usr/local\n",
    "import sys\n",
    "sys.path.append('/usr/local/lib/python3.7/site-packages/')\n"
   ]
  },
  {
   "cell_type": "code",
   "execution_count": 2,
   "metadata": {
    "executionInfo": {
     "elapsed": 9,
     "status": "ok",
     "timestamp": 1671008658808,
     "user": {
      "displayName": "Harsh",
      "userId": "14338509782728632248"
     },
     "user_tz": -330
    },
    "id": "yr1_B-o2NdNc"
   },
   "outputs": [],
   "source": [
    "!unset PYTHONPATH"
   ]
  },
  {
   "cell_type": "code",
   "execution_count": 3,
   "metadata": {
    "colab": {
     "base_uri": "https://localhost:8080/"
    },
    "executionInfo": {
     "elapsed": 391058,
     "status": "ok",
     "timestamp": 1671009049859,
     "user": {
      "displayName": "Harsh",
      "userId": "14338509782728632248"
     },
     "user_tz": -330
    },
    "id": "d92DVGHuNg2d",
    "outputId": "0146877e-c985-4703-811d-8efc4507ee00"
   },
   "outputs": [
    {
     "name": "stdout",
     "output_type": "stream",
     "text": [
      "Mounted at /content/gdrive\n"
     ]
    }
   ],
   "source": [
    "from google.colab import drive\n",
    "\n",
    "drive.mount('/content/gdrive')\n",
    "root_path = 'gdrive/My Drive/Colab Notebooks/deeprule'"
   ]
  },
  {
   "cell_type": "code",
   "execution_count": 4,
   "metadata": {
    "colab": {
     "base_uri": "https://localhost:8080/"
    },
    "executionInfo": {
     "elapsed": 8,
     "status": "ok",
     "timestamp": 1671009049860,
     "user": {
      "displayName": "Harsh",
      "userId": "14338509782728632248"
     },
     "user_tz": -330
    },
    "id": "9ym6xBU9Nq8n",
    "outputId": "9fe641ec-b257-45fe-8c48-bd9e162ab423"
   },
   "outputs": [
    {
     "name": "stdout",
     "output_type": "stream",
     "text": [
      "/content/gdrive/My Drive/Colab Notebooks/deeprule\n"
     ]
    }
   ],
   "source": [
    "%cd /content/gdrive/My Drive/Colab Notebooks/deeprule "
   ]
  },
  {
   "cell_type": "code",
   "execution_count": 5,
   "metadata": {
    "colab": {
     "base_uri": "https://localhost:8080/"
    },
    "executionInfo": {
     "elapsed": 250106,
     "status": "ok",
     "timestamp": 1671009299962,
     "user": {
      "displayName": "Harsh",
      "userId": "14338509782728632248"
     },
     "user_tz": -330
    },
    "id": "wirjpLmDN4GZ",
    "outputId": "76563b04-15f0-47fe-e57b-d9d264b85085"
   },
   "outputs": [
    {
     "name": "stdout",
     "output_type": "stream",
     "text": [
      "\n",
      "Downloading and Extracting Packages\n",
      "\r",
      "_libgcc_mutex-0.1    | :   0% 0/1 [00:00<?, ?it/s]\r",
      "_libgcc_mutex-0.1    | : 100% 1.0/1 [00:00<00:00,  8.13it/s]\n",
      "blas-1.0             | : 100% 1.0/1 [00:00<00:00, 13.59it/s]\n",
      "ca-certificates-2019 | : 100% 1.0/1 [00:00<00:00,  7.63it/s]               \n",
      "cudatoolkit-10.0.130 | : 100% 1.0/1 [00:47<00:00, 47.51s/it]               \n",
      "freeglut-2.8.1       | : 100% 1.0/1 [00:00<00:00,  3.06s/it]                \n",
      "intel-openmp-2018.0. | : 100% 1.0/1 [00:00<00:00,  3.51s/it]                 \n",
      "libgcc-ng-7.2.0      | : 100% 1.0/1 [00:01<00:00,  1.41s/it]               \n",
      "libgfortran-ng-7.2.0 | : 100% 1.0/1 [00:00<00:00,  7.10s/it]                 \n",
      "libstdcxx-ng-7.2.0   | : 100% 1.0/1 [00:00<00:00,  7.36s/it]                \n",
      "bzip2-1.0.6          | : 100% 1.0/1 [00:00<00:00,  2.71it/s]              \n",
      "expat-2.2.5          | : 100% 1.0/1 [00:00<00:00,  4.54it/s]                \n",
      "gflags-2.2.1         | : 100% 1.0/1 [00:00<00:00,  1.61s/it]                \n",
      "graphite2-1.3.11     | : 100% 1.0/1 [00:00<00:00,  1.93it/s]                \n",
      "icu-58.2             | : 100% 1.0/1 [00:03<00:00,  3.78s/it]              \n",
      "jpeg-9b              | : 100% 1.0/1 [00:00<00:00,  4.29it/s]                \n",
      "libffi-3.2.1         | : 100% 1.0/1 [00:00<00:00,  6.71it/s]               \n",
      "libglu-9.0.0         | : 100% 1.0/1 [00:00<00:00,  2.68s/it]                \n",
      "libopus-1.2.1        | : 100% 1.0/1 [00:00<00:00,  2.46s/it]               \n",
      "libvpx-1.6.1         | : 100% 1.0/1 [00:00<00:00,  7.57s/it]               \n",
      "libxcb-1.13          | : 100% 1.0/1 [00:00<00:00,  2.74s/it]                \n",
      "mkl-2018.0.2         | : 100% 1.0/1 [00:35<00:00, 124.16s/it]             \n",
      "ncurses-6.0          | : 100% 1.0/1 [00:00<00:00,  5.32s/it]                 \n",
      "openssl-1.0.2p       | : 100% 1.0/1 [00:01<00:00,  4.21s/it]               \n",
      "pcre-8.42            | : 100% 1.0/1 [00:00<00:00,  5.57it/s]                \n",
      "pixman-0.34.0        | : 100% 1.0/1 [00:00<00:00,  3.03it/s]               \n",
      "tbb-2018.0.4         | : 100% 1.0/1 [00:00<00:00,  1.90it/s]               \n",
      "tk-8.6.7             | : 100% 1.0/1 [00:00<00:00,  8.67s/it]               \n",
      "xz-5.2.3             | : 100% 1.0/1 [00:00<00:00,  2.37s/it]                \n",
      "yaml-0.1.7           | : 100% 1.0/1 [00:00<00:00,  6.06it/s]                \n",
      "zlib-1.2.11          | : 100% 1.0/1 [00:00<00:00,  6.42it/s]                \n",
      "ffmpeg-3.4           | : 100% 1.0/1 [00:01<00:00, 33.13s/it]                \n",
      "glib-2.56.1          | : 100% 1.0/1 [00:01<00:00,  1.56s/it]               \n",
      "glog-0.3.5           | : 100% 1.0/1 [00:00<00:00,  6.23it/s]                \n",
      "hdf5-1.8.18          | : 100% 1.0/1 [00:01<00:00,  1.47s/it]               \n",
      "jasper-2.0.14        | : 100% 1.0/1 [00:00<00:00,  3.80s/it]               \n",
      "libedit-3.1          | : 100% 1.0/1 [00:00<00:00,  5.14it/s]               \n",
      "libpng-1.6.34        | : 100% 1.0/1 [00:00<00:00,  2.56s/it]                \n",
      "libprotobuf-3.5.2    | : 100% 1.0/1 [00:01<00:00,  8.04s/it]               \n",
      "libtiff-4.0.9        | : 100% 1.0/1 [00:00<00:00,  2.83s/it]               \n",
      "libxml2-2.9.8        | : 100% 1.0/1 [00:00<00:00,  6.00s/it]               \n",
      "readline-7.0         | : 100% 1.0/1 [00:00<00:00,  4.74s/it]               \n",
      "dbus-1.13.2          | : 100% 1.0/1 [00:00<00:00,  2.68s/it]               \n",
      "freetype-2.8         | : 100% 1.0/1 [00:00<00:00,  4.28s/it]               \n",
      "gstreamer-1.14.0     | : 100% 1.0/1 [00:00<00:00, 21.25s/it]                 \n",
      "sqlite-3.23.1        | : 100% 1.0/1 [00:00<00:00,  5.96s/it]               \n",
      "fontconfig-2.12.6    | : 100% 1.0/1 [00:00<00:00,  5.30it/s]                \n",
      "gst-plugins-base-1.1 | : 100% 1.0/1 [00:01<00:00, 15.80s/it]               \n",
      "python-3.6.5         | : 100% 1.0/1 [00:04<00:00, 28.78s/it]              \n",
      "asn1crypto-1.2.0     | : 100% 1.0/1 [00:00<00:00,  4.52it/s]                \n",
      "cairo-1.14.12        | : 100% 1.0/1 [00:00<00:00,  7.26s/it]                 \n",
      "certifi-2019.11.28   | : 100% 1.0/1 [00:00<00:00,  6.03it/s]                \n",
      "chardet-3.0.4        | : 100% 1.0/1 [00:00<00:00,  6.63it/s]                \n",
      "cryptography-vectors | : 100% 1.0/1 [00:07<00:00,  7.46s/it]               \n",
      "future-0.16.0        | : 100% 1.0/1 [00:00<00:00,  2.88s/it]               \n",
      "idna-2.8             | : 100% 1.0/1 [00:00<00:00,  7.82it/s]\n",
      "kiwisolver-1.0.1     | : 100% 1.0/1 [00:00<00:00,  6.81it/s]               \n",
      "ninja-1.8.2          | : 100% 1.0/1 [00:00<00:00,  2.04it/s]               \n",
      "numpy-base-1.14.3    | : 100% 1.0/1 [00:02<00:00,  2.23s/it]              \n",
      "olefile-0.45.1       | : 100% 1.0/1 [00:00<00:00,  6.82it/s]                \n",
      "pycparser-2.18       | : 100% 1.0/1 [00:00<00:00,  5.92it/s]                \n",
      "pyparsing-2.2.0      | : 100% 1.0/1 [00:00<00:00,  6.24it/s]               \n",
      "pysocks-1.7.1        | : 100% 1.0/1 [00:00<00:00,  9.09it/s]               \n",
      "pytz-2018.4          | : 100% 1.0/1 [00:00<00:00,  3.01it/s]               \n",
      "pyyaml-3.12          | : 100% 1.0/1 [00:00<00:00,  4.94it/s]               \n",
      "qt-5.9.5             | : 100% 1.0/1 [00:14<00:00, 51.09s/it]              \n",
      "sip-4.19.8           | : 100% 1.0/1 [00:00<00:00,  1.44s/it]               \n",
      "six-1.11.0           | : 100% 1.0/1 [00:00<00:00,  7.82it/s]               \n",
      "sqlparse-0.3.0       | : 100% 1.0/1 [00:00<00:00,  8.46it/s]              \n",
      "tbb4py-2018.0.4      | : 100% 1.0/1 [00:00<00:00,  1.16s/it]                \n",
      "tornado-5.0.2        | : 100% 1.0/1 [00:00<00:00,  2.75s/it]              \n",
      "tqdm-4.23.0          | : 100% 1.0/1 [00:00<00:00,  7.87it/s]              \n",
      "cffi-1.11.5          | : 100% 1.0/1 [00:00<00:00,  4.67it/s]                \n",
      "cycler-0.10.0        | : 100% 1.0/1 [00:00<00:00,  8.57it/s]\n",
      "django-2.2.5         | : 100% 1.0/1 [00:01<00:00, 10.68s/it]               \n",
      "harfbuzz-1.7.6       | : 100% 1.0/1 [00:00<00:00,  3.50s/it]               \n",
      "pillow-5.1.0         | : 100% 1.0/1 [00:00<00:00,  3.84s/it]                 \n",
      "pyqt-5.9.2           | : 100% 1.0/1 [00:03<00:00,  3.48s/it]               \n",
      "setuptools-39.1.0    | : 100% 1.0/1 [00:00<00:00,  1.79s/it]              \n",
      "cryptography-2.3     | : 100% 1.0/1 [00:00<00:00,  2.94s/it]                 \n",
      "protobuf-3.5.2       | : 100% 1.0/1 [00:00<00:00, 10.60s/it]               \n",
      "wheel-0.31.0         | : 100% 1.0/1 [00:00<00:00,  7.37it/s]               \n",
      "pip-10.0.1           | : 100% 1.0/1 [00:00<00:00,  5.87s/it]               \n",
      "pyopenssl-19.0.0     | : 100% 1.0/1 [00:00<00:00,  8.16it/s]                \n",
      "urllib3-1.25.7       | : 100% 1.0/1 [00:00<00:00,  4.81it/s]                \n",
      "requests-2.22.0      | : 100% 1.0/1 [00:00<00:00,  2.21it/s]                \n",
      "h5py-2.8.0           | : 100% 1.0/1 [00:00<00:00,  4.39s/it]               \n",
      "matplotlib-2.2.2     | : 100% 1.0/1 [00:01<00:00, 14.76s/it]               \n",
      "mkl_fft-1.0.1        | : 100% 1.0/1 [00:00<00:00,  5.31it/s]                \n",
      "mkl_random-1.0.1     | : 100% 1.0/1 [00:00<00:00,  2.00s/it]                \n",
      "numpy-1.14.3         | : 100% 1.0/1 [00:00<00:00,  6.68it/s]               \n",
      "opencv-3.3.1         | : 100% 1.0/1 [00:06<00:00, 39.39s/it]               \n",
      "pytorch-1.1.0        | : 100% 1.0/1 [01:01<00:00, 61.87s/it]               \n",
      "scipy-1.1.0          | : 100% 1.0/1 [00:03<00:00,  3.46s/it]               \n",
      "caffe2-cuda8.0-cudnn | : 100% 1.0/1 [00:07<00:00,  7.69s/it]\n",
      "scikit-learn-0.19.1  | : 100% 1.0/1 [00:02<00:00,  2.91s/it]               \n",
      "torchvision-0.2.1    | : 100% 1.0/1 [00:00<00:00,  2.53it/s]               \n",
      "Preparing transaction: - \b\b\\ \b\b| \b\b/ \b\b- \b\b\\ \b\b| \b\b/ \b\b- \b\b\\ \b\b| \b\b/ \b\b- \b\bdone\n",
      "Verifying transaction: | \b\b/ \b\b- \b\b\\ \b\b| \b\b/ \b\b- \b\b\\ \b\b| \b\b/ \b\b- \b\b\\ \b\b| \b\b/ \b\b- \b\b\\ \b\b| \b\b/ \b\b- \b\b\\ \b\b| \b\b/ \b\b- \b\b\\ \b\b| \b\b/ \b\b- \b\b\\ \b\b| \b\b/ \b\b- \b\b\\ \b\b| \b\b/ \b\b- \b\b\\ \b\b| \b\b/ \b\b- \b\b\\ \b\b| \b\b/ \b\b- \b\b\\ \b\b| \b\b/ \b\b- \b\b\\ \b\b| \b\b/ \b\b- \b\b\\ \b\b| \b\bdone\n",
      "Executing transaction: - \b\b\\ \b\b| \b\b/ \b\b- \b\b\\ \b\b| \b\b/ \b\b- \b\b\\ \b\b| \b\b/ \b\b- \b\b\\ \b\b| \b\b/ \b\b- \b\b\\ \b\b| \b\b/ \b\b- \b\b\\ \b\b| \b\b/ \b\b- \b\b\\ \b\b| \b\b/ \b\b- \b\b\\ \b\b| \b\b/ \b\b- \b\b\\ \b\b| \b\b/ \b\b- \b\bdone\n"
     ]
    }
   ],
   "source": [
    "! conda create --name deep --file DeepRule.txt"
   ]
  },
  {
   "cell_type": "code",
   "execution_count": 6,
   "metadata": {
    "executionInfo": {
     "elapsed": 914,
     "status": "ok",
     "timestamp": 1671009300868,
     "user": {
      "displayName": "Harsh",
      "userId": "14338509782728632248"
     },
     "user_tz": -330
    },
    "id": "NNATLVjE2ZHH"
   },
   "outputs": [],
   "source": [
    "! source activate deep"
   ]
  },
  {
   "cell_type": "code",
   "execution_count": 7,
   "metadata": {
    "colab": {
     "base_uri": "https://localhost:8080/"
    },
    "executionInfo": {
     "elapsed": 198817,
     "status": "ok",
     "timestamp": 1671009499670,
     "user": {
      "displayName": "Harsh",
      "userId": "14338509782728632248"
     },
     "user_tz": -330
    },
    "id": "gJ3uaZFz3LnT",
    "outputId": "4c62570d-e8d7-4a7f-f77c-10ff63c8059e"
   },
   "outputs": [
    {
     "name": "stdout",
     "output_type": "stream",
     "text": [
      "Looking in indexes: https://pypi.org/simple, https://us-python.pkg.dev/colab-wheels/public/simple/\n",
      "Collecting torch\n",
      "  Downloading torch-1.13.0-cp37-cp37m-manylinux1_x86_64.whl (890.2 MB)\n",
      "\u001b[K     |██████████████████████████████  | 834.1 MB 1.3 MB/s eta 0:00:44tcmalloc: large alloc 1147494400 bytes == 0x5602f3fce000 @  0x7ff064cab615 0x5602f1bb3b4d 0x5602f1bb58bf 0x5602f1bbbf3d 0x5602f1bd0c6f 0x5602f1c2081c 0x5602f1b756f9 0x5602f1bbb8b5 0x5602f1c206c9 0x5602f1b756f9 0x5602f1bbb917 0x5602f1c1d0a6 0x5602f1bd13e1 0x5602f1c1c666 0x5602f1bd13e1 0x5602f1c1c666 0x5602f1bd13e1 0x5602f1c1c666 0x5602f1bbb68b 0x5602f1c1bfd6 0x5602f1b756f9 0x5602f1bbb917 0x5602f1c1d0a6 0x5602f1b756f9 0x5602f1bbb917 0x5602f1c1d0a6 0x5602f1bbb68b 0x5602f1c1c260 0x5602f1bbb68b 0x5602f1c1c260 0x5602f1b76030\n",
      "\u001b[K     |████████████████████████████████| 890.2 MB 6.3 kB/s \n",
      "\u001b[?25hCollecting nvidia-cuda-runtime-cu11==11.7.99\n",
      "  Downloading nvidia_cuda_runtime_cu11-11.7.99-py3-none-manylinux1_x86_64.whl (849 kB)\n",
      "\u001b[K     |████████████████████████████████| 849 kB 56.0 MB/s \n",
      "\u001b[?25hCollecting nvidia-cuda-nvrtc-cu11==11.7.99\n",
      "  Downloading nvidia_cuda_nvrtc_cu11-11.7.99-2-py3-none-manylinux1_x86_64.whl (21.0 MB)\n",
      "\u001b[K     |████████████████████████████████| 21.0 MB 1.4 MB/s \n",
      "\u001b[?25hCollecting nvidia-cublas-cu11==11.10.3.66\n",
      "  Downloading nvidia_cublas_cu11-11.10.3.66-py3-none-manylinux1_x86_64.whl (317.1 MB)\n",
      "\u001b[K     |████████████████████████████████| 317.1 MB 29 kB/s \n",
      "\u001b[?25hCollecting nvidia-cudnn-cu11==8.5.0.96\n",
      "  Downloading nvidia_cudnn_cu11-8.5.0.96-2-py3-none-manylinux1_x86_64.whl (557.1 MB)\n",
      "\u001b[K     |████████████████████████████████| 557.1 MB 10 kB/s \n",
      "\u001b[?25hCollecting typing-extensions\n",
      "  Downloading typing_extensions-4.4.0-py3-none-any.whl (26 kB)\n",
      "Requirement already satisfied: setuptools in /usr/local/lib/python3.7/site-packages (from nvidia-cuda-runtime-cu11==11.7.99->torch) (45.2.0.post20200210)\n",
      "Requirement already satisfied: wheel in /usr/local/lib/python3.7/site-packages (from nvidia-cuda-runtime-cu11==11.7.99->torch) (0.34.2)\n",
      "Installing collected packages: nvidia-cuda-runtime-cu11, nvidia-cuda-nvrtc-cu11, nvidia-cublas-cu11, nvidia-cudnn-cu11, typing-extensions, torch\n",
      "Successfully installed nvidia-cublas-cu11-11.10.3.66 nvidia-cuda-nvrtc-cu11-11.7.99 nvidia-cuda-runtime-cu11-11.7.99 nvidia-cudnn-cu11-8.5.0.96 torch-1.13.0 typing-extensions-4.4.0\n"
     ]
    }
   ],
   "source": [
    "! pip install torch"
   ]
  },
  {
   "cell_type": "code",
   "execution_count": 8,
   "metadata": {
    "colab": {
     "base_uri": "https://localhost:8080/"
    },
    "executionInfo": {
     "elapsed": 3052,
     "status": "ok",
     "timestamp": 1671009502708,
     "user": {
      "displayName": "Harsh",
      "userId": "14338509782728632248"
     },
     "user_tz": -330
    },
    "id": "fOUwRuu_3s-O",
    "outputId": "a9f4db85-af50-416e-8392-5d2f94dddbf6"
   },
   "outputs": [
    {
     "name": "stdout",
     "output_type": "stream",
     "text": [
      "Looking in indexes: https://pypi.org/simple, https://us-python.pkg.dev/colab-wheels/public/simple/\n",
      "Collecting ninja\n",
      "  Downloading ninja-1.11.1-py2.py3-none-manylinux_2_12_x86_64.manylinux2010_x86_64.whl (145 kB)\n",
      "\u001b[K     |████████████████████████████████| 145 kB 14.6 MB/s \n",
      "\u001b[?25hInstalling collected packages: ninja\n",
      "Successfully installed ninja-1.11.1\n"
     ]
    }
   ],
   "source": [
    "! pip install ninja"
   ]
  },
  {
   "cell_type": "code",
   "execution_count": 9,
   "metadata": {
    "colab": {
     "base_uri": "https://localhost:8080/"
    },
    "executionInfo": {
     "elapsed": 19,
     "status": "ok",
     "timestamp": 1671009502709,
     "user": {
      "displayName": "Harsh",
      "userId": "14338509782728632248"
     },
     "user_tz": -330
    },
    "id": "hhd9upt23wF4",
    "outputId": "c51152b6-93c3-4625-86cb-9eb15fa4c9d8"
   },
   "outputs": [
    {
     "name": "stdout",
     "output_type": "stream",
     "text": [
      "/content/gdrive/MyDrive/Colab Notebooks/deeprule/models/py_utils/_cpools\n"
     ]
    }
   ],
   "source": [
    "%cd models/py_utils/_cpools/"
   ]
  },
  {
   "cell_type": "code",
   "execution_count": 10,
   "metadata": {
    "colab": {
     "base_uri": "https://localhost:8080/"
    },
    "executionInfo": {
     "elapsed": 128428,
     "status": "ok",
     "timestamp": 1671009631126,
     "user": {
      "displayName": "Harsh",
      "userId": "14338509782728632248"
     },
     "user_tz": -330
    },
    "id": "mxVYfsqu3yue",
    "outputId": "5aa25231-14f1-4624-978c-f9a27b459365"
   },
   "outputs": [
    {
     "name": "stdout",
     "output_type": "stream",
     "text": [
      "running build_ext\n",
      "building 'top_pool' extension\n",
      "Emitting ninja build file /content/gdrive/MyDrive/Colab Notebooks/deeprule/models/py_utils/_cpools/build/temp.linux-x86_64-3.7/build.ninja...\n",
      "Compiling objects...\n",
      "Allowing ninja to set a default number of workers... (overridable by setting the environment variable MAX_JOBS=N)\n",
      "[1/1] c++ -MMD -MF '/content/gdrive/MyDrive/Colab Notebooks/deeprule/models/py_utils/_cpools/build/temp.linux-x86_64-3.7/src/top_pool.o'.d -pthread -B /usr/local/compiler_compat -Wl,--sysroot=/ -Wsign-compare -DNDEBUG -g -fwrapv -O3 -Wall -Wstrict-prototypes -fPIC -I/usr/local/lib/python3.7/site-packages/torch/include -I/usr/local/lib/python3.7/site-packages/torch/include/torch/csrc/api/include -I/usr/local/lib/python3.7/site-packages/torch/include/TH -I/usr/local/lib/python3.7/site-packages/torch/include/THC -I/usr/local/include/python3.7m -c -c '/content/gdrive/MyDrive/Colab Notebooks/deeprule/models/py_utils/_cpools/src/top_pool.cpp' -o '/content/gdrive/MyDrive/Colab Notebooks/deeprule/models/py_utils/_cpools/build/temp.linux-x86_64-3.7/src/top_pool.o' -DTORCH_API_INCLUDE_EXTENSION_H '-DPYBIND11_COMPILER_TYPE=\"_gcc\"' '-DPYBIND11_STDLIB=\"_libstdcpp\"' '-DPYBIND11_BUILD_ABI=\"_cxxabi1011\"' -DTORCH_EXTENSION_NAME=top_pool -D_GLIBCXX_USE_CXX11_ABI=0 -std=c++14\n",
      "cc1plus: warning: command line option ‘-Wstrict-prototypes’ is valid for C/ObjC but not for C++\n",
      "g++ -pthread -shared -B /usr/local/compiler_compat -L/usr/local/lib -Wl,-rpath=/usr/local/lib -Wl,--no-as-needed -Wl,--sysroot=/ /content/gdrive/MyDrive/Colab Notebooks/deeprule/models/py_utils/_cpools/build/temp.linux-x86_64-3.7/src/top_pool.o -L/usr/local/lib/python3.7/site-packages/torch/lib -lc10 -ltorch -ltorch_cpu -ltorch_python -o build/lib.linux-x86_64-3.7/top_pool.cpython-37m-x86_64-linux-gnu.so\n",
      "building 'bottom_pool' extension\n",
      "Emitting ninja build file /content/gdrive/MyDrive/Colab Notebooks/deeprule/models/py_utils/_cpools/build/temp.linux-x86_64-3.7/build.ninja...\n",
      "Compiling objects...\n",
      "Allowing ninja to set a default number of workers... (overridable by setting the environment variable MAX_JOBS=N)\n",
      "[1/1] c++ -MMD -MF '/content/gdrive/MyDrive/Colab Notebooks/deeprule/models/py_utils/_cpools/build/temp.linux-x86_64-3.7/src/bottom_pool.o'.d -pthread -B /usr/local/compiler_compat -Wl,--sysroot=/ -Wsign-compare -DNDEBUG -g -fwrapv -O3 -Wall -Wstrict-prototypes -fPIC -I/usr/local/lib/python3.7/site-packages/torch/include -I/usr/local/lib/python3.7/site-packages/torch/include/torch/csrc/api/include -I/usr/local/lib/python3.7/site-packages/torch/include/TH -I/usr/local/lib/python3.7/site-packages/torch/include/THC -I/usr/local/include/python3.7m -c -c '/content/gdrive/MyDrive/Colab Notebooks/deeprule/models/py_utils/_cpools/src/bottom_pool.cpp' -o '/content/gdrive/MyDrive/Colab Notebooks/deeprule/models/py_utils/_cpools/build/temp.linux-x86_64-3.7/src/bottom_pool.o' -DTORCH_API_INCLUDE_EXTENSION_H '-DPYBIND11_COMPILER_TYPE=\"_gcc\"' '-DPYBIND11_STDLIB=\"_libstdcpp\"' '-DPYBIND11_BUILD_ABI=\"_cxxabi1011\"' -DTORCH_EXTENSION_NAME=bottom_pool -D_GLIBCXX_USE_CXX11_ABI=0 -std=c++14\n",
      "cc1plus: warning: command line option ‘-Wstrict-prototypes’ is valid for C/ObjC but not for C++\n",
      "g++ -pthread -shared -B /usr/local/compiler_compat -L/usr/local/lib -Wl,-rpath=/usr/local/lib -Wl,--no-as-needed -Wl,--sysroot=/ /content/gdrive/MyDrive/Colab Notebooks/deeprule/models/py_utils/_cpools/build/temp.linux-x86_64-3.7/src/bottom_pool.o -L/usr/local/lib/python3.7/site-packages/torch/lib -lc10 -ltorch -ltorch_cpu -ltorch_python -o build/lib.linux-x86_64-3.7/bottom_pool.cpython-37m-x86_64-linux-gnu.so\n",
      "building 'left_pool' extension\n",
      "Emitting ninja build file /content/gdrive/MyDrive/Colab Notebooks/deeprule/models/py_utils/_cpools/build/temp.linux-x86_64-3.7/build.ninja...\n",
      "Compiling objects...\n",
      "Allowing ninja to set a default number of workers... (overridable by setting the environment variable MAX_JOBS=N)\n",
      "[1/1] c++ -MMD -MF '/content/gdrive/MyDrive/Colab Notebooks/deeprule/models/py_utils/_cpools/build/temp.linux-x86_64-3.7/src/left_pool.o'.d -pthread -B /usr/local/compiler_compat -Wl,--sysroot=/ -Wsign-compare -DNDEBUG -g -fwrapv -O3 -Wall -Wstrict-prototypes -fPIC -I/usr/local/lib/python3.7/site-packages/torch/include -I/usr/local/lib/python3.7/site-packages/torch/include/torch/csrc/api/include -I/usr/local/lib/python3.7/site-packages/torch/include/TH -I/usr/local/lib/python3.7/site-packages/torch/include/THC -I/usr/local/include/python3.7m -c -c '/content/gdrive/MyDrive/Colab Notebooks/deeprule/models/py_utils/_cpools/src/left_pool.cpp' -o '/content/gdrive/MyDrive/Colab Notebooks/deeprule/models/py_utils/_cpools/build/temp.linux-x86_64-3.7/src/left_pool.o' -DTORCH_API_INCLUDE_EXTENSION_H '-DPYBIND11_COMPILER_TYPE=\"_gcc\"' '-DPYBIND11_STDLIB=\"_libstdcpp\"' '-DPYBIND11_BUILD_ABI=\"_cxxabi1011\"' -DTORCH_EXTENSION_NAME=left_pool -D_GLIBCXX_USE_CXX11_ABI=0 -std=c++14\n",
      "cc1plus: warning: command line option ‘-Wstrict-prototypes’ is valid for C/ObjC but not for C++\n",
      "g++ -pthread -shared -B /usr/local/compiler_compat -L/usr/local/lib -Wl,-rpath=/usr/local/lib -Wl,--no-as-needed -Wl,--sysroot=/ /content/gdrive/MyDrive/Colab Notebooks/deeprule/models/py_utils/_cpools/build/temp.linux-x86_64-3.7/src/left_pool.o -L/usr/local/lib/python3.7/site-packages/torch/lib -lc10 -ltorch -ltorch_cpu -ltorch_python -o build/lib.linux-x86_64-3.7/left_pool.cpython-37m-x86_64-linux-gnu.so\n",
      "building 'right_pool' extension\n",
      "Emitting ninja build file /content/gdrive/MyDrive/Colab Notebooks/deeprule/models/py_utils/_cpools/build/temp.linux-x86_64-3.7/build.ninja...\n",
      "Compiling objects...\n",
      "Allowing ninja to set a default number of workers... (overridable by setting the environment variable MAX_JOBS=N)\n",
      "[1/1] c++ -MMD -MF '/content/gdrive/MyDrive/Colab Notebooks/deeprule/models/py_utils/_cpools/build/temp.linux-x86_64-3.7/src/right_pool.o'.d -pthread -B /usr/local/compiler_compat -Wl,--sysroot=/ -Wsign-compare -DNDEBUG -g -fwrapv -O3 -Wall -Wstrict-prototypes -fPIC -I/usr/local/lib/python3.7/site-packages/torch/include -I/usr/local/lib/python3.7/site-packages/torch/include/torch/csrc/api/include -I/usr/local/lib/python3.7/site-packages/torch/include/TH -I/usr/local/lib/python3.7/site-packages/torch/include/THC -I/usr/local/include/python3.7m -c -c '/content/gdrive/MyDrive/Colab Notebooks/deeprule/models/py_utils/_cpools/src/right_pool.cpp' -o '/content/gdrive/MyDrive/Colab Notebooks/deeprule/models/py_utils/_cpools/build/temp.linux-x86_64-3.7/src/right_pool.o' -DTORCH_API_INCLUDE_EXTENSION_H '-DPYBIND11_COMPILER_TYPE=\"_gcc\"' '-DPYBIND11_STDLIB=\"_libstdcpp\"' '-DPYBIND11_BUILD_ABI=\"_cxxabi1011\"' -DTORCH_EXTENSION_NAME=right_pool -D_GLIBCXX_USE_CXX11_ABI=0 -std=c++14\n",
      "cc1plus: warning: command line option ‘-Wstrict-prototypes’ is valid for C/ObjC but not for C++\n",
      "g++ -pthread -shared -B /usr/local/compiler_compat -L/usr/local/lib -Wl,-rpath=/usr/local/lib -Wl,--no-as-needed -Wl,--sysroot=/ /content/gdrive/MyDrive/Colab Notebooks/deeprule/models/py_utils/_cpools/build/temp.linux-x86_64-3.7/src/right_pool.o -L/usr/local/lib/python3.7/site-packages/torch/lib -lc10 -ltorch -ltorch_cpu -ltorch_python -o build/lib.linux-x86_64-3.7/right_pool.cpython-37m-x86_64-linux-gnu.so\n",
      "copying build/lib.linux-x86_64-3.7/top_pool.cpython-37m-x86_64-linux-gnu.so -> \n",
      "copying build/lib.linux-x86_64-3.7/bottom_pool.cpython-37m-x86_64-linux-gnu.so -> \n",
      "copying build/lib.linux-x86_64-3.7/left_pool.cpython-37m-x86_64-linux-gnu.so -> \n",
      "copying build/lib.linux-x86_64-3.7/right_pool.cpython-37m-x86_64-linux-gnu.so -> \n"
     ]
    }
   ],
   "source": [
    "! python setup.py build_ext --inplace"
   ]
  },
  {
   "cell_type": "code",
   "execution_count": 11,
   "metadata": {
    "colab": {
     "base_uri": "https://localhost:8080/"
    },
    "executionInfo": {
     "elapsed": 9832,
     "status": "ok",
     "timestamp": 1671009640952,
     "user": {
      "displayName": "Harsh",
      "userId": "14338509782728632248"
     },
     "user_tz": -330
    },
    "id": "jFly9b0h4Q6v",
    "outputId": "2bd76bac-0f53-4b30-b637-8b61a67c5a62"
   },
   "outputs": [
    {
     "name": "stdout",
     "output_type": "stream",
     "text": [
      "Collecting package metadata (current_repodata.json): - \b\b\\ \b\b| \b\b/ \b\b- \b\b\\ \b\b| \b\b/ \b\b- \b\b\\ \b\b| \b\b/ \b\b- \b\b\\ \b\b| \b\b/ \b\b- \b\b\\ \b\b| \b\b/ \b\b- \b\b\\ \b\b| \b\b/ \b\bdone\n",
      "Solving environment: \\ \b\b| \b\b/ \b\bdone\n",
      "\n",
      "\n",
      "==> WARNING: A newer version of conda exists. <==\n",
      "  current version: 4.8.2\n",
      "  latest version: 22.11.1\n",
      "\n",
      "Please update conda by running\n",
      "\n",
      "    $ conda update -n base -c defaults conda\n",
      "\n",
      "\n",
      "\n",
      "## Package Plan ##\n",
      "\n",
      "  environment location: /usr/local\n",
      "\n",
      "  added / updated specs:\n",
      "    - cython\n",
      "\n",
      "\n",
      "The following packages will be downloaded:\n",
      "\n",
      "    package                    |            build\n",
      "    ---------------------------|-----------------\n",
      "    ca-certificates-2022.10.11 |       h06a4308_0         124 KB\n",
      "    certifi-2022.9.24          |   py37h06a4308_0         154 KB\n",
      "    cython-0.29.28             |   py37h295c915_0         1.9 MB\n",
      "    openssl-1.1.1s             |       h7f8727e_0         3.6 MB\n",
      "    ------------------------------------------------------------\n",
      "                                           Total:         5.8 MB\n",
      "\n",
      "The following NEW packages will be INSTALLED:\n",
      "\n",
      "  cython             pkgs/main/linux-64::cython-0.29.28-py37h295c915_0\n",
      "\n",
      "The following packages will be UPDATED:\n",
      "\n",
      "  ca-certificates                                2020.1.1-0 --> 2022.10.11-h06a4308_0\n",
      "  certifi                                 2019.11.28-py37_0 --> 2022.9.24-py37h06a4308_0\n",
      "  openssl                                 1.1.1d-h7b6447c_4 --> 1.1.1s-h7f8727e_0\n",
      "\n",
      "\n",
      "\n",
      "Downloading and Extracting Packages\n",
      "ca-certificates-2022 | 124 KB    | : 100% 1.0/1 [00:00<00:00,  6.22it/s]               \n",
      "openssl-1.1.1s       | 3.6 MB    | : 100% 1.0/1 [00:00<00:00,  6.11it/s]\n",
      "cython-0.29.28       | 1.9 MB    | : 100% 1.0/1 [00:00<00:00,  6.55it/s]\n",
      "certifi-2022.9.24    | 154 KB    | : 100% 1.0/1 [00:00<00:00, 11.12it/s]\n",
      "Preparing transaction: \\ \b\bdone\n",
      "Verifying transaction: / \b\b- \b\bdone\n",
      "Executing transaction: | \b\b/ \b\bdone\n"
     ]
    }
   ],
   "source": [
    "! conda install cython -y"
   ]
  },
  {
   "cell_type": "code",
   "execution_count": 12,
   "metadata": {
    "colab": {
     "base_uri": "https://localhost:8080/"
    },
    "executionInfo": {
     "elapsed": 28,
     "status": "ok",
     "timestamp": 1671009640953,
     "user": {
      "displayName": "Harsh",
      "userId": "14338509782728632248"
     },
     "user_tz": -330
    },
    "id": "DAT7pQ2D4ZRf",
    "outputId": "b92cf8d8-8d0f-4782-90dd-460461173278"
   },
   "outputs": [
    {
     "name": "stdout",
     "output_type": "stream",
     "text": [
      "/content/gdrive/MyDrive/Colab Notebooks/deeprule/models\n",
      "/content/gdrive/MyDrive/Colab Notebooks/deeprule\n"
     ]
    }
   ],
   "source": [
    "%cd ../..\n",
    "%cd ../"
   ]
  },
  {
   "cell_type": "code",
   "execution_count": 13,
   "metadata": {
    "colab": {
     "base_uri": "https://localhost:8080/"
    },
    "executionInfo": {
     "elapsed": 25,
     "status": "ok",
     "timestamp": 1671009640953,
     "user": {
      "displayName": "Harsh",
      "userId": "14338509782728632248"
     },
     "user_tz": -330
    },
    "id": "DOONdNXd4fYx",
    "outputId": "bab7f732-95f7-456e-f31c-144373aa4ea3"
   },
   "outputs": [
    {
     "name": "stdout",
     "output_type": "stream",
     "text": [
      "/content/gdrive/MyDrive/Colab Notebooks\n"
     ]
    }
   ],
   "source": [
    "%cd ../"
   ]
  },
  {
   "cell_type": "code",
   "execution_count": 14,
   "metadata": {
    "colab": {
     "base_uri": "https://localhost:8080/"
    },
    "executionInfo": {
     "elapsed": 24,
     "status": "ok",
     "timestamp": 1671009640954,
     "user": {
      "displayName": "Harsh",
      "userId": "14338509782728632248"
     },
     "user_tz": -330
    },
    "id": "PeN_yjdI4iVD",
    "outputId": "4d89b8f3-3c9b-4a81-ad33-f62cc5c33e06"
   },
   "outputs": [
    {
     "name": "stdout",
     "output_type": "stream",
     "text": [
      "/content/gdrive/MyDrive/Colab Notebooks/deeprule/external\n"
     ]
    }
   ],
   "source": [
    "%cd deeprule/external"
   ]
  },
  {
   "cell_type": "code",
   "execution_count": 15,
   "metadata": {
    "colab": {
     "base_uri": "https://localhost:8080/",
     "height": 207
    },
    "executionInfo": {
     "elapsed": 5754,
     "status": "ok",
     "timestamp": 1671009646686,
     "user": {
      "displayName": "Harsh",
      "userId": "14338509782728632248"
     },
     "user_tz": -330
    },
    "id": "Lzisop0i4pWX",
    "outputId": "a92d7d86-6051-4535-fee6-cc8ce6d4f6c3"
   },
   "outputs": [
    {
     "name": "stdout",
     "output_type": "stream",
     "text": [
      "Looking in indexes: https://pypi.org/simple, https://us-python.pkg.dev/colab-wheels/public/simple/\n",
      "Collecting numpy\n",
      "  Downloading numpy-1.21.6-cp37-cp37m-manylinux_2_12_x86_64.manylinux2010_x86_64.whl (15.7 MB)\n",
      "\u001b[K     |████████████████████████████████| 15.7 MB 14.5 MB/s \n",
      "\u001b[?25hInstalling collected packages: numpy\n",
      "Successfully installed numpy-1.21.6\n"
     ]
    },
    {
     "data": {
      "application/vnd.colab-display-data+json": {
       "pip_warning": {
        "packages": [
         "numpy"
        ]
       }
      }
     },
     "metadata": {},
     "output_type": "display_data"
    }
   ],
   "source": [
    "! pip install numpy"
   ]
  },
  {
   "cell_type": "code",
   "execution_count": 16,
   "metadata": {
    "colab": {
     "base_uri": "https://localhost:8080/"
    },
    "executionInfo": {
     "elapsed": 5929,
     "status": "ok",
     "timestamp": 1671009652609,
     "user": {
      "displayName": "Harsh",
      "userId": "14338509782728632248"
     },
     "user_tz": -330
    },
    "id": "9Blag-bg4kV5",
    "outputId": "da958479-62ea-44e3-e2f8-65f6c472a3f3"
   },
   "outputs": [
    {
     "name": "stdout",
     "output_type": "stream",
     "text": [
      "python setup.py build_ext --inplace\n",
      "Compiling nms.pyx because it depends on /usr/local/lib/python3.7/site-packages/numpy/__init__.pxd.\n",
      "[1/1] Cythonizing nms.pyx\n",
      "/usr/local/lib/python3.7/site-packages/Cython/Compiler/Main.py:369: FutureWarning: Cython directive 'language_level' not set, using 2 for now (Py2). This will change in a later release! File: /content/gdrive/MyDrive/Colab Notebooks/deeprule/external/nms.pyx\n",
      "  tree = Parsing.p_module(s, pxd, full_module_name)\n",
      "running build_ext\n",
      "building 'nms' extension\n",
      "creating build\n",
      "creating build/temp.linux-x86_64-3.7\n",
      "gcc -pthread -B /usr/local/compiler_compat -Wl,--sysroot=/ -Wsign-compare -DNDEBUG -g -fwrapv -O3 -Wall -Wstrict-prototypes -fPIC -I/usr/local/lib/python3.7/site-packages/numpy/core/include -I/usr/local/include/python3.7m -c nms.c -o build/temp.linux-x86_64-3.7/nms.o -Wno-cpp -Wno-unused-function\n",
      "\u001b[01m\u001b[Knms.c:\u001b[m\u001b[K In function ‘\u001b[01m\u001b[K__pyx_pf_3nms_2soft_nms\u001b[m\u001b[K’:\n",
      "\u001b[01m\u001b[Knms.c:3515:33:\u001b[m\u001b[K \u001b[01;35m\u001b[Kwarning: \u001b[m\u001b[Kcomparison between signed and unsigned integer expressions [\u001b[01;35m\u001b[K-Wsign-compare\u001b[m\u001b[K]\n",
      "       __pyx_t_8 = ((__pyx_v_pos \u001b[01;35m\u001b[K<\u001b[m\u001b[K __pyx_v_N) != 0);\n",
      "                                 \u001b[01;35m\u001b[K^\u001b[m\u001b[K\n",
      "\u001b[01m\u001b[Knms.c:4026:33:\u001b[m\u001b[K \u001b[01;35m\u001b[Kwarning: \u001b[m\u001b[Kcomparison between signed and unsigned integer expressions [\u001b[01;35m\u001b[K-Wsign-compare\u001b[m\u001b[K]\n",
      "       __pyx_t_8 = ((__pyx_v_pos \u001b[01;35m\u001b[K<\u001b[m\u001b[K __pyx_v_N) != 0);\n",
      "                                 \u001b[01;35m\u001b[K^\u001b[m\u001b[K\n",
      "\u001b[01m\u001b[Knms.c:\u001b[m\u001b[K In function ‘\u001b[01m\u001b[K__pyx_pf_3nms_4soft_nms_merge\u001b[m\u001b[K’:\n",
      "\u001b[01m\u001b[Knms.c:5273:33:\u001b[m\u001b[K \u001b[01;35m\u001b[Kwarning: \u001b[m\u001b[Kcomparison between signed and unsigned integer expressions [\u001b[01;35m\u001b[K-Wsign-compare\u001b[m\u001b[K]\n",
      "       __pyx_t_8 = ((__pyx_v_pos \u001b[01;35m\u001b[K<\u001b[m\u001b[K __pyx_v_N) != 0);\n",
      "                                 \u001b[01;35m\u001b[K^\u001b[m\u001b[K\n",
      "\u001b[01m\u001b[Knms.c:5976:33:\u001b[m\u001b[K \u001b[01;35m\u001b[Kwarning: \u001b[m\u001b[Kcomparison between signed and unsigned integer expressions [\u001b[01;35m\u001b[K-Wsign-compare\u001b[m\u001b[K]\n",
      "       __pyx_t_8 = ((__pyx_v_pos \u001b[01;35m\u001b[K<\u001b[m\u001b[K __pyx_v_N) != 0);\n",
      "                                 \u001b[01;35m\u001b[K^\u001b[m\u001b[K\n",
      "gcc -pthread -shared -B /usr/local/compiler_compat -L/usr/local/lib -Wl,-rpath=/usr/local/lib -Wl,--no-as-needed -Wl,--sysroot=/ build/temp.linux-x86_64-3.7/nms.o -o /content/gdrive/MyDrive/Colab Notebooks/deeprule/external/nms.cpython-37m-x86_64-linux-gnu.so\n",
      "rm -rf build\n"
     ]
    }
   ],
   "source": [
    "! make"
   ]
  },
  {
   "cell_type": "code",
   "execution_count": 17,
   "metadata": {
    "colab": {
     "base_uri": "https://localhost:8080/"
    },
    "executionInfo": {
     "elapsed": 13,
     "status": "ok",
     "timestamp": 1671009652610,
     "user": {
      "displayName": "Harsh",
      "userId": "14338509782728632248"
     },
     "user_tz": -330
    },
    "id": "q1qEfgm35MBJ",
    "outputId": "6c9975f0-071f-49c4-d2c2-662d579d926e"
   },
   "outputs": [
    {
     "name": "stdout",
     "output_type": "stream",
     "text": [
      "/content/gdrive/MyDrive/Colab Notebooks\n"
     ]
    }
   ],
   "source": [
    "%cd ../.."
   ]
  },
  {
   "cell_type": "code",
   "execution_count": 18,
   "metadata": {
    "colab": {
     "base_uri": "https://localhost:8080/"
    },
    "executionInfo": {
     "elapsed": 10,
     "status": "ok",
     "timestamp": 1671009652611,
     "user": {
      "displayName": "Harsh",
      "userId": "14338509782728632248"
     },
     "user_tz": -330
    },
    "id": "PBKU9U-_5k7Y",
    "outputId": "7ff7a70f-b95e-4921-a19e-9d32390e7fec"
   },
   "outputs": [
    {
     "name": "stdout",
     "output_type": "stream",
     "text": [
      "/content/gdrive/MyDrive/Colab Notebooks/deeprule/data/coco/PythonAPI\n"
     ]
    }
   ],
   "source": [
    "%cd deeprule/data/coco/PythonAPI"
   ]
  },
  {
   "cell_type": "code",
   "execution_count": 19,
   "metadata": {
    "colab": {
     "base_uri": "https://localhost:8080/"
    },
    "executionInfo": {
     "elapsed": 7375,
     "status": "ok",
     "timestamp": 1671009659979,
     "user": {
      "displayName": "Harsh",
      "userId": "14338509782728632248"
     },
     "user_tz": -330
    },
    "id": "guU1iJdZCRZs",
    "outputId": "a24871e1-a5d3-466a-d77e-7465262de762"
   },
   "outputs": [
    {
     "name": "stdout",
     "output_type": "stream",
     "text": [
      "python setup.py build_ext --inplace\n",
      "running build_ext\n",
      "skipping 'pycocotools/_mask.c' Cython extension (up-to-date)\n",
      "building 'pycocotools._mask' extension\n",
      "creating build\n",
      "creating build/common\n",
      "creating build/temp.linux-x86_64-3.7\n",
      "creating build/temp.linux-x86_64-3.7/pycocotools\n",
      "gcc -pthread -B /usr/local/compiler_compat -Wl,--sysroot=/ -Wsign-compare -DNDEBUG -g -fwrapv -O3 -Wall -Wstrict-prototypes -fPIC -I/usr/local/lib/python3.7/site-packages/numpy/core/include -I../common -I/usr/local/include/python3.7m -c ../common/maskApi.c -o build/temp.linux-x86_64-3.7/../common/maskApi.o -Wno-cpp -Wno-unused-function -std=c99\n",
      "\u001b[01m\u001b[K../common/maskApi.c:\u001b[m\u001b[K In function ‘\u001b[01m\u001b[KrleDecode\u001b[m\u001b[K’:\n",
      "\u001b[01m\u001b[K../common/maskApi.c:46:7:\u001b[m\u001b[K \u001b[01;35m\u001b[Kwarning: \u001b[m\u001b[Kthis ‘\u001b[01m\u001b[Kfor\u001b[m\u001b[K’ clause does not guard... [\u001b[01;35m\u001b[K-Wmisleading-indentation\u001b[m\u001b[K]\n",
      "       \u001b[01;35m\u001b[Kfor\u001b[m\u001b[K( k=0; k<R[i].cnts[j]; k++ ) *(M++)=v; v=!v; }}\n",
      "       \u001b[01;35m\u001b[K^~~\u001b[m\u001b[K\n",
      "\u001b[01m\u001b[K../common/maskApi.c:46:49:\u001b[m\u001b[K \u001b[01;36m\u001b[Knote: \u001b[m\u001b[K...this statement, but the latter is misleadingly indented as if it were guarded by the ‘\u001b[01m\u001b[Kfor\u001b[m\u001b[K’\n",
      "       for( k=0; k<R[i].cnts[j]; k++ ) *(M++)=v; \u001b[01;36m\u001b[Kv\u001b[m\u001b[K=!v; }}\n",
      "                                                 \u001b[01;36m\u001b[K^\u001b[m\u001b[K\n",
      "\u001b[01m\u001b[K../common/maskApi.c:\u001b[m\u001b[K In function ‘\u001b[01m\u001b[KrleFrPoly\u001b[m\u001b[K’:\n",
      "\u001b[01m\u001b[K../common/maskApi.c:166:3:\u001b[m\u001b[K \u001b[01;35m\u001b[Kwarning: \u001b[m\u001b[Kthis ‘\u001b[01m\u001b[Kfor\u001b[m\u001b[K’ clause does not guard... [\u001b[01;35m\u001b[K-Wmisleading-indentation\u001b[m\u001b[K]\n",
      "   \u001b[01;35m\u001b[Kfor\u001b[m\u001b[K(j=0; j<k; j++) x[j]=(int)(scale*xy[j*2+0]+.5); x[k]=x[0];\n",
      "   \u001b[01;35m\u001b[K^~~\u001b[m\u001b[K\n",
      "\u001b[01m\u001b[K../common/maskApi.c:166:54:\u001b[m\u001b[K \u001b[01;36m\u001b[Knote: \u001b[m\u001b[K...this statement, but the latter is misleadingly indented as if it were guarded by the ‘\u001b[01m\u001b[Kfor\u001b[m\u001b[K’\n",
      "   for(j=0; j<k; j++) x[j]=(int)(scale*xy[j*2+0]+.5); \u001b[01;36m\u001b[Kx\u001b[m\u001b[K[k]=x[0];\n",
      "                                                      \u001b[01;36m\u001b[K^\u001b[m\u001b[K\n",
      "\u001b[01m\u001b[K../common/maskApi.c:167:3:\u001b[m\u001b[K \u001b[01;35m\u001b[Kwarning: \u001b[m\u001b[Kthis ‘\u001b[01m\u001b[Kfor\u001b[m\u001b[K’ clause does not guard... [\u001b[01;35m\u001b[K-Wmisleading-indentation\u001b[m\u001b[K]\n",
      "   \u001b[01;35m\u001b[Kfor\u001b[m\u001b[K(j=0; j<k; j++) y[j]=(int)(scale*xy[j*2+1]+.5); y[k]=y[0];\n",
      "   \u001b[01;35m\u001b[K^~~\u001b[m\u001b[K\n",
      "\u001b[01m\u001b[K../common/maskApi.c:167:54:\u001b[m\u001b[K \u001b[01;36m\u001b[Knote: \u001b[m\u001b[K...this statement, but the latter is misleadingly indented as if it were guarded by the ‘\u001b[01m\u001b[Kfor\u001b[m\u001b[K’\n",
      "   for(j=0; j<k; j++) y[j]=(int)(scale*xy[j*2+1]+.5); \u001b[01;36m\u001b[Ky\u001b[m\u001b[K[k]=y[0];\n",
      "                                                      \u001b[01;36m\u001b[K^\u001b[m\u001b[K\n",
      "\u001b[01m\u001b[K../common/maskApi.c:\u001b[m\u001b[K In function ‘\u001b[01m\u001b[KrleToString\u001b[m\u001b[K’:\n",
      "\u001b[01m\u001b[K../common/maskApi.c:212:7:\u001b[m\u001b[K \u001b[01;35m\u001b[Kwarning: \u001b[m\u001b[Kthis ‘\u001b[01m\u001b[Kif\u001b[m\u001b[K’ clause does not guard... [\u001b[01;35m\u001b[K-Wmisleading-indentation\u001b[m\u001b[K]\n",
      "       \u001b[01;35m\u001b[Kif\u001b[m\u001b[K(more) c |= 0x20; c+=48; s[p++]=c;\n",
      "       \u001b[01;35m\u001b[K^~\u001b[m\u001b[K\n",
      "\u001b[01m\u001b[K../common/maskApi.c:212:27:\u001b[m\u001b[K \u001b[01;36m\u001b[Knote: \u001b[m\u001b[K...this statement, but the latter is misleadingly indented as if it were guarded by the ‘\u001b[01m\u001b[Kif\u001b[m\u001b[K’\n",
      "       if(more) c |= 0x20; \u001b[01;36m\u001b[Kc\u001b[m\u001b[K+=48; s[p++]=c;\n",
      "                           \u001b[01;36m\u001b[K^\u001b[m\u001b[K\n",
      "\u001b[01m\u001b[K../common/maskApi.c:\u001b[m\u001b[K In function ‘\u001b[01m\u001b[KrleFrString\u001b[m\u001b[K’:\n",
      "\u001b[01m\u001b[K../common/maskApi.c:220:3:\u001b[m\u001b[K \u001b[01;35m\u001b[Kwarning: \u001b[m\u001b[Kthis ‘\u001b[01m\u001b[Kwhile\u001b[m\u001b[K’ clause does not guard... [\u001b[01;35m\u001b[K-Wmisleading-indentation\u001b[m\u001b[K]\n",
      "   \u001b[01;35m\u001b[Kwhile\u001b[m\u001b[K( s[m] ) m++; cnts=malloc(sizeof(uint)*m); m=0;\n",
      "   \u001b[01;35m\u001b[K^~~~~\u001b[m\u001b[K\n",
      "\u001b[01m\u001b[K../common/maskApi.c:220:22:\u001b[m\u001b[K \u001b[01;36m\u001b[Knote: \u001b[m\u001b[K...this statement, but the latter is misleadingly indented as if it were guarded by the ‘\u001b[01m\u001b[Kwhile\u001b[m\u001b[K’\n",
      "   while( s[m] ) m++; \u001b[01;36m\u001b[Kcnts\u001b[m\u001b[K=malloc(sizeof(uint)*m); m=0;\n",
      "                      \u001b[01;36m\u001b[K^~~~\u001b[m\u001b[K\n",
      "\u001b[01m\u001b[K../common/maskApi.c:228:5:\u001b[m\u001b[K \u001b[01;35m\u001b[Kwarning: \u001b[m\u001b[Kthis ‘\u001b[01m\u001b[Kif\u001b[m\u001b[K’ clause does not guard... [\u001b[01;35m\u001b[K-Wmisleading-indentation\u001b[m\u001b[K]\n",
      "     \u001b[01;35m\u001b[Kif\u001b[m\u001b[K(m>2) x+=(long) cnts[m-2]; cnts[m++]=(uint) x;\n",
      "     \u001b[01;35m\u001b[K^~\u001b[m\u001b[K\n",
      "\u001b[01m\u001b[K../common/maskApi.c:228:34:\u001b[m\u001b[K \u001b[01;36m\u001b[Knote: \u001b[m\u001b[K...this statement, but the latter is misleadingly indented as if it were guarded by the ‘\u001b[01m\u001b[Kif\u001b[m\u001b[K’\n",
      "     if(m>2) x+=(long) cnts[m-2]; \u001b[01;36m\u001b[Kcnts\u001b[m\u001b[K[m++]=(uint) x;\n",
      "                                  \u001b[01;36m\u001b[K^~~~\u001b[m\u001b[K\n",
      "\u001b[01m\u001b[K../common/maskApi.c:\u001b[m\u001b[K In function ‘\u001b[01m\u001b[KrleToBbox\u001b[m\u001b[K’:\n",
      "\u001b[01m\u001b[K../common/maskApi.c:141:31:\u001b[m\u001b[K \u001b[01;35m\u001b[Kwarning: \u001b[m\u001b[K‘\u001b[01m\u001b[Kxp\u001b[m\u001b[K’ may be used uninitialized in this function [\u001b[01;35m\u001b[K-Wmaybe-uninitialized\u001b[m\u001b[K]\n",
      "       if(j%2==0) xp=x; else if\u001b[01;35m\u001b[K(\u001b[m\u001b[Kxp<x) { ys=0; ye=h-1; }\n",
      "                               \u001b[01;35m\u001b[K^\u001b[m\u001b[K\n",
      "gcc -pthread -B /usr/local/compiler_compat -Wl,--sysroot=/ -Wsign-compare -DNDEBUG -g -fwrapv -O3 -Wall -Wstrict-prototypes -fPIC -I/usr/local/lib/python3.7/site-packages/numpy/core/include -I../common -I/usr/local/include/python3.7m -c pycocotools/_mask.c -o build/temp.linux-x86_64-3.7/pycocotools/_mask.o -Wno-cpp -Wno-unused-function -std=c99\n",
      "creating build/lib.linux-x86_64-3.7\n",
      "creating build/lib.linux-x86_64-3.7/pycocotools\n",
      "gcc -pthread -shared -B /usr/local/compiler_compat -L/usr/local/lib -Wl,-rpath=/usr/local/lib -Wl,--no-as-needed -Wl,--sysroot=/ build/temp.linux-x86_64-3.7/../common/maskApi.o build/temp.linux-x86_64-3.7/pycocotools/_mask.o -o build/lib.linux-x86_64-3.7/pycocotools/_mask.cpython-37m-x86_64-linux-gnu.so\n",
      "copying build/lib.linux-x86_64-3.7/pycocotools/_mask.cpython-37m-x86_64-linux-gnu.so -> pycocotools\n",
      "rm -rf build\n"
     ]
    }
   ],
   "source": [
    "!make"
   ]
  },
  {
   "cell_type": "code",
   "execution_count": 20,
   "metadata": {
    "colab": {
     "base_uri": "https://localhost:8080/",
     "height": 1000
    },
    "executionInfo": {
     "elapsed": 85617,
     "status": "ok",
     "timestamp": 1671009745594,
     "user": {
      "displayName": "Harsh",
      "userId": "14338509782728632248"
     },
     "user_tz": -330
    },
    "id": "O5xLYofWCV7u",
    "outputId": "24ad674e-410c-4061-a6ad-f5472e8b3523"
   },
   "outputs": [
    {
     "name": "stdout",
     "output_type": "stream",
     "text": [
      "Looking in indexes: https://pypi.org/simple, https://us-python.pkg.dev/colab-wheels/public/simple/\n",
      "Collecting matplotlib\n",
      "  Downloading matplotlib-3.5.3-cp37-cp37m-manylinux_2_5_x86_64.manylinux1_x86_64.whl (11.2 MB)\n",
      "\u001b[K     |████████████████████████████████| 11.2 MB 12.8 MB/s \n",
      "\u001b[?25hCollecting cycler>=0.10\n",
      "  Downloading cycler-0.11.0-py3-none-any.whl (6.4 kB)\n",
      "Collecting python-dateutil>=2.7\n",
      "  Downloading python_dateutil-2.8.2-py2.py3-none-any.whl (247 kB)\n",
      "\u001b[K     |████████████████████████████████| 247 kB 63.3 MB/s \n",
      "\u001b[?25hCollecting fonttools>=4.22.0\n",
      "  Downloading fonttools-4.38.0-py3-none-any.whl (965 kB)\n",
      "\u001b[K     |████████████████████████████████| 965 kB 40.4 MB/s \n",
      "\u001b[?25hCollecting pyparsing>=2.2.1\n",
      "  Downloading pyparsing-3.0.9-py3-none-any.whl (98 kB)\n",
      "\u001b[K     |████████████████████████████████| 98 kB 8.6 MB/s \n",
      "\u001b[?25hCollecting packaging>=20.0\n",
      "  Downloading packaging-22.0-py3-none-any.whl (42 kB)\n",
      "\u001b[K     |████████████████████████████████| 42 kB 1.5 MB/s \n",
      "\u001b[?25hRequirement already satisfied: numpy>=1.17 in /usr/local/lib/python3.7/site-packages (from matplotlib) (1.21.6)\n",
      "Collecting pillow>=6.2.0\n",
      "  Downloading Pillow-9.3.0-cp37-cp37m-manylinux_2_17_x86_64.manylinux2014_x86_64.whl (3.2 MB)\n",
      "\u001b[K     |████████████████████████████████| 3.2 MB 42.3 MB/s \n",
      "\u001b[?25hCollecting kiwisolver>=1.0.1\n",
      "  Downloading kiwisolver-1.4.4-cp37-cp37m-manylinux_2_5_x86_64.manylinux1_x86_64.whl (1.1 MB)\n",
      "\u001b[K     |████████████████████████████████| 1.1 MB 46.3 MB/s \n",
      "\u001b[?25hRequirement already satisfied: six>=1.5 in /usr/local/lib/python3.7/site-packages (from python-dateutil>=2.7->matplotlib) (1.14.0)\n",
      "Requirement already satisfied: typing-extensions; python_version < \"3.8\" in /usr/local/lib/python3.7/site-packages (from kiwisolver>=1.0.1->matplotlib) (4.4.0)\n",
      "Installing collected packages: cycler, python-dateutil, fonttools, pyparsing, packaging, pillow, kiwisolver, matplotlib\n",
      "Successfully installed cycler-0.11.0 fonttools-4.38.0 kiwisolver-1.4.4 matplotlib-3.5.3 packaging-22.0 pillow-9.3.0 pyparsing-3.0.9 python-dateutil-2.8.2\n"
     ]
    },
    {
     "data": {
      "application/vnd.colab-display-data+json": {
       "pip_warning": {
        "packages": [
         "cycler",
         "dateutil",
         "kiwisolver"
        ]
       }
      }
     },
     "metadata": {},
     "output_type": "display_data"
    },
    {
     "name": "stdout",
     "output_type": "stream",
     "text": [
      "Collecting package metadata (current_repodata.json): - \b\b\\ \b\b| \b\b/ \b\b- \b\b\\ \b\b| \b\b/ \b\b- \b\b\\ \b\b| \b\b/ \b\b- \b\bdone\n",
      "Solving environment: | \b\b/ \b\b- \b\b\\ \b\b| \b\b/ \b\b- \b\b\\ \b\b| \b\b/ \b\b- \b\b\\ \b\b| \b\bdone\n",
      "\n",
      "## Package Plan ##\n",
      "\n",
      "  environment location: /usr/local\n",
      "\n",
      "  added / updated specs:\n",
      "    - opencv\n",
      "\n",
      "\n",
      "The following packages will be downloaded:\n",
      "\n",
      "    package                    |            build\n",
      "    ---------------------------|-----------------\n",
      "    _openmp_mutex-5.1          |            1_gnu          21 KB\n",
      "    blas-1.0                   |         openblas          46 KB\n",
      "    bzip2-1.0.8                |       h7b6447c_0          78 KB\n",
      "    cairo-1.16.0               |       h19f5f5c_2         1.1 MB\n",
      "    conda-22.11.1              |   py37h06a4308_3         932 KB\n",
      "    dbus-1.13.18               |       hb2f20db_0         504 KB\n",
      "    eigen-3.3.7                |       hd09550d_1         830 KB\n",
      "    expat-2.4.9                |       h6a678d5_0         156 KB\n",
      "    ffmpeg-4.2.2               |       h20bf706_0        59.6 MB\n",
      "    flit-core-3.6.0            |     pyhd3eb1b0_0          42 KB\n",
      "    fontconfig-2.14.1          |       h52c9d5c_1         281 KB\n",
      "    freetype-2.12.1            |       h4a9f257_0         626 KB\n",
      "    giflib-5.2.1               |       h7b6447c_0          78 KB\n",
      "    glib-2.69.1                |       he621ea3_2         1.9 MB\n",
      "    gmp-6.2.1                  |       h295c915_3         544 KB\n",
      "    gnutls-3.6.15              |       he1e5248_0         1.0 MB\n",
      "    graphite2-1.3.14           |       h295c915_1          97 KB\n",
      "    gst-plugins-base-1.14.0    |       h8213a91_2         4.9 MB\n",
      "    gstreamer-1.14.0           |       h28cd5cc_2         3.2 MB\n",
      "    harfbuzz-4.3.0             |       hd55b92a_0         1.1 MB\n",
      "    hdf5-1.10.6                |       h3ffc7dd_1         3.6 MB\n",
      "    icu-58.2                   |       he6710b0_3        10.5 MB\n",
      "    importlib-metadata-4.11.3  |   py37h06a4308_0          40 KB\n",
      "    importlib_metadata-4.11.3  |       hd3eb1b0_0          12 KB\n",
      "    jpeg-9e                    |       h7f8727e_0         240 KB\n",
      "    krb5-1.19.2                |       hac12032_0         1.2 MB\n",
      "    lame-3.100                 |       h7b6447c_0         323 KB\n",
      "    lerc-3.0                   |       h295c915_0         196 KB\n",
      "    libclang-10.0.1            |default_hb85057a_2        10.8 MB\n",
      "    libdeflate-1.8             |       h7f8727e_5          51 KB\n",
      "    libedit-3.1.20221030       |       h5eee18b_0         181 KB\n",
      "    libevent-2.1.12            |       h8f2d780_0         425 KB\n",
      "    libffi-3.4.2               |       h6a678d5_6         136 KB\n",
      "    libgcc-ng-11.2.0           |       h1234567_1         5.3 MB\n",
      "    libgfortran-ng-11.2.0      |       h00389a5_1          20 KB\n",
      "    libgfortran5-11.2.0        |       h1234567_1         2.0 MB\n",
      "    libgomp-11.2.0             |       h1234567_1         474 KB\n",
      "    libidn2-2.3.2              |       h7f8727e_0          81 KB\n",
      "    libllvm10-10.0.1           |       hbcb73fb_5        22.1 MB\n",
      "    libopenblas-0.3.21         |       h043d6bf_0         5.4 MB\n",
      "    libopus-1.3.1              |       h7b6447c_0         491 KB\n",
      "    libpng-1.6.37              |       hbc83047_0         278 KB\n",
      "    libpq-12.9                 |       h16c4e8d_3         2.1 MB\n",
      "    libprotobuf-3.20.1         |       h4ff587b_0         2.1 MB\n",
      "    libstdcxx-ng-11.2.0        |       h1234567_1         4.7 MB\n",
      "    libtasn1-4.16.0            |       h27cfd23_0          58 KB\n",
      "    libtiff-4.4.0              |       hecacb30_2         526 KB\n",
      "    libunistring-0.9.10        |       h27cfd23_0         536 KB\n",
      "    libuuid-1.41.5             |       h5eee18b_0          27 KB\n",
      "    libvpx-1.7.0               |       h439df22_0         1.2 MB\n",
      "    libwebp-1.2.4              |       h11a3e52_0          79 KB\n",
      "    libwebp-base-1.2.4         |       h5eee18b_0         347 KB\n",
      "    libxcb-1.15                |       h7f8727e_0         505 KB\n",
      "    libxkbcommon-1.0.1         |       hfa300c1_0         483 KB\n",
      "    libxml2-2.9.14             |       h74e7548_0         718 KB\n",
      "    libxslt-1.1.35             |       h4e12654_0         453 KB\n",
      "    lz4-c-1.9.4                |       h6a678d5_0         154 KB\n",
      "    ncurses-6.3                |       h5eee18b_3         781 KB\n",
      "    nettle-3.7.3               |       hbbd107a_1         809 KB\n",
      "    nspr-4.33                  |       h295c915_0         222 KB\n",
      "    nss-3.74                   |       h0370c37_0         1.9 MB\n",
      "    numpy-1.21.5               |   py37hf838250_3          10 KB\n",
      "    numpy-base-1.21.5          |   py37h1e6e340_3         4.8 MB\n",
      "    opencv-4.6.0               |   py37hd653453_2        26.8 MB\n",
      "    openh264-2.1.1             |       h4ff587b_0         711 KB\n",
      "    openjpeg-2.4.0             |       h3ad879b_0         331 KB\n",
      "    pcre-8.45                  |       h295c915_0         207 KB\n",
      "    pixman-0.40.0              |       h7f8727e_1         373 KB\n",
      "    pluggy-1.0.0               |   py37h06a4308_1          29 KB\n",
      "    python-3.7.15              |       h7a1cb2a_1        40.7 MB\n",
      "    qt-main-5.15.2             |       h327a75a_7        45.1 MB\n",
      "    qt-webengine-5.15.9        |       hd2b0992_4        47.1 MB\n",
      "    qtwebkit-5.212             |       h4eab89a_4        14.3 MB\n",
      "    readline-8.2               |       h5eee18b_0         357 KB\n",
      "    ruamel.yaml-0.17.21        |   py37h5eee18b_0         177 KB\n",
      "    ruamel.yaml.clib-0.2.6     |   py37h5eee18b_1         140 KB\n",
      "    sqlite-3.40.0              |       h5082296_0         1.2 MB\n",
      "    tk-8.6.12                  |       h1ccaba5_0         3.0 MB\n",
      "    toolz-0.12.0               |   py37h06a4308_0         104 KB\n",
      "    typing_extensions-4.4.0    |   py37h06a4308_0          45 KB\n",
      "    x264-1!157.20191217        |       h7b6447c_0         922 KB\n",
      "    xz-5.2.8                   |       h5eee18b_0         429 KB\n",
      "    zipp-3.8.0                 |   py37h06a4308_0          15 KB\n",
      "    zlib-1.2.13                |       h5eee18b_0         103 KB\n",
      "    zstd-1.5.2                 |       ha4553b6_0         488 KB\n",
      "    ------------------------------------------------------------\n",
      "                                           Total:       345.7 MB\n",
      "\n",
      "The following NEW packages will be INSTALLED:\n",
      "\n",
      "  _openmp_mutex      pkgs/main/linux-64::_openmp_mutex-5.1-1_gnu\n",
      "  blas               pkgs/main/linux-64::blas-1.0-openblas\n",
      "  bzip2              pkgs/main/linux-64::bzip2-1.0.8-h7b6447c_0\n",
      "  cairo              pkgs/main/linux-64::cairo-1.16.0-h19f5f5c_2\n",
      "  dbus               pkgs/main/linux-64::dbus-1.13.18-hb2f20db_0\n",
      "  eigen              pkgs/main/linux-64::eigen-3.3.7-hd09550d_1\n",
      "  expat              pkgs/main/linux-64::expat-2.4.9-h6a678d5_0\n",
      "  ffmpeg             pkgs/main/linux-64::ffmpeg-4.2.2-h20bf706_0\n",
      "  flit-core          pkgs/main/noarch::flit-core-3.6.0-pyhd3eb1b0_0\n",
      "  fontconfig         pkgs/main/linux-64::fontconfig-2.14.1-h52c9d5c_1\n",
      "  freetype           pkgs/main/linux-64::freetype-2.12.1-h4a9f257_0\n",
      "  giflib             pkgs/main/linux-64::giflib-5.2.1-h7b6447c_0\n",
      "  glib               pkgs/main/linux-64::glib-2.69.1-he621ea3_2\n",
      "  gmp                pkgs/main/linux-64::gmp-6.2.1-h295c915_3\n",
      "  gnutls             pkgs/main/linux-64::gnutls-3.6.15-he1e5248_0\n",
      "  graphite2          pkgs/main/linux-64::graphite2-1.3.14-h295c915_1\n",
      "  gst-plugins-base   pkgs/main/linux-64::gst-plugins-base-1.14.0-h8213a91_2\n",
      "  gstreamer          pkgs/main/linux-64::gstreamer-1.14.0-h28cd5cc_2\n",
      "  harfbuzz           pkgs/main/linux-64::harfbuzz-4.3.0-hd55b92a_0\n",
      "  hdf5               pkgs/main/linux-64::hdf5-1.10.6-h3ffc7dd_1\n",
      "  icu                pkgs/main/linux-64::icu-58.2-he6710b0_3\n",
      "  importlib-metadata pkgs/main/linux-64::importlib-metadata-4.11.3-py37h06a4308_0\n",
      "  importlib_metadata pkgs/main/noarch::importlib_metadata-4.11.3-hd3eb1b0_0\n",
      "  jpeg               pkgs/main/linux-64::jpeg-9e-h7f8727e_0\n",
      "  krb5               pkgs/main/linux-64::krb5-1.19.2-hac12032_0\n",
      "  lame               pkgs/main/linux-64::lame-3.100-h7b6447c_0\n",
      "  lerc               pkgs/main/linux-64::lerc-3.0-h295c915_0\n",
      "  libclang           pkgs/main/linux-64::libclang-10.0.1-default_hb85057a_2\n",
      "  libdeflate         pkgs/main/linux-64::libdeflate-1.8-h7f8727e_5\n",
      "  libevent           pkgs/main/linux-64::libevent-2.1.12-h8f2d780_0\n",
      "  libgfortran-ng     pkgs/main/linux-64::libgfortran-ng-11.2.0-h00389a5_1\n",
      "  libgfortran5       pkgs/main/linux-64::libgfortran5-11.2.0-h1234567_1\n",
      "  libgomp            pkgs/main/linux-64::libgomp-11.2.0-h1234567_1\n",
      "  libidn2            pkgs/main/linux-64::libidn2-2.3.2-h7f8727e_0\n",
      "  libllvm10          pkgs/main/linux-64::libllvm10-10.0.1-hbcb73fb_5\n",
      "  libopenblas        pkgs/main/linux-64::libopenblas-0.3.21-h043d6bf_0\n",
      "  libopus            pkgs/main/linux-64::libopus-1.3.1-h7b6447c_0\n",
      "  libpng             pkgs/main/linux-64::libpng-1.6.37-hbc83047_0\n",
      "  libpq              pkgs/main/linux-64::libpq-12.9-h16c4e8d_3\n",
      "  libprotobuf        pkgs/main/linux-64::libprotobuf-3.20.1-h4ff587b_0\n",
      "  libtasn1           pkgs/main/linux-64::libtasn1-4.16.0-h27cfd23_0\n",
      "  libtiff            pkgs/main/linux-64::libtiff-4.4.0-hecacb30_2\n",
      "  libunistring       pkgs/main/linux-64::libunistring-0.9.10-h27cfd23_0\n",
      "  libuuid            pkgs/main/linux-64::libuuid-1.41.5-h5eee18b_0\n",
      "  libvpx             pkgs/main/linux-64::libvpx-1.7.0-h439df22_0\n",
      "  libwebp            pkgs/main/linux-64::libwebp-1.2.4-h11a3e52_0\n",
      "  libwebp-base       pkgs/main/linux-64::libwebp-base-1.2.4-h5eee18b_0\n",
      "  libxcb             pkgs/main/linux-64::libxcb-1.15-h7f8727e_0\n",
      "  libxkbcommon       pkgs/main/linux-64::libxkbcommon-1.0.1-hfa300c1_0\n",
      "  libxml2            pkgs/main/linux-64::libxml2-2.9.14-h74e7548_0\n",
      "  libxslt            pkgs/main/linux-64::libxslt-1.1.35-h4e12654_0\n",
      "  lz4-c              pkgs/main/linux-64::lz4-c-1.9.4-h6a678d5_0\n",
      "  nettle             pkgs/main/linux-64::nettle-3.7.3-hbbd107a_1\n",
      "  nspr               pkgs/main/linux-64::nspr-4.33-h295c915_0\n",
      "  nss                pkgs/main/linux-64::nss-3.74-h0370c37_0\n",
      "  numpy              pkgs/main/linux-64::numpy-1.21.5-py37hf838250_3\n",
      "  numpy-base         pkgs/main/linux-64::numpy-base-1.21.5-py37h1e6e340_3\n",
      "  opencv             pkgs/main/linux-64::opencv-4.6.0-py37hd653453_2\n",
      "  openh264           pkgs/main/linux-64::openh264-2.1.1-h4ff587b_0\n",
      "  openjpeg           pkgs/main/linux-64::openjpeg-2.4.0-h3ad879b_0\n",
      "  pcre               pkgs/main/linux-64::pcre-8.45-h295c915_0\n",
      "  pixman             pkgs/main/linux-64::pixman-0.40.0-h7f8727e_1\n",
      "  pluggy             pkgs/main/linux-64::pluggy-1.0.0-py37h06a4308_1\n",
      "  qt-main            pkgs/main/linux-64::qt-main-5.15.2-h327a75a_7\n",
      "  qt-webengine       pkgs/main/linux-64::qt-webengine-5.15.9-hd2b0992_4\n",
      "  qtwebkit           pkgs/main/linux-64::qtwebkit-5.212-h4eab89a_4\n",
      "  ruamel.yaml        pkgs/main/linux-64::ruamel.yaml-0.17.21-py37h5eee18b_0\n",
      "  ruamel.yaml.clib   pkgs/main/linux-64::ruamel.yaml.clib-0.2.6-py37h5eee18b_1\n",
      "  toolz              pkgs/main/linux-64::toolz-0.12.0-py37h06a4308_0\n",
      "  typing_extensions  pkgs/main/linux-64::typing_extensions-4.4.0-py37h06a4308_0\n",
      "  x264               pkgs/main/linux-64::x264-1!157.20191217-h7b6447c_0\n",
      "  zipp               pkgs/main/linux-64::zipp-3.8.0-py37h06a4308_0\n",
      "  zstd               pkgs/main/linux-64::zstd-1.5.2-ha4553b6_0\n",
      "\n",
      "The following packages will be UPDATED:\n",
      "\n",
      "  conda                                        4.8.2-py37_0 --> 22.11.1-py37h06a4308_3\n",
      "  libedit                           3.1.20181209-hc058e9b_0 --> 3.1.20221030-h5eee18b_0\n",
      "  libffi                                   3.2.1-hd88cf55_4 --> 3.4.2-h6a678d5_6\n",
      "  libgcc-ng                                9.1.0-hdf63c60_0 --> 11.2.0-h1234567_1\n",
      "  libstdcxx-ng                             9.1.0-hdf63c60_0 --> 11.2.0-h1234567_1\n",
      "  ncurses                                    6.2-he6710b0_0 --> 6.3-h5eee18b_3\n",
      "  python                                   3.7.6-h0371630_2 --> 3.7.15-h7a1cb2a_1\n",
      "  readline                                   7.0-h7b6447c_5 --> 8.2-h5eee18b_0\n",
      "  sqlite                                  3.31.1-h7b6447c_0 --> 3.40.0-h5082296_0\n",
      "  tk                                       8.6.8-hbc83047_0 --> 8.6.12-h1ccaba5_0\n",
      "  xz                                       5.2.4-h14c3975_4 --> 5.2.8-h5eee18b_0\n",
      "  zlib                                    1.2.11-h7b6447c_3 --> 1.2.13-h5eee18b_0\n",
      "\n",
      "\n",
      "\n",
      "Downloading and Extracting Packages\n",
      "libopenblas-0.3.21   | 5.4 MB    | : 100% 1.0/1 [00:00<00:00,  3.93it/s]               \n",
      "libwebp-1.2.4        | 79 KB     | : 100% 1.0/1 [00:00<00:00, 14.14it/s]\n",
      "giflib-5.2.1         | 78 KB     | : 100% 1.0/1 [00:00<00:00, 13.68it/s]\n",
      "python-3.7.15        | 40.7 MB   | : 100% 1.0/1 [00:01<00:00,  1.03s/it]               \n",
      "libpng-1.6.37        | 278 KB    | : 100% 1.0/1 [00:00<00:00, 11.77it/s]\n",
      "libtiff-4.4.0        | 526 KB    | : 100% 1.0/1 [00:00<00:00, 10.96it/s]\n",
      "zlib-1.2.13          | 103 KB    | : 100% 1.0/1 [00:00<00:00, 17.66it/s]\n",
      "cairo-1.16.0         | 1.1 MB    | : 100% 1.0/1 [00:00<00:00,  8.13it/s]\n",
      "libclang-10.0.1      | 10.8 MB   | : 100% 1.0/1 [00:00<00:00,  2.10it/s]               \n",
      "sqlite-3.40.0        | 1.2 MB    | : 100% 1.0/1 [00:00<00:00,  9.36it/s]\n",
      "jpeg-9e              | 240 KB    | : 100% 1.0/1 [00:00<00:00, 11.43it/s]\n",
      "x264-1!157.20191217  | 922 KB    | : 100% 1.0/1 [00:00<00:00, 10.63it/s]\n",
      "numpy-base-1.21.5    | 4.8 MB    | : 100% 1.0/1 [00:00<00:00, 12.71s/it]               \n",
      "conda-22.11.1        | 932 KB    | : 100% 1.0/1 [00:00<00:00,  9.18it/s]\n",
      "ffmpeg-4.2.2         | 59.6 MB   | : 100% 1.0/1 [00:01<00:00,  1.52s/it]               \n",
      "freetype-2.12.1      | 626 KB    | : 100% 1.0/1 [00:00<00:00, 12.79it/s]\n",
      "qtwebkit-5.212       | 14.3 MB   | : 100% 1.0/1 [00:00<00:00,  2.61it/s]               \n",
      "libxcb-1.15          | 505 KB    | : 100% 1.0/1 [00:00<00:00, 10.35it/s]\n",
      "ncurses-6.3          | 781 KB    | : 100% 1.0/1 [00:00<00:00,  4.08it/s]\n",
      "libvpx-1.7.0         | 1.2 MB    | : 100% 1.0/1 [00:00<00:00, 10.59it/s]\n",
      "libxslt-1.1.35       | 453 KB    | : 100% 1.0/1 [00:00<00:00, 12.57it/s]\n",
      "_openmp_mutex-5.1    | 21 KB     | : 100% 1.0/1 [00:00<00:00, 17.01it/s]\n",
      "gst-plugins-base-1.1 | 4.9 MB    | : 100% 1.0/1 [00:00<00:00,  5.05it/s]\n",
      "libopus-1.3.1        | 491 KB    | : 100% 1.0/1 [00:00<00:00, 15.23it/s]\n",
      "lerc-3.0             | 196 KB    | : 100% 1.0/1 [00:00<00:00, 15.91it/s]\n",
      "ruamel.yaml.clib-0.2 | 140 KB    | : 100% 1.0/1 [00:00<00:00, 14.44it/s]\n",
      "importlib-metadata-4 | 40 KB     | : 100% 1.0/1 [00:00<00:00, 17.94it/s]\n",
      "libpq-12.9           | 2.1 MB    | : 100% 1.0/1 [00:00<00:00,  4.47it/s]\n",
      "libgcc-ng-11.2.0     | 5.3 MB    | : 100% 1.0/1 [00:00<00:00,  2.74it/s]\n",
      "lame-3.100           | 323 KB    | : 100% 1.0/1 [00:00<00:00, 13.96it/s]\n",
      "nss-3.74             | 1.9 MB    | : 100% 1.0/1 [00:00<00:00,  6.84it/s]\n",
      "libllvm10-10.0.1     | 22.1 MB   | : 100% 1.0/1 [00:00<00:00,  1.91it/s]                \n",
      "glib-2.69.1          | 1.9 MB    | : 100% 1.0/1 [00:00<00:00,  5.59it/s]\n",
      "toolz-0.12.0         | 104 KB    | : 100% 1.0/1 [00:00<00:00, 16.57it/s]\n",
      "zstd-1.5.2           | 488 KB    | : 100% 1.0/1 [00:00<00:00, 14.17it/s]\n",
      "lz4-c-1.9.4          | 154 KB    | : 100% 1.0/1 [00:00<00:00, 15.91it/s]\n",
      "openh264-2.1.1       | 711 KB    | : 100% 1.0/1 [00:00<00:00,  4.11it/s]\n",
      "harfbuzz-4.3.0       | 1.1 MB    | : 100% 1.0/1 [00:00<00:00,  9.84it/s]\n",
      "libtasn1-4.16.0      | 58 KB     | : 100% 1.0/1 [00:00<00:00, 12.34it/s]\n",
      "qt-webengine-5.15.9  | 47.1 MB   | : 100% 1.0/1 [00:01<00:00,  1.32s/it]               \n",
      "eigen-3.3.7          | 830 KB    | : 100% 1.0/1 [00:00<00:00,  2.67s/it]               \n",
      "libuuid-1.41.5       | 27 KB     | : 100% 1.0/1 [00:00<00:00, 15.34it/s]\n",
      "blas-1.0             | 46 KB     | : 100% 1.0/1 [00:00<00:00, 14.14it/s]\n",
      "libgfortran5-11.2.0  | 2.0 MB    | : 100% 1.0/1 [00:00<00:00,  5.87it/s]\n",
      "dbus-1.13.18         | 504 KB    | : 100% 1.0/1 [00:00<00:00,  8.79it/s]\n",
      "bzip2-1.0.8          | 78 KB     | : 100% 1.0/1 [00:00<00:00, 16.08it/s]\n",
      "typing_extensions-4. | 45 KB     | : 100% 1.0/1 [00:00<00:00, 16.76it/s]\n",
      "xz-5.2.8             | 429 KB    | : 100% 1.0/1 [00:00<00:00, 10.78it/s]\n",
      "qt-main-5.15.2       | 45.1 MB   | : 100% 1.0/1 [00:02<00:00,  2.27s/it]               \n",
      "icu-58.2             | 10.5 MB   | : 100% 1.0/1 [00:00<00:00,  2.18it/s]\n",
      "libprotobuf-3.20.1   | 2.1 MB    | : 100% 1.0/1 [00:00<00:00,  7.68it/s]\n",
      "libunistring-0.9.10  | 536 KB    | : 100% 1.0/1 [00:00<00:00, 10.41it/s]\n",
      "nettle-3.7.3         | 809 KB    | : 100% 1.0/1 [00:00<00:00, 10.03it/s]\n",
      "pixman-0.40.0        | 373 KB    | : 100% 1.0/1 [00:00<00:00, 15.50it/s]\n",
      "libidn2-2.3.2        | 81 KB     | : 100% 1.0/1 [00:00<00:00, 13.19it/s]\n",
      "gstreamer-1.14.0     | 3.2 MB    | : 100% 1.0/1 [00:00<00:00,  6.00it/s]\n",
      "numpy-1.21.5         | 10 KB     | : 100% 1.0/1 [00:00<00:00,  9.75it/s]\n",
      "fontconfig-2.14.1    | 281 KB    | : 100% 1.0/1 [00:00<00:00, 14.26it/s]\n",
      "readline-8.2         | 357 KB    | : 100% 1.0/1 [00:00<00:00, 10.80it/s]\n",
      "flit-core-3.6.0      | 42 KB     | : 100% 1.0/1 [00:00<00:00,  5.24it/s]\n",
      "libxml2-2.9.14       | 718 KB    | : 100% 1.0/1 [00:00<00:00, 13.22it/s]\n",
      "zipp-3.8.0           | 15 KB     | : 100% 1.0/1 [00:00<00:00, 17.24it/s]\n",
      "graphite2-1.3.14     | 97 KB     | : 100% 1.0/1 [00:00<00:00, 12.90it/s]\n",
      "libxkbcommon-1.0.1   | 483 KB    | : 100% 1.0/1 [00:00<00:00, 14.86it/s]\n",
      "libevent-2.1.12      | 425 KB    | : 100% 1.0/1 [00:00<00:00, 13.38it/s]\n",
      "krb5-1.19.2          | 1.2 MB    | : 100% 1.0/1 [00:00<00:00,  9.94it/s]\n",
      "hdf5-1.10.6          | 3.6 MB    | : 100% 1.0/1 [00:00<00:00,  4.10it/s]\n",
      "nspr-4.33            | 222 KB    | : 100% 1.0/1 [00:00<00:00, 14.88it/s]\n",
      "libstdcxx-ng-11.2.0  | 4.7 MB    | : 100% 1.0/1 [00:00<00:00,  6.09it/s]\n",
      "libwebp-base-1.2.4   | 347 KB    | : 100% 1.0/1 [00:00<00:00, 10.50it/s]\n",
      "gnutls-3.6.15        | 1.0 MB    | : 100% 1.0/1 [00:00<00:00, 11.26it/s]\n",
      "libffi-3.4.2         | 136 KB    | : 100% 1.0/1 [00:00<00:00, 13.46it/s]\n",
      "libedit-3.1.20221030 | 181 KB    | : 100% 1.0/1 [00:00<00:00, 16.43it/s]\n",
      "gmp-6.2.1            | 544 KB    | : 100% 1.0/1 [00:00<00:00,  6.44it/s]\n",
      "tk-8.6.12            | 3.0 MB    | : 100% 1.0/1 [00:00<00:00,  6.14it/s]\n",
      "ruamel.yaml-0.17.21  | 177 KB    | : 100% 1.0/1 [00:00<00:00, 13.48it/s]\n",
      "libdeflate-1.8       | 51 KB     | : 100% 1.0/1 [00:00<00:00, 17.59it/s]\n",
      "importlib_metadata-4 | 12 KB     | : 100% 1.0/1 [00:00<00:00, 18.14it/s]\n",
      "opencv-4.6.0         | 26.8 MB   | : 100% 1.0/1 [00:02<00:00,  2.23s/it]               \n",
      "libgomp-11.2.0       | 474 KB    | : 100% 1.0/1 [00:00<00:00, 12.52it/s]\n",
      "libgfortran-ng-11.2. | 20 KB     | : 100% 1.0/1 [00:00<00:00, 15.35it/s]\n",
      "expat-2.4.9          | 156 KB    | : 100% 1.0/1 [00:00<00:00, 15.97it/s]\n",
      "pluggy-1.0.0         | 29 KB     | : 100% 1.0/1 [00:00<00:00, 16.43it/s]\n",
      "openjpeg-2.4.0       | 331 KB    | : 100% 1.0/1 [00:00<00:00, 12.17it/s]\n",
      "pcre-8.45            | 207 KB    | : 100% 1.0/1 [00:00<00:00, 15.95it/s]\n",
      "Preparing transaction: - \b\b\\ \b\b| \b\b/ \b\b- \b\b\\ \b\b| \b\b/ \b\b- \b\b\\ \b\bdone\n",
      "Verifying transaction: / \b\b- \b\b\\ \b\b| \b\b/ \b\b- \b\b\\ \b\b| \b\b/ \b\b- \b\b\\ \b\b| \b\b/ \b\b- \b\b\\ \b\b| \b\b/ \b\b- \b\b\\ \b\b| \b\b/ \b\b- \b\b\\ \b\b| \b\b/ \b\b- \b\b\\ \b\b| \b\b/ \b\b- \b\b\\ \b\b| \b\b/ \b\b- \b\b\\ \b\b| \b\b/ \b\b- \b\b\\ \b\b| \b\b/ \b\b- \b\b\\ \b\b| \b\b/ \b\b- \b\b\\ \b\b| \b\b/ \b\b- \b\b\\ \b\b| \b\b/ \b\b- \b\b\\ \b\b| \b\b/ \b\b- \b\bdone\n",
      "Executing transaction: | \b\b/ \b\b- \b\b\\ \b\b| \b\b/ \b\b- \b\b\\ \b\b| \b\b/ \b\b- \b\b\\ \b\b| \b\b/ \b\b- \b\b\\ \b\b| \b\b/ \b\b- \b\b\\ \b\b| \b\b/ \b\b- \b\b\\ \b\b| \b\b/ \b\b- \b\b\\ \b\b| \b\bdone\n",
      "Looking in indexes: https://pypi.org/simple, https://us-python.pkg.dev/colab-wheels/public/simple/\n",
      "Collecting h5py\n",
      "  Downloading h5py-3.7.0-cp37-cp37m-manylinux_2_12_x86_64.manylinux2010_x86_64.whl (4.1 MB)\n",
      "\u001b[K     |████████████████████████████████| 4.1 MB 12.6 MB/s \n",
      "\u001b[?25hRequirement already satisfied: numpy>=1.14.5 in /usr/local/lib/python3.7/site-packages (from h5py) (1.21.6)\n",
      "Installing collected packages: h5py\n",
      "Successfully installed h5py-3.7.0\n",
      "Looking in indexes: https://pypi.org/simple, https://us-python.pkg.dev/colab-wheels/public/simple/\n",
      "Collecting azureml\n",
      "  Downloading azureml-0.2.7-py2.py3-none-any.whl (23 kB)\n",
      "Requirement already satisfied: python-dateutil in /usr/local/lib/python3.7/site-packages (from azureml) (2.8.2)\n",
      "Requirement already satisfied: requests in /usr/local/lib/python3.7/site-packages (from azureml) (2.22.0)\n",
      "Collecting pandas\n",
      "  Downloading pandas-1.3.5-cp37-cp37m-manylinux_2_17_x86_64.manylinux2014_x86_64.whl (11.3 MB)\n",
      "\u001b[K     |████████████████████████████████| 11.3 MB 13.4 MB/s \n",
      "\u001b[?25hRequirement already satisfied: six>=1.5 in /usr/local/lib/python3.7/site-packages (from python-dateutil->azureml) (1.14.0)\n",
      "Requirement already satisfied: urllib3!=1.25.0,!=1.25.1,<1.26,>=1.21.1 in /usr/local/lib/python3.7/site-packages (from requests->azureml) (1.25.8)\n",
      "Requirement already satisfied: idna<2.9,>=2.5 in /usr/local/lib/python3.7/site-packages (from requests->azureml) (2.8)\n",
      "Requirement already satisfied: certifi>=2017.4.17 in /usr/local/lib/python3.7/site-packages (from requests->azureml) (2022.9.24)\n",
      "Requirement already satisfied: chardet<3.1.0,>=3.0.2 in /usr/local/lib/python3.7/site-packages (from requests->azureml) (3.0.4)\n",
      "Requirement already satisfied: numpy>=1.17.3; platform_machine != \"aarch64\" and platform_machine != \"arm64\" and python_version < \"3.10\" in /usr/local/lib/python3.7/site-packages (from pandas->azureml) (1.21.6)\n",
      "Collecting pytz>=2017.3\n",
      "  Downloading pytz-2022.6-py2.py3-none-any.whl (498 kB)\n",
      "\u001b[K     |████████████████████████████████| 498 kB 67.4 MB/s \n",
      "\u001b[?25hInstalling collected packages: pytz, pandas, azureml\n",
      "Successfully installed azureml-0.2.7 pandas-1.3.5 pytz-2022.6\n",
      "Looking in indexes: https://pypi.org/simple, https://us-python.pkg.dev/colab-wheels/public/simple/\n",
      "Collecting azureml.core\n",
      "  Downloading azureml_core-1.48.0-py3-none-any.whl (3.3 MB)\n",
      "\u001b[K     |████████████████████████████████| 3.3 MB 6.1 MB/s \n",
      "\u001b[?25hCollecting pathspec<1.0.0\n",
      "  Downloading pathspec-0.10.3-py3-none-any.whl (29 kB)\n",
      "Collecting msrest<=0.7.1,>=0.5.1\n",
      "  Downloading msrest-0.7.1-py3-none-any.whl (85 kB)\n",
      "\u001b[K     |████████████████████████████████| 85 kB 4.4 MB/s \n",
      "\u001b[?25hCollecting msal<2.0.0,>=1.15.0\n",
      "  Downloading msal-1.20.0-py2.py3-none-any.whl (90 kB)\n",
      "\u001b[K     |████████████████████████████████| 90 kB 9.9 MB/s \n",
      "\u001b[?25hRequirement already satisfied: cryptography!=1.9,!=2.0.*,!=2.1.*,!=2.2.*,<41 in /usr/local/lib/python3.7/site-packages (from azureml.core) (2.8)\n",
      "Requirement already satisfied: pytz in /usr/local/lib/python3.7/site-packages (from azureml.core) (2022.6)\n",
      "Collecting azure-core<2.0.0\n",
      "  Downloading azure_core-1.26.1-py3-none-any.whl (172 kB)\n",
      "\u001b[K     |████████████████████████████████| 172 kB 60.0 MB/s \n",
      "\u001b[?25hCollecting azure-graphrbac<1.0.0,>=0.40.0\n",
      "  Downloading azure_graphrbac-0.61.1-py2.py3-none-any.whl (141 kB)\n",
      "\u001b[K     |████████████████████████████████| 141 kB 43.5 MB/s \n",
      "\u001b[?25hCollecting humanfriendly<11.0,>=4.7\n",
      "  Downloading humanfriendly-10.0-py2.py3-none-any.whl (86 kB)\n",
      "\u001b[K     |████████████████████████████████| 86 kB 6.6 MB/s \n",
      "\u001b[?25hCollecting msal-extensions<=1.0.0,>=0.3.0\n",
      "  Downloading msal_extensions-1.0.0-py2.py3-none-any.whl (19 kB)\n",
      "Collecting ndg-httpsclient<=0.5.1\n",
      "  Downloading ndg_httpsclient-0.5.1-py3-none-any.whl (34 kB)\n",
      "Collecting jsonpickle<3.0.0\n",
      "  Downloading jsonpickle-2.2.0-py2.py3-none-any.whl (39 kB)\n",
      "Collecting SecretStorage<4.0.0\n",
      "  Downloading SecretStorage-3.3.3-py3-none-any.whl (15 kB)\n",
      "Collecting azure-mgmt-resource<22.0.0,>=15.0.0\n",
      "  Downloading azure_mgmt_resource-21.2.1-py3-none-any.whl (2.3 MB)\n",
      "\u001b[K     |████████████████████████████████| 2.3 MB 64.3 MB/s \n",
      "\u001b[?25hRequirement already satisfied: requests[socks]<3.0.0,>=2.19.1 in /usr/local/lib/python3.7/site-packages (from azureml.core) (2.22.0)\n",
      "Collecting pkginfo\n",
      "  Downloading pkginfo-1.9.2-py3-none-any.whl (26 kB)\n",
      "Requirement already satisfied: urllib3<2.0.0,>=1.23 in /usr/local/lib/python3.7/site-packages (from azureml.core) (1.25.8)\n",
      "Collecting packaging<22.0,>=20.0\n",
      "  Downloading packaging-21.3-py3-none-any.whl (40 kB)\n",
      "\u001b[K     |████████████████████████████████| 40 kB 6.7 MB/s \n",
      "\u001b[?25hCollecting azure-common<2.0.0,>=1.1.12\n",
      "  Downloading azure_common-1.1.28-py2.py3-none-any.whl (14 kB)\n",
      "Collecting docker<7.0.0\n",
      "  Downloading docker-6.0.1-py3-none-any.whl (147 kB)\n",
      "\u001b[K     |████████████████████████████████| 147 kB 64.1 MB/s \n",
      "\u001b[?25hCollecting argcomplete<3\n",
      "  Downloading argcomplete-2.0.0-py2.py3-none-any.whl (37 kB)\n",
      "Collecting paramiko<3.0.0,>=2.0.8\n",
      "  Downloading paramiko-2.12.0-py2.py3-none-any.whl (213 kB)\n",
      "\u001b[K     |████████████████████████████████| 213 kB 57.5 MB/s \n",
      "\u001b[?25hCollecting contextlib2<22.0.0\n",
      "  Downloading contextlib2-21.6.0-py2.py3-none-any.whl (13 kB)\n",
      "Requirement already satisfied: python-dateutil<3.0.0,>=2.7.3 in /usr/local/lib/python3.7/site-packages (from azureml.core) (2.8.2)\n",
      "Collecting PyJWT<3.0.0\n",
      "  Downloading PyJWT-2.6.0-py3-none-any.whl (20 kB)\n",
      "Collecting azure-mgmt-containerregistry<11,>=8.2.0\n",
      "  Downloading azure_mgmt_containerregistry-10.0.0-py3-none-any.whl (1.2 MB)\n",
      "\u001b[K     |████████████████████████████████| 1.2 MB 60.6 MB/s \n",
      "\u001b[?25hCollecting backports.tempfile\n",
      "  Downloading backports.tempfile-1.0-py2.py3-none-any.whl (4.4 kB)\n",
      "Collecting azure-mgmt-keyvault<11.0.0,>=0.40.0\n",
      "  Downloading azure_mgmt_keyvault-10.1.0-py3-none-any.whl (605 kB)\n",
      "\u001b[K     |████████████████████████████████| 605 kB 57.9 MB/s \n",
      "\u001b[?25hCollecting knack~=0.10.0\n",
      "  Downloading knack-0.10.1-py3-none-any.whl (61 kB)\n",
      "\u001b[K     |████████████████████████████████| 61 kB 8.4 MB/s \n",
      "\u001b[?25hRequirement already satisfied: pyopenssl<23.0.0 in /usr/local/lib/python3.7/site-packages (from azureml.core) (19.1.0)\n",
      "Collecting azure-mgmt-storage<21.0.0,>=16.0.0\n",
      "  Downloading azure_mgmt_storage-20.1.0-py3-none-any.whl (2.3 MB)\n",
      "\u001b[K     |████████████████████████████████| 2.3 MB 51.9 MB/s \n",
      "\u001b[?25hCollecting azure-mgmt-authorization<4,>=0.40.0\n",
      "  Downloading azure_mgmt_authorization-3.0.0-py3-none-any.whl (965 kB)\n",
      "\u001b[K     |████████████████████████████████| 965 kB 55.8 MB/s \n",
      "\u001b[?25hCollecting adal<=1.2.7,>=1.2.0\n",
      "  Downloading adal-1.2.7-py2.py3-none-any.whl (55 kB)\n",
      "\u001b[K     |████████████████████████████████| 55 kB 2.4 MB/s \n",
      "\u001b[?25hCollecting msrestazure<=0.6.4,>=0.4.33\n",
      "  Downloading msrestazure-0.6.4-py2.py3-none-any.whl (40 kB)\n",
      "\u001b[K     |████████████████████████████████| 40 kB 6.3 MB/s \n",
      "\u001b[?25hCollecting jmespath<2.0.0\n",
      "  Downloading jmespath-1.0.1-py3-none-any.whl (20 kB)\n",
      "Collecting requests-oauthlib>=0.5.0\n",
      "  Downloading requests_oauthlib-1.3.1-py2.py3-none-any.whl (23 kB)\n",
      "Collecting isodate>=0.6.0\n",
      "  Downloading isodate-0.6.1-py2.py3-none-any.whl (41 kB)\n",
      "\u001b[K     |████████████████████████████████| 41 kB 616 kB/s \n",
      "\u001b[?25hRequirement already satisfied: certifi>=2017.4.17 in /usr/local/lib/python3.7/site-packages (from msrest<=0.7.1,>=0.5.1->azureml.core) (2022.9.24)\n",
      "Requirement already satisfied: six>=1.4.1 in /usr/local/lib/python3.7/site-packages (from cryptography!=1.9,!=2.0.*,!=2.1.*,!=2.2.*,<41->azureml.core) (1.14.0)\n",
      "Requirement already satisfied: cffi!=1.11.3,>=1.8 in /usr/local/lib/python3.7/site-packages (from cryptography!=1.9,!=2.0.*,!=2.1.*,!=2.2.*,<41->azureml.core) (1.14.0)\n",
      "Requirement already satisfied: typing-extensions>=4.0.1 in /usr/local/lib/python3.7/site-packages (from azure-core<2.0.0->azureml.core) (4.4.0)\n",
      "Collecting portalocker<3,>=1.0; python_version >= \"3.5\" and platform_system != \"Windows\"\n",
      "  Downloading portalocker-2.6.0-py2.py3-none-any.whl (15 kB)\n",
      "Collecting pyasn1>=0.1.1\n",
      "  Downloading pyasn1-0.4.8-py2.py3-none-any.whl (77 kB)\n",
      "\u001b[K     |████████████████████████████████| 77 kB 396 kB/s \n",
      "\u001b[?25hRequirement already satisfied: importlib-metadata; python_version < \"3.8\" in /usr/local/lib/python3.7/site-packages (from jsonpickle<3.0.0->azureml.core) (4.11.3)\n",
      "Collecting jeepney>=0.6\n",
      "  Downloading jeepney-0.8.0-py3-none-any.whl (48 kB)\n",
      "\u001b[K     |████████████████████████████████| 48 kB 5.4 MB/s \n",
      "\u001b[?25hCollecting azure-mgmt-core<2.0.0,>=1.3.2\n",
      "  Downloading azure_mgmt_core-1.3.2-py3-none-any.whl (26 kB)\n",
      "Requirement already satisfied: chardet<3.1.0,>=3.0.2 in /usr/local/lib/python3.7/site-packages (from requests[socks]<3.0.0,>=2.19.1->azureml.core) (3.0.4)\n",
      "Requirement already satisfied: idna<2.9,>=2.5 in /usr/local/lib/python3.7/site-packages (from requests[socks]<3.0.0,>=2.19.1->azureml.core) (2.8)\n",
      "Requirement already satisfied: PySocks!=1.5.7,>=1.5.6; extra == \"socks\" in /usr/local/lib/python3.7/site-packages (from requests[socks]<3.0.0,>=2.19.1->azureml.core) (1.7.1)\n",
      "Requirement already satisfied: pyparsing!=3.0.5,>=2.0.2 in /usr/local/lib/python3.7/site-packages (from packaging<22.0,>=20.0->azureml.core) (3.0.9)\n",
      "Collecting websocket-client>=0.32.0\n",
      "  Downloading websocket_client-1.4.2-py3-none-any.whl (55 kB)\n",
      "\u001b[K     |████████████████████████████████| 55 kB 4.0 MB/s \n",
      "\u001b[?25hCollecting bcrypt>=3.1.3\n",
      "  Downloading bcrypt-4.0.1-cp36-abi3-manylinux_2_17_x86_64.manylinux2014_x86_64.whl (593 kB)\n",
      "\u001b[K     |████████████████████████████████| 593 kB 52.3 MB/s \n",
      "\u001b[?25hCollecting pynacl>=1.0.1\n",
      "  Downloading PyNaCl-1.5.0-cp36-abi3-manylinux_2_17_x86_64.manylinux2014_x86_64.manylinux_2_24_x86_64.whl (856 kB)\n",
      "\u001b[K     |████████████████████████████████| 856 kB 57.8 MB/s \n",
      "\u001b[?25hCollecting backports.weakref\n",
      "  Downloading backports.weakref-1.0.post1-py2.py3-none-any.whl (5.2 kB)\n",
      "Collecting pyyaml\n",
      "  Downloading PyYAML-6.0-cp37-cp37m-manylinux_2_5_x86_64.manylinux1_x86_64.manylinux_2_12_x86_64.manylinux2010_x86_64.whl (596 kB)\n",
      "\u001b[K     |████████████████████████████████| 596 kB 56.3 MB/s \n",
      "\u001b[?25hCollecting tabulate\n",
      "  Downloading tabulate-0.9.0-py3-none-any.whl (35 kB)\n",
      "Collecting pygments\n",
      "  Downloading Pygments-2.13.0-py3-none-any.whl (1.1 MB)\n",
      "\u001b[K     |████████████████████████████████| 1.1 MB 52.3 MB/s \n",
      "\u001b[?25hCollecting oauthlib>=3.0.0\n",
      "  Downloading oauthlib-3.2.2-py3-none-any.whl (151 kB)\n",
      "\u001b[K     |████████████████████████████████| 151 kB 69.4 MB/s \n",
      "\u001b[?25hRequirement already satisfied: pycparser in /usr/local/lib/python3.7/site-packages (from cffi!=1.11.3,>=1.8->cryptography!=1.9,!=2.0.*,!=2.1.*,!=2.2.*,<41->azureml.core) (2.19)\n",
      "Requirement already satisfied: zipp>=0.5 in /usr/local/lib/python3.7/site-packages (from importlib-metadata; python_version < \"3.8\"->jsonpickle<3.0.0->azureml.core) (3.8.0)\n",
      "\u001b[31mERROR: docker 6.0.1 has requirement requests>=2.26.0, but you'll have requests 2.22.0 which is incompatible.\u001b[0m\n",
      "\u001b[31mERROR: docker 6.0.1 has requirement urllib3>=1.26.0, but you'll have urllib3 1.25.8 which is incompatible.\u001b[0m\n",
      "Installing collected packages: pathspec, oauthlib, requests-oauthlib, isodate, azure-core, msrest, PyJWT, msal, adal, msrestazure, azure-common, azure-graphrbac, humanfriendly, portalocker, msal-extensions, pyasn1, ndg-httpsclient, jsonpickle, jeepney, SecretStorage, azure-mgmt-core, azure-mgmt-resource, pkginfo, packaging, websocket-client, docker, argcomplete, bcrypt, pynacl, paramiko, contextlib2, azure-mgmt-containerregistry, backports.weakref, backports.tempfile, azure-mgmt-keyvault, pyyaml, jmespath, tabulate, pygments, knack, azure-mgmt-storage, azure-mgmt-authorization, azureml.core\n",
      "  Attempting uninstall: packaging\n",
      "    Found existing installation: packaging 22.0\n",
      "    Uninstalling packaging-22.0:\n",
      "      Successfully uninstalled packaging-22.0\n",
      "Successfully installed PyJWT-2.6.0 SecretStorage-3.3.3 adal-1.2.7 argcomplete-2.0.0 azure-common-1.1.28 azure-core-1.26.1 azure-graphrbac-0.61.1 azure-mgmt-authorization-3.0.0 azure-mgmt-containerregistry-10.0.0 azure-mgmt-core-1.3.2 azure-mgmt-keyvault-10.1.0 azure-mgmt-resource-21.2.1 azure-mgmt-storage-20.1.0 azureml.core backports.tempfile-1.0 backports.weakref-1.0.post1 bcrypt-4.0.1 contextlib2-21.6.0 docker-6.0.1 humanfriendly-10.0 isodate-0.6.1 jeepney-0.8.0 jmespath-1.0.1 jsonpickle-2.2.0 knack-0.10.1 msal-1.20.0 msal-extensions-1.0.0 msrest-0.7.1 msrestazure-0.6.4 ndg-httpsclient-0.5.1 oauthlib-3.2.2 packaging-21.3 paramiko-2.12.0 pathspec-0.10.3 pkginfo-1.9.2 portalocker-2.6.0 pyasn1-0.4.8 pygments-2.13.0 pynacl-1.5.0 pyyaml-6.0 requests-oauthlib-1.3.1 tabulate-0.9.0 websocket-client-1.4.2\n"
     ]
    }
   ],
   "source": [
    "!pip install matplotlib\n",
    "!conda install opencv -y\n",
    "!pip install h5py\n",
    "!pip install azureml\n",
    "!pip install azureml.core"
   ]
  },
  {
   "cell_type": "code",
   "execution_count": 21,
   "metadata": {
    "colab": {
     "base_uri": "https://localhost:8080/"
    },
    "executionInfo": {
     "elapsed": 20,
     "status": "ok",
     "timestamp": 1671009745595,
     "user": {
      "displayName": "Harsh",
      "userId": "14338509782728632248"
     },
     "user_tz": -330
    },
    "id": "P1yrubDGDKnL",
    "outputId": "72813d02-284e-4945-f8d8-e21886bbc988"
   },
   "outputs": [
    {
     "name": "stdout",
     "output_type": "stream",
     "text": [
      "/content/gdrive/MyDrive/Colab Notebooks/deeprule/data\n"
     ]
    }
   ],
   "source": [
    "%cd ../.."
   ]
  },
  {
   "cell_type": "code",
   "execution_count": 22,
   "metadata": {
    "colab": {
     "base_uri": "https://localhost:8080/"
    },
    "executionInfo": {
     "elapsed": 19,
     "status": "ok",
     "timestamp": 1671009745595,
     "user": {
      "displayName": "Harsh",
      "userId": "14338509782728632248"
     },
     "user_tz": -330
    },
    "id": "fLaLfEOTDRFp",
    "outputId": "7b95d235-2d96-4415-acb9-1d9143146972"
   },
   "outputs": [
    {
     "name": "stdout",
     "output_type": "stream",
     "text": [
      "/content/gdrive/MyDrive/Colab Notebooks/deeprule\n"
     ]
    }
   ],
   "source": [
    "%cd ../"
   ]
  },
  {
   "cell_type": "code",
   "execution_count": 23,
   "metadata": {
    "colab": {
     "base_uri": "https://localhost:8080/"
    },
    "executionInfo": {
     "elapsed": 90111,
     "status": "ok",
     "timestamp": 1671009835689,
     "user": {
      "displayName": "Harsh",
      "userId": "14338509782728632248"
     },
     "user_tz": -330
    },
    "id": "3ClMv-IeDUBT",
    "outputId": "c6af8ce6-2a61-4489-aa7a-7c7b45fcddbe"
   },
   "outputs": [
    {
     "name": "stdout",
     "output_type": "stream",
     "text": [
      "/usr/local/lib/python3.7/importlib/_bootstrap.py:219: RuntimeWarning: compiletime version 3.6 of module 'pycocotools._mask' does not match runtime version 3.7\n",
      "  return f(*args, **kwds)\n",
      "loading parameters at iteration: 50000\n",
      "loading from cache file: data/linedata(1028)/cache/line_val2019.pkl\n",
      "loading annotations into memory...\n",
      "/content/gdrive/MyDrive/Colab Notebooks/deeprule/data/linedata(1028)/line/annotations/instancesLine(1023)_val2019.json\n",
      "Done (t=1.27s)\n",
      "creating index...\n",
      "index created!\n",
      "building neural network...\n",
      "module_file: models.CornerNetLine\n",
      "Failure while loading azureml_run_type_providers. Failed to load entrypoint azureml.scriptrun = azureml.core.script_run:ScriptRun._from_run_dto with exception (urllib3 1.25.8 (/usr/local/lib/python3.7/site-packages), Requirement.parse('urllib3>=1.26.0'), {'docker'}).\n",
      "use kp\n",
      "total parameters: 198592138\n",
      "loading parameters...\n",
      "loading model from data/linedata(1028)/cache/nnet/CornerNetLine/CornerNetLine_50000.pkl\n",
      "loading parameters at iteration: 20000\n",
      "loading from cache file: data/linedata(1028)/cache/line_real_val2019.pkl\n",
      "loading annotations into memory...\n",
      "/content/gdrive/MyDrive/Colab Notebooks/deeprule/data/linedata(1028)/line/annotations/instancesLineClsReal(1119)_val2019.json\n",
      "Done (t=0.75s)\n",
      "creating index...\n",
      "index created!\n",
      "building neural network...\n",
      "module_file: models.CornerNetLineClsReal\n",
      "/usr/local/lib/python3.7/site-packages/torch/nn/_reduction.py:42: UserWarning: size_average and reduce args will be deprecated, please use reduction='mean' instead.\n",
      "  warnings.warn(warning.format(ret))\n",
      "use kp pure\n",
      "total parameters: 188750476\n",
      "loading parameters...\n",
      "loading model from data/linedata(1028)/cache/nnet/CornerNetLineClsReal/CornerNetLineClsReal_20000.pkl\n",
      "  0% 0/2 [00:00<?, ?it/s]Predicted as LineChart\n",
      "6\n",
      "/content/gdrive/MyDrive/Colab Notebooks/deeprule/testfile/test_CornerNetLineCls.py:64: UserWarning: indexing with dtype torch.uint8 is now deprecated, please use a dtype torch.bool instead. (Triggered internally at ../aten/src/ATen/native/IndexingUtils.h:27.)\n",
      "  predictions = detections[inputs[3].squeeze()]\n",
      " 50% 1/2 [00:08<00:08,  8.01s/it]Predicted as LineChart\n",
      "0\n",
      "100% 2/2 [00:08<00:00,  4.47s/it]\n"
     ]
    }
   ],
   "source": [
    "!python test_pipe_type_cloud.py --image_path ./images --save_path ./save --type Line"
   ]
  }
 ],
 "metadata": {
  "accelerator": "GPU",
  "colab": {
   "authorship_tag": "ABX9TyMBgOqIQnVIIweQBgO6+ggs",
   "provenance": [
    {
     "file_id": "1k5-T4WGlB-z8MgmKOUVgUrbAsUzITj5Y",
     "timestamp": 1652273875659
    }
   ]
  },
  "kernelspec": {
   "display_name": "Python 3 (ipykernel)",
   "language": "python",
   "name": "python3"
  },
  "language_info": {
   "codemirror_mode": {
    "name": "ipython",
    "version": 3
   },
   "file_extension": ".py",
   "mimetype": "text/x-python",
   "name": "python",
   "nbconvert_exporter": "python",
   "pygments_lexer": "ipython3",
   "version": "3.9.7"
  }
 },
 "nbformat": 4,
 "nbformat_minor": 1
}
