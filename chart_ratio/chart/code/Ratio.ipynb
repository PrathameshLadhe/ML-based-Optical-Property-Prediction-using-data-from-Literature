{
 "cells": [
  {
   "cell_type": "markdown",
   "metadata": {
    "id": "T3VPgyMu6d8B"
   },
   "source": [
    "# Data Extraction\n",
    "\n",
    "## Parsing Y- axis Ticks and Y- vals \n",
    "This code parses the x and y axes (horizontal and vertical axes) detection for the y-ticks, calculates the ratio to normalize the figure contents, specifically the bar plots with respect to the y-ticks and finally connects the evaluated y-values with their correspinding legends using clustering algorithm. \n",
    "* Note that all the figures recorded have their respective dois as a unique key of identification."
   ]
  },
  {
   "cell_type": "code",
   "execution_count": 2,
   "metadata": {
    "colab": {
     "base_uri": "https://localhost:8080/"
    },
    "executionInfo": {
     "elapsed": 9002,
     "status": "ok",
     "timestamp": 1685853696490,
     "user": {
      "displayName": "Harsh",
      "userId": "14338509782728632248"
     },
     "user_tz": -330
    },
    "id": "kvgY6HUh62kF",
    "outputId": "8ac047d3-0411-4f31-aa5c-98d4834f9136"
   },
   "outputs": [
    {
     "name": "stdout",
     "output_type": "stream",
     "text": [
      "Looking in indexes: https://pypi.org/simple, https://us-python.pkg.dev/colab-wheels/public/simple/\n",
      "Requirement already satisfied: opencv-python in /usr/local/lib/python3.10/dist-packages (4.7.0.72)\n",
      "Requirement already satisfied: numpy>=1.21.2 in /usr/local/lib/python3.10/dist-packages (from opencv-python) (1.22.4)\n",
      "Looking in indexes: https://pypi.org/simple, https://us-python.pkg.dev/colab-wheels/public/simple/\n",
      "Collecting XlsxWriter\n",
      "  Downloading XlsxWriter-3.1.2-py3-none-any.whl (153 kB)\n",
      "\u001b[2K     \u001b[90m━━━━━━━━━━━━━━━━━━━━━━━━━━━━━━━━━━━━━━━\u001b[0m \u001b[32m153.0/153.0 kB\u001b[0m \u001b[31m4.0 MB/s\u001b[0m eta \u001b[36m0:00:00\u001b[0m\n",
      "\u001b[?25hInstalling collected packages: XlsxWriter\n",
      "Successfully installed XlsxWriter-3.1.2\n"
     ]
    }
   ],
   "source": [
    "!pip install opencv-python\n",
    "!pip install XlsxWriter"
   ]
  },
  {
   "cell_type": "code",
   "execution_count": 3,
   "metadata": {
    "executionInfo": {
     "elapsed": 644,
     "status": "ok",
     "timestamp": 1685853697131,
     "user": {
      "displayName": "Harsh",
      "userId": "14338509782728632248"
     },
     "user_tz": -330
    },
    "id": "BFMYTi-H6d8D"
   },
   "outputs": [],
   "source": [
    "import cv2, imutils, re, sys, math\n",
    "import xlsxwriter, json, os\n",
    "import matplotlib.pyplot as plt\n",
    "import numpy as np\n",
    "from pathlib import Path\n",
    "from matplotlib import rcParams"
   ]
  },
  {
   "cell_type": "code",
   "execution_count": 4,
   "metadata": {
    "colab": {
     "base_uri": "https://localhost:8080/"
    },
    "executionInfo": {
     "elapsed": 24055,
     "status": "ok",
     "timestamp": 1685853727722,
     "user": {
      "displayName": "Harsh",
      "userId": "14338509782728632248"
     },
     "user_tz": -330
    },
    "id": "BVcPsqsi6nlk",
    "outputId": "5649e0c6-20a0-44d3-e610-dfe65294da44"
   },
   "outputs": [
    {
     "name": "stdout",
     "output_type": "stream",
     "text": [
      "Mounted at /content/gdrive\n",
      "/content/gdrive/My Drive/Colab Notebooks/chart\n"
     ]
    }
   ],
   "source": [
    "from google.colab import drive\n",
    "drive.mount('/content/gdrive')\n",
    "root_path = 'gdrive/My Drive/Colab Notebooks/chart'\n",
    "%cd /content/gdrive/My Drive/Colab Notebooks/chart "
   ]
  },
  {
   "cell_type": "code",
   "execution_count": 5,
   "metadata": {
    "executionInfo": {
     "elapsed": 3,
     "status": "ok",
     "timestamp": 1685853727722,
     "user": {
      "displayName": "Harsh",
      "userId": "14338509782728632248"
     },
     "user_tz": -330
    },
    "id": "0LLH7w5y6d8F"
   },
   "outputs": [],
   "source": [
    "# Directory of images to run the code on\n",
    "img_dir = 'test'"
   ]
  },
  {
   "cell_type": "markdown",
   "metadata": {
    "id": "c8EIMlkc6d8F"
   },
   "source": [
    "### Using json to parse the captions and dois for each image"
   ]
  },
  {
   "cell_type": "code",
   "execution_count": 6,
   "metadata": {
    "executionInfo": {
     "elapsed": 1293,
     "status": "ok",
     "timestamp": 1685853750916,
     "user": {
      "displayName": "Harsh",
      "userId": "14338509782728632248"
     },
     "user_tz": -330
    },
    "id": "V1rbvJ096d8G"
   },
   "outputs": [],
   "source": [
    "with open('data/urldata.json') as handler:\n",
    "    urldata = json.load(handler)"
   ]
  },
  {
   "cell_type": "code",
   "execution_count": 7,
   "metadata": {
    "executionInfo": {
     "elapsed": 443,
     "status": "ok",
     "timestamp": 1685853753753,
     "user": {
      "displayName": "Harsh",
      "userId": "14338509782728632248"
     },
     "user_tz": -330
    },
    "id": "e74jjrCr6d8G"
   },
   "outputs": [],
   "source": [
    "with open('data/doi_data.json') as doihandler:\n",
    "    doidata = json.load(doihandler)"
   ]
  },
  {
   "cell_type": "code",
   "execution_count": 8,
   "metadata": {
    "executionInfo": {
     "elapsed": 3,
     "status": "ok",
     "timestamp": 1685853755719,
     "user": {
      "displayName": "Harsh",
      "userId": "14338509782728632248"
     },
     "user_tz": -330
    },
    "id": "Od5xBZjK6d8G"
   },
   "outputs": [],
   "source": [
    "with open('out/ocr-image-text.json') as ocrhandler:\n",
    "    images_text = json.load(ocrhandler)"
   ]
  },
  {
   "cell_type": "code",
   "execution_count": 9,
   "metadata": {
    "executionInfo": {
     "elapsed": 559,
     "status": "ok",
     "timestamp": 1685853757950,
     "user": {
      "displayName": "Harsh",
      "userId": "14338509782728632248"
     },
     "user_tz": -330
    },
    "id": "Y1Pk7oZN6d8G"
   },
   "outputs": [],
   "source": [
    "with open('out/aws-rekognition-output.json') as awshandler:\n",
    "    bbox_text = json.load(awshandler)"
   ]
  },
  {
   "cell_type": "markdown",
   "metadata": {
    "id": "eNF1UzMV6d8H"
   },
   "source": [
    "### Function to detect x-axis and y-axis for a plot"
   ]
  },
  {
   "cell_type": "code",
   "execution_count": 10,
   "metadata": {
    "executionInfo": {
     "elapsed": 1,
     "status": "ok",
     "timestamp": 1685853759634,
     "user": {
      "displayName": "Harsh",
      "userId": "14338509782728632248"
     },
     "user_tz": -330
    },
    "id": "TDn0c-8R6d8H"
   },
   "outputs": [],
   "source": [
    "def findMaxConsecutiveOnes(nums) -> int:\n",
    "    count = maxCount = 0\n",
    "    \n",
    "    for i in range(len(nums)):\n",
    "        if nums[i] == 1:\n",
    "            count += 1\n",
    "        else:\n",
    "            maxCount = max(count, maxCount)\n",
    "            count = 0\n",
    "                \n",
    "    return max(count, maxCount)"
   ]
  },
  {
   "cell_type": "code",
   "execution_count": 11,
   "metadata": {
    "executionInfo": {
     "elapsed": 752,
     "status": "ok",
     "timestamp": 1685853762306,
     "user": {
      "displayName": "Harsh",
      "userId": "14338509782728632248"
     },
     "user_tz": -330
    },
    "id": "iqi2mBEE6d8H"
   },
   "outputs": [],
   "source": [
    "def detectAxes(filepath, threshold=None, debug=False):\n",
    "    if filepath is None:\n",
    "        return None, None\n",
    "    \n",
    "    if threshold is None:\n",
    "        threshold = 10\n",
    "    \n",
    "    image = cv2.imread(filepath)\n",
    "    height, width, channels = image.shape\n",
    "    \n",
    "    gray = cv2.cvtColor(image, cv2.COLOR_BGR2GRAY)\n",
    "    \n",
    "    maxConsecutiveOnes = [findMaxConsecutiveOnes(gray[:, idx] < 200) for idx in range(width)]\n",
    "    start_idx, maxindex, maxcount = 0, 0, max(maxConsecutiveOnes)\n",
    "    while start_idx < width:\n",
    "        if abs(maxConsecutiveOnes[start_idx] - maxcount) <= threshold:\n",
    "            maxindex = start_idx\n",
    "            break\n",
    "            \n",
    "        start_idx += 1\n",
    "           \n",
    "    yaxis = (maxindex, 0, maxindex, height)\n",
    "    \n",
    "    if debug:\n",
    "        fig, ax = plt.subplots(1, 2)\n",
    "\n",
    "        ax[0].imshow(image)\n",
    "\n",
    "        ax[1].plot(maxConsecutiveOnes, color = 'k')\n",
    "        ax[1].axhline(y = max(maxConsecutiveOnes) - 10, color = 'r', linestyle = 'dashed')\n",
    "        ax[1].axhline(y = max(maxConsecutiveOnes) + 10, color = 'r', linestyle = 'dashed')\n",
    "        ax[1].vlines(x = maxindex, ymin = 0.0, ymax = maxConsecutiveOnes[maxindex], color = 'b', linewidth = 4)\n",
    "\n",
    "        plt.show()\n",
    "\n",
    "    maxConsecutiveOnes = [findMaxConsecutiveOnes(gray[idx, :] < 200) for idx in range(height)]\n",
    "    start_idx, maxindex, maxcount = 0, 0, max(maxConsecutiveOnes)\n",
    "    while start_idx < height:\n",
    "        if abs(maxConsecutiveOnes[start_idx] - maxcount) <= threshold:\n",
    "            maxindex = start_idx\n",
    "            \n",
    "        start_idx += 1\n",
    "            \n",
    "    cv2.line(image, (0, maxindex), (width, maxindex),  (255, 0, 0), 2)\n",
    "    xaxis = (0, maxindex, width, maxindex)\n",
    "    \n",
    "    if debug:\n",
    "        rcParams['figure.figsize'] = 15, 8\n",
    "\n",
    "        fig, ax = plt.subplots(1, 1)\n",
    "        ax.imshow(image, aspect = 'auto')\n",
    "        \n",
    "    return xaxis, yaxis"
   ]
  },
  {
   "cell_type": "code",
   "execution_count": 12,
   "metadata": {
    "executionInfo": {
     "elapsed": 441,
     "status": "ok",
     "timestamp": 1685853765939,
     "user": {
      "displayName": "Harsh",
      "userId": "14338509782728632248"
     },
     "user_tz": -330
    },
    "id": "wbu3dk9O6d8I"
   },
   "outputs": [],
   "source": [
    "def cleanText(image_text):\n",
    "    \n",
    "    return [(text, (textx, texty, w, h)) for text, (textx, texty, w, h) in image_text if text.strip() != 'I']"
   ]
  },
  {
   "cell_type": "code",
   "execution_count": 13,
   "metadata": {
    "executionInfo": {
     "elapsed": 2,
     "status": "ok",
     "timestamp": 1685853767706,
     "user": {
      "displayName": "Harsh",
      "userId": "14338509782728632248"
     },
     "user_tz": -330
    },
    "id": "nMCZxP9L6d8I"
   },
   "outputs": [],
   "source": [
    "def getProbableLabels(image, image_text, xaxis, yaxis):\n",
    "    y_labels = []\n",
    "    x_labels = []\n",
    "    legends = []\n",
    "    y_text_list = []\n",
    "    \n",
    "    height, width, channels = image.shape\n",
    "    \n",
    "    (x1, y1, x2, y2) = xaxis\n",
    "    (x11, y11, x22, y22) = yaxis\n",
    "    \n",
    "    image_text = cleanText(image_text)\n",
    "    \n",
    "    for text, (textx, texty, w, h) in image_text:\n",
    "        text = text.strip()\n",
    "            \n",
    "        # To the left of y-axis and top of x-axis\n",
    "        if (np.sign((x2 - x1) * (texty - y1) - (y2 - y1) * (textx - x1)) == -1 and\n",
    "            np.sign((x22 - x11) * (texty - y11) - (y22 - y11) * (textx - x11)) == 1):\n",
    "            \n",
    "            numbers = re.findall(r'^[+-]?\\d+(?:\\.\\d+)?[%-]?$', text)\n",
    "            if bool(numbers):\n",
    "                y_labels.append((text, (textx, texty, w, h)))\n",
    "            else:\n",
    "                y_text_list.append((text, (textx, texty, w, h)))\n",
    "            \n",
    "        # To the right of y-axis and bottom of x-axis\n",
    "        elif (np.sign((x2 - x1) * (texty - y1) - (y2 - y1) * (textx - x1)) == 1 and\n",
    "            np.sign((x22 - x11) * (texty - y11) - (y22 - y11) * (textx - x11)) == -1):\n",
    "            x_labels.append((text, (textx, texty, w, h)))\n",
    "            \n",
    "        # Top of x-axis and to the right of y-axis\n",
    "        elif (np.sign((x2 - x1) * (texty - y1) - (y2 - y1) * (textx - x1)) == -1 and\n",
    "            np.sign((x22 - x11) * (texty - y11) - (y22 - y11) * (textx - x11)) == -1):\n",
    "            \n",
    "            # Consider non-numeric only for legends\n",
    "            legends.append((text, (textx, texty, w, h)))\n",
    "    \n",
    "    # Get the y-labels by finding the maximum\n",
    "    # intersections with the sweeping line\n",
    "    maxIntersection = 0\n",
    "    maxList = []\n",
    "    for i in range(x11):\n",
    "        count = 0\n",
    "        current = []\n",
    "        for index, (text, rect) in enumerate(y_labels):\n",
    "            if lineIntersectsRectX(i, rect):\n",
    "                count += 1\n",
    "                current.append(y_labels[index])\n",
    "                            \n",
    "        if count > maxIntersection:\n",
    "            maxIntersection = count\n",
    "            maxList = current\n",
    "    \n",
    "    y_labels_list = maxList.copy()\n",
    "    \n",
    "    y_labels = []\n",
    "    for text, (textx, texty, w, h) in maxList:\n",
    "        y_labels.append(text)\n",
    "        \n",
    "    # Get the x-labels by finding the maximum\n",
    "    # intersections with the sweeping line\n",
    "    \n",
    "    maxIntersection = 0\n",
    "    maxList = []\n",
    "    for i in range(y1, height):\n",
    "        count = 0\n",
    "        current = []\n",
    "        for index, (text, rect) in enumerate(x_labels):\n",
    "            if lineIntersectsRectY(i, rect):\n",
    "                count += 1\n",
    "                current.append(x_labels[index])\n",
    "                            \n",
    "        if count > maxIntersection:\n",
    "            maxIntersection = count\n",
    "            maxList = current\n",
    "            \n",
    "    x_labels_list = maxList.copy()\n",
    "    \n",
    "    x_text = x_labels.copy()\n",
    "    x_labels = []\n",
    "    hmax = 0\n",
    "    \n",
    "    for text, (textx, texty, w, h) in maxList:\n",
    "        x_labels.append(text)\n",
    "        if texty + h > hmax:\n",
    "            hmax = texty + h\n",
    "    \n",
    "    # Get possible x-text by moving from where we\n",
    "    # left off in x-labels to the complete\n",
    "    # height of the image.\n",
    "    maxIntersection = 0\n",
    "    maxList = []\n",
    "    for i in range(hmax + 1, height):\n",
    "        count = 0\n",
    "        current = []\n",
    "        for index, (text, rect) in enumerate(x_text):\n",
    "            if lineIntersectsRectY(i, rect):\n",
    "                count += 1\n",
    "                current.append(x_text[index])\n",
    "                            \n",
    "        if count > maxIntersection:\n",
    "            maxIntersection = count\n",
    "            maxList = current\n",
    "    \n",
    "    x_text = []\n",
    "    for text, (textx, texty, w, h) in maxList:\n",
    "        x_text.append(text)\n",
    "    \n",
    "    # Get possible legend text\n",
    "    # For this, we need to search both top to\n",
    "    # bottom and also from left to right.\n",
    "    \n",
    "    legends_and_numbers = mergeTextBoxes(legends)\n",
    "    \n",
    "    legends = []\n",
    "    for text, (textx, texty, w, h) in legends_and_numbers:\n",
    "        if not re.search(r'^([(+-]*?(\\d+)?(?:\\.\\d+)*?[-%) ]*?)*$', text):\n",
    "            legends.append((text, (textx, texty, w, h)))\n",
    "    \n",
    "    \n",
    "    def canMerge(group, candidate):\n",
    "        candText, candRect = candidate\n",
    "        candx, candy, candw, candh = candRect\n",
    "        \n",
    "        for memText, memRect in group:\n",
    "            memx, memy, memw, memh = memRect\n",
    "                \n",
    "            if abs(candy - memy) <= 5 and abs(candy + candh - memy - memh) <= 5:\n",
    "                return True\n",
    "            elif abs(candx - memx) <= 5:\n",
    "                return True\n",
    "                \n",
    "        return False\n",
    "    \n",
    "    # Grouping Algorithm\n",
    "    legend_groups = []\n",
    "    for index, (text, rect) in enumerate(legends):\n",
    "        #print(\"text: {0}, rect: {1}\\n\".format(text, rect))\n",
    "        \n",
    "        for groupid, group in enumerate(legend_groups):\n",
    "            if canMerge(group, (text, rect)):\n",
    "                group.append((text, rect))\n",
    "                break\n",
    "        else:\n",
    "            legend_groups.append([(text, rect)])\n",
    "    \n",
    "    #print(legend_groups)\n",
    "    #print(\"\\n\\n\")\n",
    "    \n",
    "    maxList = []\n",
    "    \n",
    "    if len(legend_groups) > 0:\n",
    "        maxList = max(legend_groups, key = len)\n",
    "\n",
    "    legends = []\n",
    "    for text, (textx, texty, w, h) in maxList:\n",
    "        legends.append(text)\n",
    "        \n",
    "    return image, x_labels, x_labels_list, x_text, y_labels, y_labels_list, y_text_list, legends, maxList"
   ]
  },
  {
   "cell_type": "code",
   "execution_count": 14,
   "metadata": {
    "executionInfo": {
     "elapsed": 3,
     "status": "ok",
     "timestamp": 1685853780576,
     "user": {
      "displayName": "Harsh",
      "userId": "14338509782728632248"
     },
     "user_tz": -330
    },
    "id": "T902aCD16d8K"
   },
   "outputs": [],
   "source": [
    "def lineIntersectsRectX(candx, rect):\n",
    "    (x, y, w, h) = rect\n",
    "    \n",
    "    if x <= candx <= x + w:\n",
    "        return True\n",
    "    else:\n",
    "        return False\n",
    "    \n",
    "def lineIntersectsRectY(candy, rect):\n",
    "    (x, y, w, h) = rect\n",
    "    \n",
    "    if y <= candy <= y + h:\n",
    "        return True\n",
    "    else:\n",
    "        return False"
   ]
  },
  {
   "cell_type": "code",
   "execution_count": 15,
   "metadata": {
    "executionInfo": {
     "elapsed": 438,
     "status": "ok",
     "timestamp": 1685853788793,
     "user": {
      "displayName": "Harsh",
      "userId": "14338509782728632248"
     },
     "user_tz": -330
    },
    "id": "7_Bv_VIq6d8K"
   },
   "outputs": [],
   "source": [
    "def getRatio(path, xaxis, yaxis):\n",
    "    list_text = []\n",
    "    list_ticks = []\n",
    "    \n",
    "    filepath = img_dir + \"/\" + path.name\n",
    "    \n",
    "    image = cv2.imread(filepath)\n",
    "    image = cv2.cvtColor(image, cv2.COLOR_BGR2RGB)\n",
    "    height, width, channels = image.shape\n",
    "\n",
    "    image_text = images_text[path.name]\n",
    "    \n",
    "    for text, (textx, texty, w, h) in image_text:\n",
    "        text = text.strip()\n",
    "                    \n",
    "        (x1, y1, x2, y2) = xaxis\n",
    "        (x11, y11, x22, y22) = yaxis\n",
    "        \n",
    "        # To the left of y-axis and top of x-axis\n",
    "        if (np.sign((x2 - x1) * (texty - y1) - (y2 - y1) * (textx - x1)) == -1 and\n",
    "            np.sign((x22 - x11) * (texty - y11) - (y22 - y11) * (textx - x11)) == 1):\n",
    "            \n",
    "            # Consider numeric only for ticks on y-axis\n",
    "            numbers = re.findall(r'\\d+(?:\\.\\d+)?', text)\n",
    "            if bool(numbers):\n",
    "                list_text.append((numbers[0], (textx, texty, w, h)))\n",
    "                          \n",
    "    # Get the y-labels by finding the maximum\n",
    "    # intersections with the sweeping line\n",
    "    maxIntersection = 0\n",
    "    maxList = []\n",
    "    for i in range(x11):\n",
    "        count = 0\n",
    "        current = []\n",
    "        for index, (text, rect) in enumerate(list_text):\n",
    "            if lineIntersectsRectX(i, rect):\n",
    "                count += 1\n",
    "                current.append(list_text[index])\n",
    "                            \n",
    "        if count > maxIntersection:\n",
    "            maxIntersection = count\n",
    "            maxList = current\n",
    "    \n",
    "    # Get list of text and ticks\n",
    "    list_text = []\n",
    "    for text, (textx, texty, w, h) in maxList:\n",
    "        list_text.append(float(text))\n",
    "        list_ticks.append(float(texty + h))\n",
    "        \n",
    "    text_sorted = (sorted(list_text))\n",
    "    ticks_sorted  = (sorted(list_ticks))\n",
    "    \n",
    "    ticks_diff = ([ticks_sorted[i] - ticks_sorted[i-1] for i in range(1, len(ticks_sorted))])\n",
    "    text_diff = ([text_sorted[i] - text_sorted[i-1] for i in range(1, len(text_sorted))])\n",
    "    print(\"[get text-to-tick ratio] ticks_diff: {0}, text_diff: {1}\".format(ticks_diff, text_diff))\n",
    "    \n",
    "    # Detected text may not be perfect! Remove the outliers.\n",
    "    ticks_diff = reject_outliers(np.array(ticks_diff), m=1)\n",
    "    text_diff = reject_outliers(np.array(text_diff), m=1)\n",
    "    print(\"[reject_outliers] ticks_diff: {0}, text_diff: {1}\".format(ticks_diff, text_diff))\n",
    "    \n",
    "    normalize_ratio = np.array(text_diff).mean() / np.array(ticks_diff).mean()\n",
    "\n",
    "    return text_sorted, normalize_ratio"
   ]
  },
  {
   "cell_type": "code",
   "execution_count": 16,
   "metadata": {
    "executionInfo": {
     "elapsed": 540,
     "status": "ok",
     "timestamp": 1685853792205,
     "user": {
      "displayName": "Harsh",
      "userId": "14338509782728632248"
     },
     "user_tz": -330
    },
    "id": "DqZXxB_n6d8L"
   },
   "outputs": [],
   "source": [
    "def lineIntersectsRectX(candx, rect):\n",
    "    (x, y, w, h) = rect\n",
    "    \n",
    "    if x <= candx <= x + w:\n",
    "        return True\n",
    "    else:\n",
    "        return False\n",
    "    \n",
    "def lineIntersectsRectY(candy, rect):\n",
    "    (x, y, w, h) = rect\n",
    "    \n",
    "    if y <= candy <= y + h:\n",
    "        return True\n",
    "    else:\n",
    "        return False"
   ]
  },
  {
   "cell_type": "code",
   "execution_count": 17,
   "metadata": {
    "executionInfo": {
     "elapsed": 614,
     "status": "ok",
     "timestamp": 1685853793475,
     "user": {
      "displayName": "Harsh",
      "userId": "14338509782728632248"
     },
     "user_tz": -330
    },
    "id": "bRDvuByF6d8L"
   },
   "outputs": [],
   "source": [
    "def reject_outliers(data, m=1):\n",
    "    return data[abs(data - np.mean(data)) <= m * np.std(data)]"
   ]
  },
  {
   "cell_type": "code",
   "execution_count": 18,
   "metadata": {
    "executionInfo": {
     "elapsed": 6,
     "status": "ok",
     "timestamp": 1685853793975,
     "user": {
      "displayName": "Harsh",
      "userId": "14338509782728632248"
     },
     "user_tz": -330
    },
    "id": "T62lQbzO7ump"
   },
   "outputs": [],
   "source": [
    "def getRatiox(path, xaxis, yaxis):\n",
    "    list_text = []\n",
    "    list_ticks = []\n",
    "    \n",
    "    filepath = img_dir + \"/\" + path.name\n",
    "    \n",
    "    image = cv2.imread(filepath)\n",
    "    image = cv2.cvtColor(image, cv2.COLOR_BGR2RGB)\n",
    "    height, width, channels = image.shape\n",
    "\n",
    "    image_text = images_text[path.name]\n",
    "    \n",
    "    for text, (textx, texty, w, h) in image_text:\n",
    "        text = text.strip()\n",
    "                    \n",
    "        (x1, y1, x2, y2) = xaxis\n",
    "        (x11, y11, x22, y22) = yaxis\n",
    "        \n",
    "        # To the right of y-axis and below of x-axis\n",
    "        if (np.sign((x2 - x1) * (texty - y1) - (y2 - y1) * (textx - x1)) == 1 and\n",
    "            np.sign((x22 - x11) * (texty - y11) - (y22 - y11) * (textx - x11)) == -1):\n",
    "            \n",
    "            # Consider numeric only for ticks on x-axis\n",
    "            numbers = re.findall(r'\\d+(?:\\.\\d+)?', text)\n",
    "            if bool(numbers):\n",
    "                list_text.append((numbers[0], (textx, texty, w, h)))\n",
    "                          \n",
    "    # Get the x-labels by finding the maximum\n",
    "    # intersections with the sweeping line\n",
    "    maxIntersection = 0\n",
    "    maxList = []\n",
    "    for i in range(-1,y1,-1):\n",
    "        count = 0\n",
    "        current = []\n",
    "        for index, (text, rect) in enumerate(list_text):\n",
    "            if lineIntersectsRectY(i, rect):\n",
    "                count += 1\n",
    "                current.append(list_text[index])\n",
    "                            \n",
    "        if count > maxIntersection:\n",
    "            maxIntersection = count\n",
    "            maxList = current\n",
    "    \n",
    "    # Get list of text and ticks\n",
    "    list_text = []\n",
    "    for text, (textx, texty, w, h) in maxList:\n",
    "        list_text.append(float(text))\n",
    "        list_ticks.append(float(textx + w))\n",
    "        \n",
    "    text_sorted = (sorted(list_text))\n",
    "    ticks_sorted  = (sorted(list_ticks))\n",
    "    \n",
    "    ticks_diff = ([ticks_sorted[i] - ticks_sorted[i-1] for i in range(1, len(ticks_sorted))])\n",
    "    text_diff = ([text_sorted[i] - text_sorted[i-1] for i in range(1, len(text_sorted))])\n",
    "    print(\"[get text-to-tick ratio] ticks_diff: {0}, text_diff: {1}\".format(ticks_diff, text_diff))\n",
    "    \n",
    "    # Detected text may not be perfect! Remove the outliers.\n",
    "    ticks_diff = reject_outliers(np.array(ticks_diff), m=1)\n",
    "    text_diff = reject_outliers(np.array(text_diff), m=1)\n",
    "    print(\"[reject_outliers] ticks_diff: {0}, text_diff: {1}\".format(ticks_diff, text_diff))\n",
    "    \n",
    "    normalize_ratio = np.array(text_diff).mean() / np.array(ticks_diff).mean()\n",
    "\n",
    "    return text_sorted, normalize_ratio  \n"
   ]
  },
  {
   "cell_type": "code",
   "execution_count": 19,
   "metadata": {
    "executionInfo": {
     "elapsed": 1037,
     "status": "ok",
     "timestamp": 1685773588745,
     "user": {
      "displayName": "Harsh",
      "userId": "14338509782728632248"
     },
     "user_tz": -330
    },
    "id": "LA5UCdlh7x1b"
   },
   "outputs": [],
   "source": [
    "def lineIntersectsRectX(candx, rect):\n",
    "    (x, y, w, h) = rect\n",
    "    \n",
    "    if x <= candx <= x + w:\n",
    "        return True\n",
    "    else:\n",
    "        return False\n",
    "    \n",
    "def lineIntersectsRectY(candy, rect):\n",
    "    (x, y, w, h) = rect\n",
    "    \n",
    "    if y <= candy <= y + h:\n",
    "        return True\n",
    "    else:\n",
    "        return False"
   ]
  },
  {
   "cell_type": "code",
   "execution_count": 19,
   "metadata": {
    "executionInfo": {
     "elapsed": 4,
     "status": "ok",
     "timestamp": 1685853796594,
     "user": {
      "displayName": "Harsh",
      "userId": "14338509782728632248"
     },
     "user_tz": -330
    },
    "id": "-ByXMa577ycr"
   },
   "outputs": [],
   "source": [
    "def reject_outliers(data, m=1):\n",
    "    return data[abs(data - np.mean(data)) <= m * np.std(data)]"
   ]
  },
  {
   "cell_type": "code",
   "execution_count": 21,
   "metadata": {
    "executionInfo": {
     "elapsed": 437,
     "status": "ok",
     "timestamp": 1685853802473,
     "user": {
      "displayName": "Harsh",
      "userId": "14338509782728632248"
     },
     "user_tz": -330
    },
    "id": "4xgf7-S56d8M"
   },
   "outputs": [],
   "source": [
    "def mergeRects(contours, mode='contours'):\n",
    "    rects = []\n",
    "    rectsUsed = []\n",
    "\n",
    "    # Just initialize bounding rects and set all bools to false\n",
    "    for cnt in contours:\n",
    "        if mode == 'contours':\n",
    "            rects.append(cv2.boundingRect(cnt))\n",
    "        elif mode == 'rects':\n",
    "            rects.append(cnt)\n",
    "        \n",
    "        rectsUsed.append(False)\n",
    "\n",
    "    # Sort bounding rects by x coordinate\n",
    "    def getXFromRect(item):\n",
    "        return item[0]\n",
    "\n",
    "    rects.sort(key = getXFromRect)\n",
    "\n",
    "    # Array of accepted rects\n",
    "    acceptedRects = []\n",
    "\n",
    "    # Merge threshold for x coordinate distance\n",
    "    xThr = 5\n",
    "    yThr = 5\n",
    "\n",
    "    # Iterate all initial bounding rects\n",
    "    for supIdx, supVal in enumerate(rects):\n",
    "        if (rectsUsed[supIdx] == False):\n",
    "\n",
    "            # Initialize current rect\n",
    "            currxMin = supVal[0]\n",
    "            currxMax = supVal[0] + supVal[2]\n",
    "            curryMin = supVal[1]\n",
    "            curryMax = supVal[1] + supVal[3]\n",
    "\n",
    "            # This bounding rect is used\n",
    "            rectsUsed[supIdx] = True\n",
    "\n",
    "            # Iterate all initial bounding rects\n",
    "            # starting from the next\n",
    "            for subIdx, subVal in enumerate(rects[(supIdx+1):], start = (supIdx+1)):\n",
    "\n",
    "                # Initialize merge candidate\n",
    "                candxMin = subVal[0]\n",
    "                candxMax = subVal[0] + subVal[2]\n",
    "                candyMin = subVal[1]\n",
    "                candyMax = subVal[1] + subVal[3]\n",
    "\n",
    "                # Check if x distance between current rect\n",
    "                # and merge candidate is small enough\n",
    "                if (candxMin <= currxMax + xThr):\n",
    "\n",
    "                    if not nearbyRectangle((candxMin, candyMin, candxMax - candxMin, candyMax - candyMin),\n",
    "                                           (currxMin, curryMin, currxMax - currxMin, curryMax - curryMin), yThr):\n",
    "                        break\n",
    "\n",
    "                    # Reset coordinates of current rect\n",
    "                    currxMax = candxMax\n",
    "                    curryMin = min(curryMin, candyMin)\n",
    "                    curryMax = max(curryMax, candyMax)\n",
    "\n",
    "                    # Merge candidate (bounding rect) is used\n",
    "                    rectsUsed[subIdx] = True\n",
    "                else:\n",
    "                    break\n",
    "\n",
    "            # No more merge candidates possible, accept current rect\n",
    "            acceptedRects.append([currxMin, curryMin, currxMax - currxMin, curryMax - curryMin])\n",
    "    \n",
    "    return acceptedRects"
   ]
  },
  {
   "cell_type": "code",
   "execution_count": 22,
   "metadata": {
    "executionInfo": {
     "elapsed": 2,
     "status": "ok",
     "timestamp": 1685853806180,
     "user": {
      "displayName": "Harsh",
      "userId": "14338509782728632248"
     },
     "user_tz": -330
    },
    "id": "MjKUkS2U6d8M"
   },
   "outputs": [],
   "source": [
    "def mergeTextBoxes(textboxes):\n",
    "    rects = []\n",
    "    rectsUsed = []\n",
    "    \n",
    "    # Just initialize bounding rects and set all bools to false\n",
    "    for box in textboxes:\n",
    "        rects.append(box)\n",
    "        rectsUsed.append(False)\n",
    "\n",
    "    # Sort bounding rects by x coordinate\n",
    "    def getXFromRect(item):\n",
    "        return item[1][0]\n",
    "    \n",
    "    def getYFromRect(item):\n",
    "        return item[1][1]\n",
    "\n",
    "    rects.sort(key = lambda x: (getYFromRect, getXFromRect))\n",
    "    \n",
    "    # Array of accepted rects\n",
    "    acceptedRects = []\n",
    "\n",
    "    # Merge threshold for x coordinate distance\n",
    "    xThr = 10\n",
    "    yThr = 0\n",
    "\n",
    "    # Iterate all initial bounding rects\n",
    "    for supIdx, supVal in enumerate(rects):\n",
    "        if (rectsUsed[supIdx] == False):\n",
    "\n",
    "            # Initialize current rect\n",
    "            currxMin = supVal[1][0]\n",
    "            currxMax = supVal[1][0] + supVal[1][2]\n",
    "            curryMin = supVal[1][1]\n",
    "            curryMax = supVal[1][1] + supVal[1][3]\n",
    "            currText = supVal[0]\n",
    "\n",
    "            # This bounding rect is used\n",
    "            rectsUsed[supIdx] = True\n",
    "\n",
    "            # Iterate all initial bounding rects\n",
    "            # starting from the next\n",
    "            for subIdx, subVal in enumerate(rects[(supIdx+1):], start = (supIdx+1)):\n",
    "\n",
    "                # Initialize merge candidate\n",
    "                candxMin = subVal[1][0]\n",
    "                candxMax = subVal[1][0] + subVal[1][2]\n",
    "                candyMin = subVal[1][1]\n",
    "                candyMax = subVal[1][1] + subVal[1][3]\n",
    "                candText = subVal[0]\n",
    "\n",
    "                # Check if x distance between current rect\n",
    "                # and merge candidate is small enough\n",
    "                if (candxMin <= currxMax + xThr):\n",
    "\n",
    "                    if not nearbyRectangle((candxMin, candyMin, candxMax - candxMin, candyMax - candyMin),\n",
    "                                           (currxMin, curryMin, currxMax - currxMin, curryMax - curryMin), yThr):\n",
    "                        break\n",
    "\n",
    "                    # Reset coordinates of current rect\n",
    "                    currxMax = candxMax\n",
    "                    curryMin = min(curryMin, candyMin)\n",
    "                    curryMax = max(curryMax, candyMax)\n",
    "                    currText = currText + ' ' + candText\n",
    "                    \n",
    "                    # Merge candidate (bounding rect) is used\n",
    "                    rectsUsed[subIdx] = True\n",
    "                else:\n",
    "                    break\n",
    "\n",
    "            # No more merge candidates possible, accept current rect\n",
    "            acceptedRects.append([currText, (currxMin, curryMin, currxMax - currxMin, curryMax - curryMin)])\n",
    "    \n",
    "    return acceptedRects"
   ]
  },
  {
   "cell_type": "code",
   "execution_count": 23,
   "metadata": {
    "executionInfo": {
     "elapsed": 434,
     "status": "ok",
     "timestamp": 1685853810409,
     "user": {
      "displayName": "Harsh",
      "userId": "14338509782728632248"
     },
     "user_tz": -330
    },
    "id": "MKwkqFFs6d8N"
   },
   "outputs": [],
   "source": [
    "def nearbyRectangle(current, candidate, threshold):\n",
    "    (currx, curry, currw, currh) = current\n",
    "    (candx, candy, candw, candh) = candidate\n",
    "    \n",
    "    currxmin = currx\n",
    "    currymin = curry\n",
    "    currxmax = currx + currw\n",
    "    currymax = curry + currh\n",
    "    \n",
    "    candxmin = candx\n",
    "    candymin = candy\n",
    "    candxmax = candx + candw\n",
    "    candymax = candy + candh\n",
    "    \n",
    "    # If candidate is on top, and is close\n",
    "    if candymax <= currymin and candymax + threshold >= currymin:\n",
    "        return True\n",
    "    \n",
    "    # If candidate is on bottom and is close\n",
    "    if candymin >= currymax and currymax + threshold >= candymin:\n",
    "        return True\n",
    "    \n",
    "    # If intersecting at the top, merge it\n",
    "    if candymax >= currymin and candymin <= currymin:\n",
    "        return True\n",
    "    \n",
    "    # If intersecting at the bottom, merge it\n",
    "    if currymax >= candymin and currymin <= candymin:\n",
    "        return True\n",
    "    \n",
    "    # If intersecting on the sides or is inside, merge it\n",
    "    if (candymin >= currymin and\n",
    "        candymin <= currymax and\n",
    "        candymax >= currymin and\n",
    "        candymax <= currymax):\n",
    "        return True\n",
    "    \n",
    "    return False"
   ]
  },
  {
   "cell_type": "code",
   "execution_count": 24,
   "metadata": {
    "executionInfo": {
     "elapsed": 577,
     "status": "ok",
     "timestamp": 1685853814442,
     "user": {
      "displayName": "Harsh",
      "userId": "14338509782728632248"
     },
     "user_tz": -330
    },
    "id": "kFGoeHcg6d8N"
   },
   "outputs": [],
   "source": [
    "def euclidean(v1, v2):\n",
    "    return sum((p - q) ** 2 for p, q in zip(v1, v2)) ** .5\n",
    "\n",
    "def angle_between(p1, p2):\n",
    "    \n",
    "    deltaX = p1[0] - p2[0]\n",
    "    deltaY = p1[1] - p2[1]\n",
    "\n",
    "    return math.atan2(deltaY, deltaX) / math.pi * 180\n",
    "    \n",
    "def RectDist(rectA, rectB):\n",
    "    (rectAx, rectAy, rectAw, rectAh) = rectA\n",
    "    (rectBx, rectBy, rectBw, rectBh) = rectB\n",
    "    \n",
    "    return abs(rectAx + rectAx / 2 - rectBx - rectBx / 2)"
   ]
  },
  {
   "cell_type": "code",
   "execution_count": 25,
   "metadata": {
    "executionInfo": {
     "elapsed": 5,
     "status": "ok",
     "timestamp": 1685853816614,
     "user": {
      "displayName": "Harsh",
      "userId": "14338509782728632248"
     },
     "user_tz": -330
    },
    "id": "-YFWhyRi6d8N"
   },
   "outputs": [],
   "source": [
    "def getProbableYLabels(image, contours, xaxis, yaxis):\n",
    "    y_labels = []\n",
    "    \n",
    "    height, width, channels = image.shape\n",
    "    \n",
    "    (x1, y1, x2, y2) = xaxis\n",
    "    (x11, y11, x22, y22) = yaxis\n",
    "    \n",
    "    # Get the y-labels by finding the maximum\n",
    "    # intersections with the sweeping line\n",
    "    maxIntersection = 0\n",
    "    maxList = []\n",
    "    for i in range(x11):\n",
    "        count = 0\n",
    "        current = []\n",
    "        for index, rect in enumerate(contours):\n",
    "            if lineIntersectsRectX(i, rect):\n",
    "                count += 1\n",
    "                current.append(contours[index])\n",
    "                            \n",
    "        if count > maxIntersection:\n",
    "            maxIntersection = count\n",
    "            maxList = current\n",
    "                    \n",
    "    return image, maxList"
   ]
  },
  {
   "cell_type": "code",
   "execution_count": 63,
   "metadata": {
    "colab": {
     "base_uri": "https://localhost:8080/"
    },
    "executionInfo": {
     "elapsed": 3055,
     "status": "ok",
     "timestamp": 1685858405016,
     "user": {
      "displayName": "Harsh",
      "userId": "14338509782728632248"
     },
     "user_tz": -330
    },
    "id": "o1KhupVb8f9m",
    "outputId": "9889560f-bac9-4f7e-be7d-69e23c96474c"
   },
   "outputs": [
    {
     "name": "stdout",
     "output_type": "stream",
     "text": [
      "[get text-to-tick ratio] ticks_diff: [41.0, 41.0, 42.0, 41.0, 42.0, 40.0, 42.0], text_diff: [0.050000000000000044, 0.04999999999999982, 0.050000000000000044, 0.050000000000000044, 0.050000000000000044, 0.050000000000000044, 0.04999999999999982]\n",
      "[reject_outliers] ticks_diff: [41. 41. 41.], text_diff: [0.05 0.05 0.05 0.05 0.05]\n",
      "[1.55, 1.6, 1.65, 1.7, 1.75, 1.8, 1.85, 1.9] 0.0012195121951219523\n",
      "('1.7', (30, 165, 15, 10))\n",
      "[get text-to-tick ratio] ticks_diff: [59.0, 60.0, 58.0, 61.0, 58.0, 60.0, 59.0], text_diff: [50.0, 50.0, 50.0, 50.0, 50.0, 50.0, 50.0]\n",
      "[reject_outliers] ticks_diff: [59. 60. 60. 59.], text_diff: [50. 50. 50. 50. 50. 50. 50.]\n",
      "[450.0, 500.0, 550.0, 600.0, 650.0, 700.0, 750.0, 800.0] 0.8403361344537815\n",
      "('650', (343, 351, 21, 10))\n"
     ]
    }
   ],
   "source": [
    "axis_dict = {}\n",
    "\n",
    "for index, path in enumerate(Path(img_dir).iterdir()):\n",
    "        data_ = []\n",
    "        if path.name.endswith('.png') or path.name.endswith('.jpg') or path.name.endswith('.jpeg'):\n",
    "            filepath = img_dir + \"/\" + path.name\n",
    "            img = cv2.imread(filepath)\n",
    "            img = cv2.cvtColor(img, cv2.COLOR_BGR2RGB)\n",
    "            img_height, img_width, _ = img.shape\n",
    "            \n",
    "            # Axes detection\n",
    "            xaxis, yaxis = detectAxes(filepath)\n",
    "            \n",
    "            for (x1, y1, x2, y2) in [xaxis]:\n",
    "                xaxis = (x1, y1, x2, y2)\n",
    "\n",
    "            for (x1, y1, x2, y2) in [yaxis]:\n",
    "                yaxis = (x1, y1, x2, y2)\n",
    "\n",
    "            image_text = images_text[path.name]\n",
    "            img, x_labels, x_labels_list, _,y_labels , y_labels_list, _, legends, legendBoxes = getProbableLabels(img, image_text, xaxis, yaxis)\n",
    "            actual_image = img.copy()\n",
    "            \n",
    "            try:\n",
    "                list_text, normalize_ratio = getRatio(path, xaxis, yaxis)\n",
    "\n",
    "            except Exception as e:\n",
    "                print(e)\n",
    "                continue\n",
    "\n",
    "            print(list_text, normalize_ratio)\n",
    "            print(y_labels_list[len(y_labels_list)//2])\n",
    "\n",
    "            data_.append(normalize_ratio)\n",
    "            data_.append(y_labels_list) \n",
    "\n",
    "            list_text_x =[]\n",
    "            list_ticks_x = []\n",
    "\n",
    "\n",
    "            for text, (textx, texty, w, h) in x_labels_list:\n",
    "                list_text_x.append(float(text))\n",
    "                list_ticks_x.append(float(textx + w))\n",
    "\n",
    "            text_sorted = (sorted(list_text_x))\n",
    "            ticks_sorted  = (sorted(list_ticks_x))\n",
    "\n",
    "            ticks_diff = ([ticks_sorted[i] - ticks_sorted[i-1] for i in range(1, len(ticks_sorted))])\n",
    "            text_diff = ([text_sorted[i] - text_sorted[i-1] for i in range(1, len(text_sorted))])\n",
    "            print(\"[get text-to-tick ratio] ticks_diff: {0}, text_diff: {1}\".format(ticks_diff, text_diff))\n",
    "\n",
    "            # Detected text may not be perfect! Remove the outliers.\n",
    "            ticks_diff = reject_outliers(np.array(ticks_diff), m=1)\n",
    "            text_diff = reject_outliers(np.array(text_diff), m=1)\n",
    "            print(\"[reject_outliers] ticks_diff: {0}, text_diff: {1}\".format(ticks_diff, text_diff))\n",
    "\n",
    "            normalize_ratio_x = np.array(text_diff).mean() / np.array(ticks_diff).mean()\n",
    "\n",
    "            print(text_sorted, normalize_ratio_x)\n",
    "            print(x_labels_list[len(x_labels_list)//2])\n",
    "\n",
    "            data_.append(normalize_ratio_x)\n",
    "            data_.append(x_labels_list) \n",
    "\n",
    "            axis_dict[filepath] = data_\n",
    "\n"
   ]
  },
  {
   "cell_type": "code",
   "execution_count": 64,
   "metadata": {
    "colab": {
     "base_uri": "https://localhost:8080/"
    },
    "executionInfo": {
     "elapsed": 4,
     "status": "ok",
     "timestamp": 1685858406580,
     "user": {
      "displayName": "Harsh",
      "userId": "14338509782728632248"
     },
     "user_tz": -330
    },
    "id": "EP-lsnAA-Ivr",
    "outputId": "254d7e35-d697-49e6-e5fc-e21439f1415e"
   },
   "outputs": [
    {
     "name": "stdout",
     "output_type": "stream",
     "text": [
      "{'test/1096gr4_axes.png': [0.0012195121951219523, [('1.9', (30, 0, 15, 10)), ('1.85', (23, 42, 22, 9)), ('1.8', (30, 82, 15, 10)), ('1.75', (22, 123, 24, 11)), ('1.7', (30, 165, 15, 10)), ('1.65', (23, 207, 22, 10)), ('1.6', (30, 247, 16, 10)), ('1.55', (22, 288, 24, 11))], 0.8403361344537815, [('450', (106, 351, 20, 10)), ('500', (165, 351, 20, 10)), ('550', (225, 351, 20, 10)), ('600', (283, 351, 20, 10)), ('650', (343, 351, 21, 10)), ('700', (402, 351, 20, 10)), ('750', (461, 351, 21, 10)), ('800', (520, 351, 21, 10))]]}\n"
     ]
    }
   ],
   "source": [
    "print(axis_dict)"
   ]
  }
 ],
 "metadata": {
  "colab": {
   "provenance": []
  },
  "kernelspec": {
   "display_name": "Python 3 (ipykernel)",
   "language": "python",
   "name": "python3"
  },
  "language_info": {
   "codemirror_mode": {
    "name": "ipython",
    "version": 3
   },
   "file_extension": ".py",
   "mimetype": "text/x-python",
   "name": "python",
   "nbconvert_exporter": "python",
   "pygments_lexer": "ipython3",
   "version": "3.9.7"
  }
 },
 "nbformat": 4,
 "nbformat_minor": 1
}
